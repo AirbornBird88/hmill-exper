{
  "cells": [
    {
      "cell_type": "markdown",
      "metadata": {
        "id": "view-in-github",
        "colab_type": "text"
      },
      "source": [
        "<a href=\"https://colab.research.google.com/github/AirbornBird88/hmill-exper/blob/main/Arxiv_classification_with_Mill_Julia.ipynb\" target=\"_parent\"><img src=\"https://colab.research.google.com/assets/colab-badge.svg\" alt=\"Open In Colab\"/></a>"
      ]
    },
    {
      "cell_type": "markdown",
      "metadata": {
        "id": "tQ1r1bbb0yBv"
      },
      "source": [
        "# <img src=\"https://github.com/JuliaLang/julia-logo-graphics/raw/master/images/julia-logo-color.png\" height=\"100\" /> _Colab Notebook_\n",
        "\n",
        "## Instructions\n",
        "1. Work on a copy of this notebook: _File_ > _Save a copy in Drive_ (you will need a Google account). Alternatively, you can download the notebook using _File_ > _Download .ipynb_, then upload it to [Colab](https://colab.research.google.com/).\n",
        "2. If you need a GPU: _Runtime_ > _Change runtime type_ > _Harware accelerator_ = _GPU_.\n",
        "3. Execute the following cell (click on it and press Ctrl+Enter) to install Julia, IJulia and other packages (if needed, update `JULIA_VERSION` and the other parameters). This takes a couple of minutes.\n",
        "4. Reload this page (press Ctrl+R, or ⌘+R, or the F5 key) and continue to the next section.\n",
        "\n",
        "_Notes_:\n",
        "* If your Colab Runtime gets reset (e.g., due to inactivity), repeat steps 2, 3 and 4.\n",
        "* After installation, if you want to change the Julia version or activate/deactivate the GPU, you will need to reset the Runtime: _Runtime_ > _Factory reset runtime_ and repeat steps 3 and 4."
      ]
    },
    {
      "cell_type": "markdown",
      "source": [
        "# Instalace Julia v prostředí Colab\n"
      ],
      "metadata": {
        "id": "LouHo1svkgZM"
      }
    },
    {
      "cell_type": "code",
      "execution_count": null,
      "metadata": {
        "colab": {
          "base_uri": "https://localhost:8080/"
        },
        "id": "GIeFXS0F0zww",
        "outputId": "9a01ce5d-264e-4ef0-bcf4-ba94fb7fc7de"
      },
      "outputs": [
        {
          "output_type": "stream",
          "name": "stdout",
          "text": [
            "Installing Julia 1.8.5 on the current Colab Runtime...\n",
            "2024-06-07 07:41:58 URL:https://storage.googleapis.com/julialang2/bin/linux/x64/1.8/julia-1.8.5-linux-x86_64.tar.gz [130873886/130873886] -> \"/tmp/julia.tar.gz\" [1]\n",
            "Installing Julia package IJulia...\n",
            "Installing Julia package BenchmarkTools...\n",
            "Installing Julia package CUDA...\n"
          ]
        }
      ],
      "source": [
        "%%shell\n",
        "set -e\n",
        "\n",
        "#---------------------------------------------------#\n",
        "JULIA_VERSION=\"1.8.5\" # any version ≥ 0.7.0\n",
        "JULIA_PACKAGES=\"IJulia BenchmarkTools\"\n",
        "JULIA_PACKAGES_IF_GPU=\"CUDA\" # or CuArrays for older Julia versions\n",
        "JULIA_NUM_THREADS=2\n",
        "#---------------------------------------------------#\n",
        "\n",
        "if [ -z `which julia` ]; then\n",
        "  # Install Julia\n",
        "  JULIA_VER=`cut -d '.' -f -2 <<< \"$JULIA_VERSION\"`\n",
        "  echo \"Installing Julia $JULIA_VERSION on the current Colab Runtime...\"\n",
        "  BASE_URL=\"https://julialang-s3.julialang.org/bin/linux/x64\"\n",
        "  URL=\"$BASE_URL/$JULIA_VER/julia-$JULIA_VERSION-linux-x86_64.tar.gz\"\n",
        "  wget -nv $URL -O /tmp/julia.tar.gz # -nv means \"not verbose\"\n",
        "  tar -x -f /tmp/julia.tar.gz -C /usr/local --strip-components 1\n",
        "  rm /tmp/julia.tar.gz\n",
        "\n",
        "  # Install Packages\n",
        "  nvidia-smi -L &> /dev/null && export GPU=1 || export GPU=0\n",
        "  if [ $GPU -eq 1 ]; then\n",
        "    JULIA_PACKAGES=\"$JULIA_PACKAGES $JULIA_PACKAGES_IF_GPU\"\n",
        "  fi\n",
        "  for PKG in `echo $JULIA_PACKAGES`; do\n",
        "    echo \"Installing Julia package $PKG...\"\n",
        "    julia -e 'using Pkg; pkg\"add '$PKG'; precompile;\"' &> /dev/null\n",
        "  done\n",
        "\n",
        "  # Install kernel and rename it to \"julia\"\n",
        "  echo \"Installing IJulia kernel...\"\n",
        "  julia -e 'using IJulia; IJulia.installkernel(\"julia\", env=Dict(\n",
        "      \"JULIA_NUM_THREADS\"=>\"'\"$JULIA_NUM_THREADS\"'\"))'\n",
        "  KERNEL_DIR=`julia -e \"using IJulia; print(IJulia.kerneldir())\"`\n",
        "  KERNEL_NAME=`ls -d \"$KERNEL_DIR\"/julia*`\n",
        "  mv -f $KERNEL_NAME \"$KERNEL_DIR\"/julia\n",
        "\n",
        "  echo ''\n",
        "  echo \"Successfully installed `julia -v`!\"\n",
        "  echo \"Please reload this page (press Ctrl+R, ⌘+R, or the F5 key) then\"\n",
        "  echo \"jump to the 'Checking the Installation' section.\"\n",
        "fi"
      ]
    },
    {
      "cell_type": "markdown",
      "metadata": {
        "id": "-OS3Ac017T1i"
      },
      "source": [
        "# Checking the Installation\n",
        "The `versioninfo()` function should print your Julia version and some other info about the system:"
      ]
    },
    {
      "cell_type": "code",
      "execution_count": 1,
      "metadata": {
        "colab": {
          "base_uri": "https://localhost:8080/"
        },
        "id": "EEzvvzCl1i0F",
        "outputId": "c1dce41b-5666-4bfd-b49b-993e25ae9640"
      },
      "outputs": [
        {
          "output_type": "stream",
          "name": "stdout",
          "text": [
            "Julia Version 1.8.5\n",
            "Commit 17cfb8e65ea (2023-01-08 06:45 UTC)\n",
            "Platform Info:\n",
            "  OS: Linux (x86_64-linux-gnu)\n",
            "  CPU: 2 × Intel(R) Xeon(R) CPU @ 2.20GHz\n",
            "  WORD_SIZE: 64\n",
            "  LIBM: libopenlibm\n",
            "  LLVM: libLLVM-13.0.1 (ORCJIT, broadwell)\n",
            "  Threads: 2 on 2 virtual cores\n",
            "Environment:\n",
            "  LD_LIBRARY_PATH = /usr/lib64-nvidia\n",
            "  JULIA_NUM_THREADS = 2\n"
          ]
        }
      ],
      "source": [
        "versioninfo()"
      ]
    },
    {
      "cell_type": "code",
      "execution_count": null,
      "metadata": {
        "colab": {
          "base_uri": "https://localhost:8080/"
        },
        "id": "YjM_qq54lCcs",
        "outputId": "7358c74c-8433-4523-b866-ebdb8f0824f6"
      },
      "outputs": [
        {
          "output_type": "stream",
          "name": "stdout",
          "text": [
            "  305.271 ms (2 allocations: 32.00 MiB)\n"
          ]
        }
      ],
      "source": [
        "using BenchmarkTools\n",
        "\n",
        "M = rand(2^11, 2^11)\n",
        "\n",
        "@btime $M * $M;"
      ]
    },
    {
      "cell_type": "code",
      "execution_count": null,
      "metadata": {
        "colab": {
          "base_uri": "https://localhost:8080/"
        },
        "id": "XciCcMAJOT3_",
        "outputId": "d392345b-ed24-42ca-ea2e-2fe84b48b1d0"
      },
      "outputs": [
        {
          "output_type": "stream",
          "name": "stdout",
          "text": [
            "Thu Jun  6 18:22:10 2024       \n",
            "+---------------------------------------------------------------------------------------+\n",
            "| NVIDIA-SMI 535.104.05             Driver Version: 535.104.05   CUDA Version: 12.2     |\n",
            "|-----------------------------------------+----------------------+----------------------+\n",
            "| GPU  Name                 Persistence-M | Bus-Id        Disp.A | Volatile Uncorr. ECC |\n",
            "| Fan  Temp   Perf          Pwr:Usage/Cap |         Memory-Usage | GPU-Util  Compute M. |\n",
            "|                                         |                      |               MIG M. |\n",
            "|=========================================+======================+======================|\n",
            "|   0  Tesla T4                       Off | 00000000:00:04.0 Off |                    0 |\n",
            "| N/A   42C    P8               9W /  70W |      3MiB / 15360MiB |      0%      Default |\n",
            "|                                         |                      |                  N/A |\n",
            "+-----------------------------------------+----------------------+----------------------+\n",
            "                                                                                         \n",
            "+---------------------------------------------------------------------------------------+\n",
            "| Processes:                                                                            |\n",
            "|  GPU   GI   CI        PID   Type   Process name                            GPU Memory |\n",
            "|        ID   ID                                                             Usage      |\n",
            "|=======================================================================================|\n",
            "|  No running processes found                                                           |\n",
            "+---------------------------------------------------------------------------------------+\n",
            "  304.311 ms (2 allocations: 32.00 MiB)\n"
          ]
        }
      ],
      "source": [
        "try\n",
        "    using CUDA\n",
        "catch\n",
        "    println(\"No GPU found.\")\n",
        "else\n",
        "    run(`nvidia-smi`)\n",
        "    # Create a new random matrix directly on the GPU:\n",
        "    M_on_gpu = CUDA.CURAND.rand(2^11, 2^11)\n",
        "    @btime $M_on_gpu * $M_on_gpu; nothing\n",
        "end"
      ]
    },
    {
      "cell_type": "markdown",
      "metadata": {
        "id": "8RC1QNNqk6h1"
      },
      "source": [
        "# Need Help?\n",
        "\n",
        "* Learning: https://julialang.org/learning/\n",
        "* Documentation: https://docs.julialang.org/\n",
        "* Questions & Discussions:\n",
        "  * https://discourse.julialang.org/\n",
        "  * http://julialang.slack.com/\n",
        "  * https://stackoverflow.com/questions/tagged/julia\n",
        "\n",
        "If you ever ask for help or file an issue about Julia, you should generally provide the output of `versioninfo()`."
      ]
    },
    {
      "cell_type": "markdown",
      "metadata": {
        "id": "2UMidUQB03vJ"
      },
      "source": [
        "Add new code cells by clicking the `+ Code` button (or _Insert_ > _Code cell_).\n",
        "\n",
        "Have fun!\n",
        "\n",
        "<img src=\"https://raw.githubusercontent.com/JuliaLang/julia-logo-graphics/master/images/julia-logo-mask.png\" height=\"100\" />"
      ]
    },
    {
      "cell_type": "code",
      "execution_count": 2,
      "metadata": {
        "colab": {
          "base_uri": "https://localhost:8080/"
        },
        "id": "50vDy4H6rNqn",
        "outputId": "3e4995d5-e7a3-4c00-d348-c02323cefb21"
      },
      "outputs": [
        {
          "output_type": "stream",
          "name": "stdout",
          "text": [
            "Julia\n",
            "Python\n",
            "R\n"
          ]
        }
      ],
      "source": [
        "languages = [\"Julia\", \"Python\", \"R\"]\n",
        "\n",
        "for lang in languages\n",
        "  println(lang)\n",
        "end"
      ]
    },
    {
      "cell_type": "markdown",
      "source": [
        "# Instalace Julia balíčků"
      ],
      "metadata": {
        "id": "KeGvUQeNkygk"
      }
    },
    {
      "cell_type": "code",
      "execution_count": null,
      "metadata": {
        "id": "V-StYvRumxXW"
      },
      "outputs": [],
      "source": [
        "# Julia code/packages\n",
        "using Pkg\n",
        "\n",
        "Pkg.add(\"IJulia\")\n",
        "Pkg.add(\"Mill\")\n",
        "Pkg.add(\"DataFrames\")\n",
        "Pkg.add(\"Flux\")\n",
        "Pkg.add(\"PyCall\")\n",
        "Pkg.add(\"JSON\")\n",
        "Pkg.add(\"MLUtils\")\n",
        "Pkg.add(\"Zygote\")\n",
        "Pkg.add(\"Statistics\")\n",
        "Pkg.add(\"JsonGrinder\")"
      ]
    },
    {
      "cell_type": "markdown",
      "source": [
        "# Zkouška volání Python kódu v Julia"
      ],
      "metadata": {
        "id": "jqpezwAAlAxU"
      }
    },
    {
      "cell_type": "code",
      "source": [
        "# using PyCall"
      ],
      "metadata": {
        "id": "lnvYXuOwHspe"
      },
      "execution_count": null,
      "outputs": []
    },
    {
      "cell_type": "code",
      "execution_count": null,
      "metadata": {
        "colab": {
          "base_uri": "https://localhost:8080/",
          "height": 72
        },
        "id": "X9i4LncIpRBb",
        "outputId": "171c6dd6-72f6-498f-88ee-f3971c4778b3"
      },
      "outputs": [
        {
          "output_type": "error",
          "ename": "LoadError",
          "evalue": "LoadError: UndefVarError: @python_str not defined\nin expression starting at In[2]:2",
          "traceback": [
            "LoadError: UndefVarError: @python_str not defined\nin expression starting at In[2]:2",
            ""
          ]
        }
      ],
      "source": [
        "# Use the macro to install Kaggle and download the dataset\n",
        "python\"\"\"\n",
        "import subprocess\n",
        "import sys\n",
        "\n",
        "# Install Kaggle\n",
        "subprocess.run([sys.executable, '-m', 'pip', 'install', 'kaggle'])\n",
        "\"\"\""
      ]
    },
    {
      "cell_type": "markdown",
      "source": [
        "# Připojení k Kaggle API a stažení dat do Colabu\n",
        "\n",
        "Tuhle část provedeme pomocí Python kódu. Je tudíž třeba přepnout runtime na Python."
      ],
      "metadata": {
        "id": "UqInW6L1lI6b"
      }
    },
    {
      "cell_type": "code",
      "source": [
        "!pip install kaggle"
      ],
      "metadata": {
        "id": "K4-CzMB0j_GX",
        "colab": {
          "base_uri": "https://localhost:8080/"
        },
        "outputId": "18836221-efde-47bc-a73d-1ffc3d7ad8cf"
      },
      "execution_count": null,
      "outputs": [
        {
          "output_type": "stream",
          "name": "stdout",
          "text": [
            "Requirement already satisfied: kaggle in /usr/local/lib/python3.10/dist-packages (1.6.14)\n",
            "Requirement already satisfied: six>=1.10 in /usr/local/lib/python3.10/dist-packages (from kaggle) (1.16.0)\n",
            "Requirement already satisfied: certifi>=2023.7.22 in /usr/local/lib/python3.10/dist-packages (from kaggle) (2024.6.2)\n",
            "Requirement already satisfied: python-dateutil in /usr/local/lib/python3.10/dist-packages (from kaggle) (2.8.2)\n",
            "Requirement already satisfied: requests in /usr/local/lib/python3.10/dist-packages (from kaggle) (2.31.0)\n",
            "Requirement already satisfied: tqdm in /usr/local/lib/python3.10/dist-packages (from kaggle) (4.66.4)\n",
            "Requirement already satisfied: python-slugify in /usr/local/lib/python3.10/dist-packages (from kaggle) (8.0.4)\n",
            "Requirement already satisfied: urllib3 in /usr/local/lib/python3.10/dist-packages (from kaggle) (2.0.7)\n",
            "Requirement already satisfied: bleach in /usr/local/lib/python3.10/dist-packages (from kaggle) (6.1.0)\n",
            "Requirement already satisfied: webencodings in /usr/local/lib/python3.10/dist-packages (from bleach->kaggle) (0.5.1)\n",
            "Requirement already satisfied: text-unidecode>=1.3 in /usr/local/lib/python3.10/dist-packages (from python-slugify->kaggle) (1.3)\n",
            "Requirement already satisfied: charset-normalizer<4,>=2 in /usr/local/lib/python3.10/dist-packages (from requests->kaggle) (3.3.2)\n",
            "Requirement already satisfied: idna<4,>=2.5 in /usr/local/lib/python3.10/dist-packages (from requests->kaggle) (3.7)\n"
          ]
        }
      ]
    },
    {
      "cell_type": "code",
      "execution_count": null,
      "metadata": {
        "colab": {
          "base_uri": "https://localhost:8080/",
          "height": 90
        },
        "id": "q3OpS0VtxuJj",
        "outputId": "c27b2ed6-abb1-4fa6-f241-2eac8773a2c0"
      },
      "outputs": [
        {
          "output_type": "display_data",
          "data": {
            "text/plain": [
              "<IPython.core.display.HTML object>"
            ],
            "text/html": [
              "\n",
              "     <input type=\"file\" id=\"files-9c2ff834-b311-4609-90bf-ebf2e3ee1d8f\" name=\"files[]\" multiple disabled\n",
              "        style=\"border:none\" />\n",
              "     <output id=\"result-9c2ff834-b311-4609-90bf-ebf2e3ee1d8f\">\n",
              "      Upload widget is only available when the cell has been executed in the\n",
              "      current browser session. Please rerun this cell to enable.\n",
              "      </output>\n",
              "      <script>// Copyright 2017 Google LLC\n",
              "//\n",
              "// Licensed under the Apache License, Version 2.0 (the \"License\");\n",
              "// you may not use this file except in compliance with the License.\n",
              "// You may obtain a copy of the License at\n",
              "//\n",
              "//      http://www.apache.org/licenses/LICENSE-2.0\n",
              "//\n",
              "// Unless required by applicable law or agreed to in writing, software\n",
              "// distributed under the License is distributed on an \"AS IS\" BASIS,\n",
              "// WITHOUT WARRANTIES OR CONDITIONS OF ANY KIND, either express or implied.\n",
              "// See the License for the specific language governing permissions and\n",
              "// limitations under the License.\n",
              "\n",
              "/**\n",
              " * @fileoverview Helpers for google.colab Python module.\n",
              " */\n",
              "(function(scope) {\n",
              "function span(text, styleAttributes = {}) {\n",
              "  const element = document.createElement('span');\n",
              "  element.textContent = text;\n",
              "  for (const key of Object.keys(styleAttributes)) {\n",
              "    element.style[key] = styleAttributes[key];\n",
              "  }\n",
              "  return element;\n",
              "}\n",
              "\n",
              "// Max number of bytes which will be uploaded at a time.\n",
              "const MAX_PAYLOAD_SIZE = 100 * 1024;\n",
              "\n",
              "function _uploadFiles(inputId, outputId) {\n",
              "  const steps = uploadFilesStep(inputId, outputId);\n",
              "  const outputElement = document.getElementById(outputId);\n",
              "  // Cache steps on the outputElement to make it available for the next call\n",
              "  // to uploadFilesContinue from Python.\n",
              "  outputElement.steps = steps;\n",
              "\n",
              "  return _uploadFilesContinue(outputId);\n",
              "}\n",
              "\n",
              "// This is roughly an async generator (not supported in the browser yet),\n",
              "// where there are multiple asynchronous steps and the Python side is going\n",
              "// to poll for completion of each step.\n",
              "// This uses a Promise to block the python side on completion of each step,\n",
              "// then passes the result of the previous step as the input to the next step.\n",
              "function _uploadFilesContinue(outputId) {\n",
              "  const outputElement = document.getElementById(outputId);\n",
              "  const steps = outputElement.steps;\n",
              "\n",
              "  const next = steps.next(outputElement.lastPromiseValue);\n",
              "  return Promise.resolve(next.value.promise).then((value) => {\n",
              "    // Cache the last promise value to make it available to the next\n",
              "    // step of the generator.\n",
              "    outputElement.lastPromiseValue = value;\n",
              "    return next.value.response;\n",
              "  });\n",
              "}\n",
              "\n",
              "/**\n",
              " * Generator function which is called between each async step of the upload\n",
              " * process.\n",
              " * @param {string} inputId Element ID of the input file picker element.\n",
              " * @param {string} outputId Element ID of the output display.\n",
              " * @return {!Iterable<!Object>} Iterable of next steps.\n",
              " */\n",
              "function* uploadFilesStep(inputId, outputId) {\n",
              "  const inputElement = document.getElementById(inputId);\n",
              "  inputElement.disabled = false;\n",
              "\n",
              "  const outputElement = document.getElementById(outputId);\n",
              "  outputElement.innerHTML = '';\n",
              "\n",
              "  const pickedPromise = new Promise((resolve) => {\n",
              "    inputElement.addEventListener('change', (e) => {\n",
              "      resolve(e.target.files);\n",
              "    });\n",
              "  });\n",
              "\n",
              "  const cancel = document.createElement('button');\n",
              "  inputElement.parentElement.appendChild(cancel);\n",
              "  cancel.textContent = 'Cancel upload';\n",
              "  const cancelPromise = new Promise((resolve) => {\n",
              "    cancel.onclick = () => {\n",
              "      resolve(null);\n",
              "    };\n",
              "  });\n",
              "\n",
              "  // Wait for the user to pick the files.\n",
              "  const files = yield {\n",
              "    promise: Promise.race([pickedPromise, cancelPromise]),\n",
              "    response: {\n",
              "      action: 'starting',\n",
              "    }\n",
              "  };\n",
              "\n",
              "  cancel.remove();\n",
              "\n",
              "  // Disable the input element since further picks are not allowed.\n",
              "  inputElement.disabled = true;\n",
              "\n",
              "  if (!files) {\n",
              "    return {\n",
              "      response: {\n",
              "        action: 'complete',\n",
              "      }\n",
              "    };\n",
              "  }\n",
              "\n",
              "  for (const file of files) {\n",
              "    const li = document.createElement('li');\n",
              "    li.append(span(file.name, {fontWeight: 'bold'}));\n",
              "    li.append(span(\n",
              "        `(${file.type || 'n/a'}) - ${file.size} bytes, ` +\n",
              "        `last modified: ${\n",
              "            file.lastModifiedDate ? file.lastModifiedDate.toLocaleDateString() :\n",
              "                                    'n/a'} - `));\n",
              "    const percent = span('0% done');\n",
              "    li.appendChild(percent);\n",
              "\n",
              "    outputElement.appendChild(li);\n",
              "\n",
              "    const fileDataPromise = new Promise((resolve) => {\n",
              "      const reader = new FileReader();\n",
              "      reader.onload = (e) => {\n",
              "        resolve(e.target.result);\n",
              "      };\n",
              "      reader.readAsArrayBuffer(file);\n",
              "    });\n",
              "    // Wait for the data to be ready.\n",
              "    let fileData = yield {\n",
              "      promise: fileDataPromise,\n",
              "      response: {\n",
              "        action: 'continue',\n",
              "      }\n",
              "    };\n",
              "\n",
              "    // Use a chunked sending to avoid message size limits. See b/62115660.\n",
              "    let position = 0;\n",
              "    do {\n",
              "      const length = Math.min(fileData.byteLength - position, MAX_PAYLOAD_SIZE);\n",
              "      const chunk = new Uint8Array(fileData, position, length);\n",
              "      position += length;\n",
              "\n",
              "      const base64 = btoa(String.fromCharCode.apply(null, chunk));\n",
              "      yield {\n",
              "        response: {\n",
              "          action: 'append',\n",
              "          file: file.name,\n",
              "          data: base64,\n",
              "        },\n",
              "      };\n",
              "\n",
              "      let percentDone = fileData.byteLength === 0 ?\n",
              "          100 :\n",
              "          Math.round((position / fileData.byteLength) * 100);\n",
              "      percent.textContent = `${percentDone}% done`;\n",
              "\n",
              "    } while (position < fileData.byteLength);\n",
              "  }\n",
              "\n",
              "  // All done.\n",
              "  yield {\n",
              "    response: {\n",
              "      action: 'complete',\n",
              "    }\n",
              "  };\n",
              "}\n",
              "\n",
              "scope.google = scope.google || {};\n",
              "scope.google.colab = scope.google.colab || {};\n",
              "scope.google.colab._files = {\n",
              "  _uploadFiles,\n",
              "  _uploadFilesContinue,\n",
              "};\n",
              "})(self);\n",
              "</script> "
            ]
          },
          "metadata": {}
        },
        {
          "output_type": "stream",
          "name": "stdout",
          "text": [
            "Saving kaggle_mill.json to kaggle_mill.json\n"
          ]
        },
        {
          "output_type": "execute_result",
          "data": {
            "text/plain": [
              "{'kaggle_mill.json': b'{\"username\":\"airbornbird88\",\"key\":\"523660c5fbf3cccd2135247a1a03565c\"}'}"
            ]
          },
          "metadata": {},
          "execution_count": 2
        }
      ],
      "source": [
        "# Upload Kaggle API Key\n",
        "from google.colab import files\n",
        "files.upload()  # Upload the kaggle.json file"
      ]
    },
    {
      "cell_type": "code",
      "execution_count": null,
      "metadata": {
        "id": "oaTRiwvNx7sD"
      },
      "outputs": [],
      "source": [
        "# Set up Kaggle configuration\n",
        "!mkdir -p ~/.kaggle\n",
        "!mv kaggle_mill.json ~/.kaggle/\n",
        "!chmod 600 ~/.kaggle/kaggle_mill.json"
      ]
    },
    {
      "cell_type": "code",
      "execution_count": null,
      "metadata": {
        "colab": {
          "base_uri": "https://localhost:8080/"
        },
        "id": "9rdMEswlzLSS",
        "outputId": "ad26f7e9-70ce-4cb8-e161-985dc1e62c91"
      },
      "outputs": [
        {
          "output_type": "stream",
          "name": "stdout",
          "text": [
            "Dataset URL: https://www.kaggle.com/datasets/Cornell-University/arxiv\n",
            "License(s): CC0-1.0\n",
            "Downloading arxiv.zip to /content\n",
            " 99% 1.28G/1.29G [00:18<00:00, 27.0MB/s]\n",
            "100% 1.29G/1.29G [00:18<00:00, 75.0MB/s]\n"
          ]
        }
      ],
      "source": [
        "# Download the arXiv dataset\n",
        "!kaggle datasets download -d Cornell-University/arxiv"
      ]
    },
    {
      "cell_type": "code",
      "execution_count": null,
      "metadata": {
        "colab": {
          "base_uri": "https://localhost:8080/"
        },
        "id": "ttqGaudbzjxR",
        "outputId": "ce4aee65-9be1-4f9e-a98b-bc87a1383edf"
      },
      "outputs": [
        {
          "output_type": "stream",
          "name": "stdout",
          "text": [
            "Archive:  arxiv.zip\n",
            "  inflating: arxiv-metadata-oai-snapshot.json  \n"
          ]
        }
      ],
      "source": [
        "# Extract the dataset\n",
        "!unzip arxiv.zip"
      ]
    },
    {
      "cell_type": "code",
      "execution_count": null,
      "metadata": {
        "colab": {
          "base_uri": "https://localhost:8080/"
        },
        "id": "AbiE0slRzc_J",
        "outputId": "25802c9c-41fe-410f-eeda-c772b302c43a"
      },
      "outputs": [
        {
          "output_type": "stream",
          "name": "stdout",
          "text": [
            "arxiv-metadata-oai-snapshot.json  arxiv.zip  \u001b[0m\u001b[01;34msample_data\u001b[0m/\n"
          ]
        }
      ],
      "source": [
        "ls /content"
      ]
    },
    {
      "cell_type": "code",
      "execution_count": null,
      "metadata": {
        "colab": {
          "base_uri": "https://localhost:8080/"
        },
        "id": "FKwxfKFJ0XiI",
        "outputId": "f05dfb54-f695-4a74-cc07-bc14291b1bd4"
      },
      "outputs": [
        {
          "output_type": "stream",
          "name": "stdout",
          "text": [
            "-rw-r--r-- 1 root root 4.0G Jun  1 23:53 arxiv-metadata-oai-snapshot.json\n"
          ]
        }
      ],
      "source": [
        "ls -lh arxiv-metadata-oai-snapshot.json"
      ]
    },
    {
      "cell_type": "markdown",
      "source": [
        "# Předzpracování dat\n",
        "\n",
        "V rámci předzracování je třeba pouze parsovat příchozí data z Kaggle API do vhodné podoby. Parsing by měl rozdělit JSON data na jednotlivá pozorování (individuální JSON objekt s metadaty jednoho ArXiv článku)."
      ],
      "metadata": {
        "id": "VcwhOgXOoOcR"
      }
    },
    {
      "cell_type": "code",
      "execution_count": 4,
      "metadata": {
        "id": "20e6ln2L1b2Y",
        "colab": {
          "base_uri": "https://localhost:8080/"
        },
        "outputId": "63687367-4384-4c95-d37e-41cdfcb81aa8"
      },
      "outputs": [
        {
          "output_type": "stream",
          "name": "stdout",
          "text": [
            "Contents of /content:\n"
          ]
        },
        {
          "output_type": "execute_result",
          "data": {
            "text/plain": [
              "4-element Vector{String}:\n",
              " \".config\"\n",
              " \"arxiv-metadata-oai-snapshot.json\"\n",
              " \"arxiv.zip\"\n",
              " \"sample_data\""
            ]
          },
          "metadata": {},
          "execution_count": 4
        }
      ],
      "source": [
        "# List the contents of the /content directory\n",
        "content_dir = \"/content\"\n",
        "println(\"Contents of $content_dir:\")\n",
        "readdir(content_dir)"
      ]
    },
    {
      "cell_type": "code",
      "execution_count": 5,
      "metadata": {
        "colab": {
          "base_uri": "https://localhost:8080/"
        },
        "id": "5kzzZCwK2B5_",
        "outputId": "2dbd4483-70b0-4e59-dc64-5da90d9c7b7d"
      },
      "outputs": [
        {
          "output_type": "stream",
          "name": "stderr",
          "text": [
            "\u001b[33m\u001b[1m┌ \u001b[22m\u001b[39m\u001b[33m\u001b[1mWarning: \u001b[22m\u001b[39mPkg.installed() is deprecated\n",
            "\u001b[33m\u001b[1m└ \u001b[22m\u001b[39m\u001b[90m@ Pkg /cache/build/default-amdci4-2/julialang/julia-release-1-dot-8/usr/share/julia/stdlib/v1.8/Pkg/src/Pkg.jl:675\u001b[39m\n"
          ]
        },
        {
          "output_type": "stream",
          "name": "stdout",
          "text": [
            "Flux is installed.\n",
            "Mill is installed.\n"
          ]
        },
        {
          "output_type": "stream",
          "name": "stderr",
          "text": [
            "\u001b[33m\u001b[1m┌ \u001b[22m\u001b[39m\u001b[33m\u001b[1mWarning: \u001b[22m\u001b[39mPkg.installed() is deprecated\n",
            "\u001b[33m\u001b[1m└ \u001b[22m\u001b[39m\u001b[90m@ Pkg /cache/build/default-amdci4-2/julialang/julia-release-1-dot-8/usr/share/julia/stdlib/v1.8/Pkg/src/Pkg.jl:675\u001b[39m\n"
          ]
        }
      ],
      "source": [
        "# Check if we have the julia packages\n",
        "\n",
        "using Pkg\n",
        "\n",
        "# Check if Flux is installed\n",
        "if haskey(Pkg.installed(), \"Flux\")\n",
        "    println(\"Flux is installed.\")\n",
        "else\n",
        "    println(\"Flux is not installed.\")\n",
        "end\n",
        "\n",
        "# Check if Mill is installed\n",
        "if haskey(Pkg.installed(), \"Mill\")\n",
        "    println(\"Mill is installed.\")\n",
        "else\n",
        "    println(\"Mill is not installed.\")\n",
        "end\n"
      ]
    },
    {
      "cell_type": "markdown",
      "metadata": {
        "id": "hgceDLaU5EfD"
      },
      "source": [
        "## Schema Visualization\n",
        "In this example we show how can schema be turned into HTML interactive visualization, which helps to examine the schema, especially when dealing with large and heterogeneous data."
      ]
    },
    {
      "cell_type": "code",
      "execution_count": null,
      "metadata": {
        "id": "SHfAZYX72tMO"
      },
      "outputs": [],
      "source": [
        "# using JsonGrinder, JSON\n",
        "# import JsonGrinder: generate_html"
      ]
    },
    {
      "cell_type": "markdown",
      "source": [
        "# Parsing JSON dat do vhodné reprezentace.\n",
        "\n",
        "Definice vektoru dictionaries. Dictionary je dvojice klíč-hodnota a odpovídá jednomu pozorování (v tomto případě 1 ArXiv článek/Json objekt s metadaty).\n",
        "\n",
        "Dále je třeba oddělit labely (predikovaná proměnná categories) od zbytku dat (prediktorŮ)."
      ],
      "metadata": {
        "id": "ZRCs0zaQlp60"
      }
    },
    {
      "cell_type": "code",
      "source": [
        "using JSON\n",
        "\n",
        "# File path\n",
        "data_file = \"/content/arxiv-metadata-oai-snapshot.json\"\n",
        "\n",
        "# Vector to store parsed JSON objects\n",
        "samples = Vector{Dict}()\n",
        "\n",
        "# Maximum number of samples to parse\n",
        "max_samples = 5000\n",
        "\n",
        "# Open the file\n",
        "open(data_file) do file\n",
        "    # Read and parse JSON objects line by line\n",
        "    for line in eachline(file)\n",
        "        # Parse each line as a JSON object and push it to the samples vector\n",
        "        push!(samples, JSON.Parser.parse(line))\n",
        "\n",
        "        # Check if we've reached the maximum number of samples\n",
        "        if length(samples) >= max_samples\n",
        "            break\n",
        "        end\n",
        "    end\n",
        "end\n"
      ],
      "metadata": {
        "id": "IyoDZbWtpU3o"
      },
      "execution_count": 6,
      "outputs": []
    },
    {
      "cell_type": "code",
      "execution_count": 39,
      "metadata": {
        "id": "vnDOJbBFAKD1",
        "colab": {
          "base_uri": "https://localhost:8080/"
        },
        "outputId": "3b63211d-b4f2-485c-f71f-eace07d8e677"
      },
      "outputs": [
        {
          "output_type": "stream",
          "name": "stdout",
          "text": [
            "{\n",
            "  \"journal-ref\": \"Phys.Rev.D76:013009,2007\",\n",
            "  \"doi\": \"10.1103/PhysRevD.76.013009\",\n",
            "  \"id\": \"0704.0001\",\n",
            "  \"comments\": \"37 pages, 15 figures; published version\",\n",
            "  \"update_date\": \"2008-11-26\",\n",
            "  \"report-no\": \"ANL-HEP-PR-07-12\",\n",
            "  \"versions\": [\n",
            "    {\n",
            "      \"created\": \"Mon, 2 Apr 2007 19:18:42 GMT\",\n",
            "      \"version\": \"v1\"\n",
            "    },\n",
            "    {\n",
            "      \"created\": \"Tue, 24 Jul 2007 20:10:27 GMT\",\n",
            "      \"version\": \"v2\"\n",
            "    }\n",
            "  ],\n",
            "  \"authors_parsed\": [\n",
            "    [\n",
            "      \"Balázs\",\n",
            "      \"C.\",\n",
            "      \"\"\n",
            "    ],\n",
            "    [\n",
            "      \"Berger\",\n",
            "      \"E. L.\",\n",
            "      \"\"\n",
            "    ],\n",
            "    [\n",
            "      \"Nadolsky\",\n",
            "      \"P. M.\",\n",
            "      \"\"\n",
            "    ],\n",
            "    [\n",
            "      \"Yuan\",\n",
            "      \"C. -P.\",\n",
            "      \"\"\n",
            "    ]\n",
            "  ],\n",
            "  \"submitter\": \"Pavel Nadolsky\",\n",
            "  \"title\": \"Calculation of prompt diphoton production cross sections at Tevatron and\\n  LHC energies\",\n",
            "  \"abstract\": \"  A fully differential calculation in perturbative quantum chromodynamics is\\npresented for the production of massive photon pairs at hadron colliders. All\\nnext-to-leading order perturbative contributions from quark-antiquark,\\ngluon-(anti)quark, and gluon-gluon subprocesses are included, as well as\\nall-orders resummation of initial-state gluon radiation valid at\\nnext-to-next-to-leading logarithmic accuracy. The region of phase space is\\nspecified in which the calculation is most reliable. Good agreement is\\ndemonstrated with data from the Fermilab Tevatron, and predictions are made for\\nmore detailed tests with CDF and DO data. Predictions are shown for\\ndistributions of diphoton pairs produced at the energy of the Large Hadron\\nCollider (LHC). Distributions of the diphoton pairs from the decay of a Higgs\\nboson are contrasted with those produced from QCD processes at the LHC, showing\\nthat enhanced sensitivity to the signal can be obtained with judicious\\nselection of events.\\n\",\n",
            "  \"authors\": \"C. Bal\\\\'azs, E. L. Berger, P. M. Nadolsky, C.-P. Yuan\",\n",
            "  \"license\": null\n",
            "}\n",
            "{\n",
            "  \"journal-ref\": null,\n",
            "  \"doi\": null,\n",
            "  \"id\": \"0704.0002\",\n",
            "  \"comments\": \"To appear in Graphs and Combinatorics\",\n",
            "  \"update_date\": \"2008-12-13\",\n",
            "  \"report-no\": null,\n",
            "  \"versions\": [\n",
            "    {\n",
            "      \"created\": \"Sat, 31 Mar 2007 02:26:18 GMT\",\n",
            "      \"version\": \"v1\"\n",
            "    },\n",
            "    {\n",
            "      \"created\": \"Sat, 13 Dec 2008 17:26:00 GMT\",\n",
            "      \"version\": \"v2\"\n",
            "    }\n",
            "  ],\n",
            "  \"authors_parsed\": [\n",
            "    [\n",
            "      \"Streinu\",\n",
            "      \"Ileana\",\n",
            "      \"\"\n",
            "    ],\n",
            "    [\n",
            "      \"Theran\",\n",
            "      \"Louis\",\n",
            "      \"\"\n",
            "    ]\n",
            "  ],\n",
            "  \"submitter\": \"Louis Theran\",\n",
            "  \"title\": \"Sparsity-certifying Graph Decompositions\",\n",
            "  \"abstract\": \"  We describe a new algorithm, the $(k,\\\\ell)$-pebble game with colors, and use\\nit obtain a characterization of the family of $(k,\\\\ell)$-sparse graphs and\\nalgorithmic solutions to a family of problems concerning tree decompositions of\\ngraphs. Special instances of sparse graphs appear in rigidity theory and have\\nreceived increased attention in recent years. In particular, our colored\\npebbles generalize and strengthen the previous results of Lee and Streinu and\\ngive a new proof of the Tutte-Nash-Williams characterization of arboricity. We\\nalso present a new decomposition that certifies sparsity based on the\\n$(k,\\\\ell)$-pebble game with colors. Our work also exposes connections between\\npebble game algorithms and previous sparse graph algorithms by Gabow, Gabow and\\nWestermann and Hendrickson.\\n\",\n",
            "  \"authors\": \"Ileana Streinu and Louis Theran\",\n",
            "  \"license\": \"http://arxiv.org/licenses/nonexclusive-distrib/1.0/\"\n",
            "}\n",
            "{\n",
            "  \"journal-ref\": null,\n",
            "  \"doi\": null,\n",
            "  \"id\": \"0704.0003\",\n",
            "  \"comments\": \"23 pages, 3 figures\",\n",
            "  \"update_date\": \"2008-01-13\",\n",
            "  \"report-no\": null,\n",
            "  \"versions\": [\n",
            "    {\n",
            "      \"created\": \"Sun, 1 Apr 2007 20:46:54 GMT\",\n",
            "      \"version\": \"v1\"\n",
            "    },\n",
            "    {\n",
            "      \"created\": \"Sat, 8 Dec 2007 23:47:24 GMT\",\n",
            "      \"version\": \"v2\"\n",
            "    },\n",
            "    {\n",
            "      \"created\": \"Sun, 13 Jan 2008 00:36:28 GMT\",\n",
            "      \"version\": \"v3\"\n",
            "    }\n",
            "  ],\n",
            "  \"authors_parsed\": [\n",
            "    [\n",
            "      \"Pan\",\n",
            "      \"Hongjun\",\n",
            "      \"\"\n",
            "    ]\n",
            "  ],\n",
            "  \"submitter\": \"Hongjun Pan\",\n",
            "  \"title\": \"The evolution of the Earth-Moon system based on the dark matter field\\n  fluid model\",\n",
            "  \"abstract\": \"  The evolution of Earth-Moon system is described by the dark matter field\\nfluid model proposed in the Meeting of Division of Particle and Field 2004,\\nAmerican Physical Society. The current behavior of the Earth-Moon system agrees\\nwith this model very well and the general pattern of the evolution of the\\nMoon-Earth system described by this model agrees with geological and fossil\\nevidence. The closest distance of the Moon to Earth was about 259000 km at 4.5\\nbillion years ago, which is far beyond the Roche's limit. The result suggests\\nthat the tidal friction may not be the primary cause for the evolution of the\\nEarth-Moon system. The average dark matter field fluid constant derived from\\nEarth-Moon system data is 4.39 x 10^(-22) s^(-1)m^(-1). This model predicts\\nthat the Mars's rotation is also slowing with the angular acceleration rate\\nabout -4.38 x 10^(-22) rad s^(-2).\\n\",\n",
            "  \"authors\": \"Hongjun Pan\",\n",
            "  \"license\": null\n",
            "}\n"
          ]
        }
      ],
      "source": [
        "# Print example of multiple JSON objects in samples\n",
        "for i in 1:3  # Adjust the range as needed\n",
        "    JSON.print(samples[i], 2)\n",
        "end"
      ]
    },
    {
      "cell_type": "markdown",
      "source": [
        "## Oddělení labelů od prediktorů\n",
        "Selekce labelů z dat a jejich uložení jako samosatný vektor labelů.\n",
        "\n",
        "```\n",
        "# labels = sort(unique(targets))\n",
        "```\n",
        "\n",
        "Odstranění labelů z prediktorů."
      ],
      "metadata": {
        "id": "FGatmUkCm3Si"
      }
    },
    {
      "cell_type": "code",
      "source": [
        "# Selekce labelů z dat\n",
        "targets = map(c -> c[\"categories\"], samples)"
      ],
      "metadata": {
        "colab": {
          "base_uri": "https://localhost:8080/"
        },
        "id": "N9m53LzzyyO_",
        "outputId": "9be1e882-6a87-4cfd-f933-b5c96f1d1caf"
      },
      "execution_count": 10,
      "outputs": [
        {
          "output_type": "execute_result",
          "data": {
            "text/plain": [
              "5000-element Vector{String}:\n",
              " \"hep-ph\"\n",
              " \"math.CO cs.CG\"\n",
              " \"physics.gen-ph\"\n",
              " \"math.CO\"\n",
              " \"math.CA math.FA\"\n",
              " \"cond-mat.mes-hall\"\n",
              " \"gr-qc\"\n",
              " \"cond-mat.mtrl-sci\"\n",
              " \"astro-ph\"\n",
              " \"math.CO\"\n",
              " \"math.NT math.AG\"\n",
              " \"math.NT\"\n",
              " \"math.NT\"\n",
              " ⋮\n",
              " \"astro-ph\"\n",
              " \"astro-ph\"\n",
              " \"astro-ph\"\n",
              " \"cond-mat.dis-nn cond-mat.soft\"\n",
              " \"cond-mat.str-el\"\n",
              " \"gr-qc cond-mat.str-el hep-ph physics.hist-ph\"\n",
              " \"math.OA math.FA\"\n",
              " \"astro-ph\"\n",
              " \"hep-th\"\n",
              " \"quant-ph\"\n",
              " \"astro-ph gr-qc hep-ph hep-th\"\n",
              " \"cond-mat.supr-con\""
            ]
          },
          "metadata": {},
          "execution_count": 10
        }
      ]
    },
    {
      "cell_type": "code",
      "source": [
        "# Konstrukce vektoru lableů\n",
        "\n",
        "labels = sort(unique(targets))"
      ],
      "metadata": {
        "colab": {
          "base_uri": "https://localhost:8080/"
        },
        "id": "vLrrIYq2zQvW",
        "outputId": "bfda28d0-3b7d-46f8-e7f1-0853d59e7f11"
      },
      "execution_count": 11,
      "outputs": [
        {
          "output_type": "execute_result",
          "data": {
            "text/plain": [
              "943-element Vector{String}:\n",
              " \"astro-ph\"\n",
              " \"astro-ph gr-qc\"\n",
              " \"astro-ph gr-qc hep-ph\"\n",
              " \"astro-ph gr-qc hep-ph hep-th\"\n",
              " \"astro-ph gr-qc hep-ph nucl-th\"\n",
              " \"astro-ph gr-qc hep-th\"\n",
              " \"astro-ph gr-qc math.AP\"\n",
              " \"astro-ph gr-qc nucl-th\"\n",
              " \"astro-ph hep-ex\"\n",
              " \"astro-ph hep-ph\"\n",
              " \"astro-ph hep-ph hep-th\"\n",
              " \"astro-ph hep-ph nucl-th\"\n",
              " \"astro-ph hep-ph physics.atom-ph physics.space-ph\"\n",
              " ⋮\n",
              " \"quant-ph math-ph math.LO math.MP math.PR\"\n",
              " \"quant-ph math-ph math.MP\"\n",
              " \"quant-ph math.PR\"\n",
              " \"quant-ph nucl-th\"\n",
              " \"quant-ph physics.optics\"\n",
              " \"stat.AP\"\n",
              " \"stat.AP cs.NE\"\n",
              " \"stat.AP math.ST stat.TH\"\n",
              " \"stat.AP stat.ME\"\n",
              " \"stat.ME\"\n",
              " \"stat.ME econ.EM math.ST stat.TH\"\n",
              " \"stat.ME physics.soc-ph stat.AP\""
            ]
          },
          "metadata": {},
          "execution_count": 11
        }
      ]
    },
    {
      "cell_type": "code",
      "source": [
        "# Odstranění categories (labelů) z množiny prediktorů\n",
        "\n",
        "foreach(c -> delete!(c, \"categories\"), samples)"
      ],
      "metadata": {
        "id": "Icn3mWcR0S73"
      },
      "execution_count": 12,
      "outputs": []
    },
    {
      "cell_type": "code",
      "source": [
        "samples[1]"
      ],
      "metadata": {
        "colab": {
          "base_uri": "https://localhost:8080/"
        },
        "id": "9wArwN7I0iie",
        "outputId": "d7e7b31d-d051-4052-d7fe-e97b801aef76"
      },
      "execution_count": 13,
      "outputs": [
        {
          "output_type": "execute_result",
          "data": {
            "text/plain": [
              "Dict{String, Any} with 13 entries:\n",
              "  \"journal-ref\"    => \"Phys.Rev.D76:013009,2007\"\n",
              "  \"doi\"            => \"10.1103/PhysRevD.76.013009\"\n",
              "  \"id\"             => \"0704.0001\"\n",
              "  \"comments\"       => \"37 pages, 15 figures; published version\"\n",
              "  \"update_date\"    => \"2008-11-26\"\n",
              "  \"report-no\"      => \"ANL-HEP-PR-07-12\"\n",
              "  \"versions\"       => Any[Dict{String, Any}(\"created\"=>\"Mon, 2 Apr 2007 19:18:42 GMT\", \"version\"=>\"…\n",
              "  \"authors_parsed\" => Any[Any[\"Balázs\", \"C.\", \"\"], Any[\"Berger\", \"E. L.\", \"\"], Any[\"Nadolsky\", \"P. …\n",
              "  \"submitter\"      => \"Pavel Nadolsky\"\n",
              "  \"title\"          => \"Calculation of prompt diphoton production cross sections at Tevatron and\\n  …\n",
              "  \"abstract\"       => \"  A fully differential calculation in perturbative quantum chromodynamics is…\n",
              "  \"authors\"        => \"C. Bal\\\\'azs, E. L. Berger, P. M. Nadolsky, C.-P. Yuan\"\n",
              "  \"license\"        => nothing"
            ]
          },
          "metadata": {},
          "execution_count": 13
        }
      ]
    },
    {
      "cell_type": "markdown",
      "source": [
        "# Automatická extrakce JSON chématu z dat pomocí JsonGrinder.jl"
      ],
      "metadata": {
        "id": "nBxn6I1dp7_X"
      }
    },
    {
      "cell_type": "code",
      "source": [
        "# Voláme funcki schema pro automatickou extrakci JSON schématu\n",
        "\n",
        "using JsonGrinder\n",
        "\n",
        "sch = JsonGrinder.schema(samples)"
      ],
      "metadata": {
        "colab": {
          "base_uri": "https://localhost:8080/"
        },
        "id": "zP7cVjdGq8nG",
        "outputId": "1369631e-d992-48df-a1e0-15193b6b1d12"
      },
      "execution_count": 14,
      "outputs": [
        {
          "output_type": "execute_result",
          "data": {
            "text/plain": [
              "\u001b[34m[Dict]\u001b[39m\u001b[90m  # updated = 5000\u001b[39m\n",
              "\u001b[34m  ├───── update_date: \u001b[39m\u001b[39m[Scalar - String], 853 unique values\u001b[90m  # updated = 5000\u001b[39m\n",
              "\u001b[34m  ├──────── versions: \u001b[39m\u001b[31m[List]\u001b[39m\u001b[90m  # updated = 5000\u001b[39m\n",
              "\u001b[34m  │                   \u001b[39m\u001b[31m  ╰── \u001b[39m\u001b[32m[Dict]\u001b[39m\u001b[90m  # updated = 7915\u001b[39m\n",
              "\u001b[34m  │                   \u001b[39m\u001b[31m      \u001b[39m\u001b[32m  ├── version: \u001b[39m\u001b[39m[Scalar - String], 34 unique values\u001b[90m  # updated = 7915\u001b[39m\n",
              "\u001b[34m  │                   \u001b[39m\u001b[31m      \u001b[39m\u001b[32m  ╰── created: \u001b[39m\u001b[39m[Scalar - String], 7907 unique values\u001b[90m  # updated = 7915\u001b[39m\n",
              "\u001b[34m  ├───────── license: \u001b[39m\u001b[39m[Scalar - String], 5 unique values\u001b[90m  # updated = 343\u001b[39m\n",
              "\u001b[34m  ├─────── report-no: \u001b[39m\u001b[39m[Scalar - String], 430 unique values\u001b[90m  # updated = 430\u001b[39m\n",
              "\u001b[34m  ├── authors_parsed: \u001b[39m\u001b[31m[List]\u001b[39m\u001b[90m  # updated = 5000\u001b[39m\n",
              "\u001b[34m  │                   \u001b[39m\u001b[31m  ╰── \u001b[39m\u001b[32m[List]\u001b[39m\u001b[90m  # updated = 15599\u001b[39m\n",
              "\u001b[34m  │                   \u001b[39m\u001b[31m      \u001b[39m\u001b[32m  ╰── \u001b[39m\u001b[39m[Scalar - String], 10000 unique values\u001b[90m  # updated = 48408\u001b[39m\n",
              "\u001b[34m  ├───────── authors: \u001b[39m\u001b[39m[Scalar - String], 4746 unique values\u001b[90m  # updated = 5000\u001b[39m\n",
              "\u001b[34m  ├─────────── title: \u001b[39m\u001b[39m[Scalar - String], 4998 unique values\u001b[90m  # updated = 5000\u001b[39m\n",
              "\u001b[34m  ├───── journal-ref: \u001b[39m\u001b[39m[Scalar - String], 2743 unique values\u001b[90m  # updated = 2743\u001b[39m\n",
              "\u001b[34m  ┊\u001b[39m\n",
              "\u001b[34m  ├─────── submitter: \u001b[39m\u001b[39m[Scalar - String], 4271 unique values\u001b[90m  # updated = 5000\u001b[39m\n",
              "\u001b[34m  ╰────────────── id: \u001b[39m\u001b[39m[Scalar - String], 5000 unique values\u001b[90m  # updated = 5000\u001b[39m"
            ]
          },
          "metadata": {},
          "execution_count": 14
        }
      ]
    },
    {
      "cell_type": "code",
      "source": [
        "# Odstranění pole id (identifikátory článků) z množiny predikotrů\n",
        "\n",
        "delete!(sch.childs,:id)"
      ],
      "metadata": {
        "colab": {
          "base_uri": "https://localhost:8080/"
        },
        "id": "jkCemfSUulx0",
        "outputId": "496baa6d-809c-4230-a4d1-af14aacf4b37"
      },
      "execution_count": 15,
      "outputs": [
        {
          "output_type": "execute_result",
          "data": {
            "text/plain": [
              "Dict{Symbol, Any} with 12 entries:\n",
              "  :update_date          => Entry\n",
              "  :versions             => ArrayEntry\n",
              "  :license              => Entry\n",
              "  Symbol(\"report-no\")   => Entry\n",
              "  :authors_parsed       => ArrayEntry\n",
              "  :authors              => Entry\n",
              "  :title                => Entry\n",
              "  Symbol(\"journal-ref\") => Entry\n",
              "  :comments             => Entry\n",
              "  :abstract             => Entry\n",
              "  :doi                  => Entry\n",
              "  :submitter            => Entry"
            ]
          },
          "metadata": {},
          "execution_count": 15
        }
      ]
    },
    {
      "cell_type": "markdown",
      "source": [
        "Pomocí suggestextractor získáme navržené datové typy jednotlivých uzlů (string, categorical, Int, FLoat atd.). Pokud jsme spokojeni můžeme aplikovat extractor na původní JSON data, která převede data do reprezentace (vektory a marice) určená pro Mill.jl model."
      ],
      "metadata": {
        "id": "Fx3gspSJq-su"
      }
    },
    {
      "cell_type": "code",
      "source": [
        "extractor = suggestextractor(sch)"
      ],
      "metadata": {
        "colab": {
          "base_uri": "https://localhost:8080/"
        },
        "id": "nWmviA61u23D",
        "outputId": "d0af3b7a-1c30-4e67-e0f8-65879a73caab"
      },
      "execution_count": 16,
      "outputs": [
        {
          "output_type": "execute_result",
          "data": {
            "text/plain": [
              "\u001b[34mDict\u001b[39m\n",
              "\u001b[34m  ├───── update_date: \u001b[39m\u001b[39mString\n",
              "\u001b[34m  ├──────── versions: \u001b[39m\u001b[31mArray of\u001b[39m\n",
              "\u001b[34m  │                   \u001b[39m\u001b[31m  ╰── \u001b[39m\u001b[32mDict\u001b[39m\n",
              "\u001b[34m  │                   \u001b[39m\u001b[31m      \u001b[39m\u001b[32m  ├── version: \u001b[39m\u001b[39mCategorical d = 35\n",
              "\u001b[34m  │                   \u001b[39m\u001b[31m      \u001b[39m\u001b[32m  ╰── created: \u001b[39m\u001b[39mString\n",
              "\u001b[34m  ├───────── license: \u001b[39m\u001b[39mCategorical d = 6\n",
              "\u001b[34m  ├─────── report-no: \u001b[39m\u001b[39mString\n",
              "\u001b[34m  ├── authors_parsed: \u001b[39m\u001b[31mArray of\u001b[39m\n",
              "\u001b[34m  │                   \u001b[39m\u001b[31m  ╰── \u001b[39m\u001b[32mArray of\u001b[39m\n",
              "\u001b[34m  │                   \u001b[39m\u001b[31m      \u001b[39m\u001b[32m  ╰── \u001b[39m\u001b[39mString\n",
              "\u001b[34m  ├───────── authors: \u001b[39m\u001b[39mString\n",
              "\u001b[34m  ├─────────── title: \u001b[39m\u001b[39mString\n",
              "\u001b[34m  ├───── journal-ref: \u001b[39m\u001b[39mString\n",
              "\u001b[34m  ┊\u001b[39m\n",
              "\u001b[34m  ├───────────── doi: \u001b[39m\u001b[39mString\n",
              "\u001b[34m  ╰─────── submitter: \u001b[39m\u001b[39mString"
            ]
          },
          "metadata": {},
          "execution_count": 16
        }
      ]
    },
    {
      "cell_type": "code",
      "source": [
        "extractor(samples[1])"
      ],
      "metadata": {
        "colab": {
          "base_uri": "https://localhost:8080/"
        },
        "id": "KtRP5gzkvR_6",
        "outputId": "f0a79e4e-1561-4c81-d05e-e50369dcc275"
      },
      "execution_count": 17,
      "outputs": [
        {
          "output_type": "execute_result",
          "data": {
            "text/plain": [
              "\u001b[34mProductNode\u001b[39m\u001b[90m  # 1 obs, 408 bytes\u001b[39m\n",
              "\u001b[34m  ├───── update_date: \u001b[39m\u001b[39mArrayNode(2053×1 NGramMatrix with Int64 elements)\u001b[90m  # 1 obs, 130 bytes\u001b[39m\n",
              "\u001b[34m  ├──────── comments: \u001b[39m\u001b[39mArrayNode(2053×1 NGramMatrix with Union{Missing, Int64} elements)\u001b[90m  # 1 obs,  \u001b[39m\u001b[90m⋯\u001b[39m\n",
              "\u001b[34m  ├──────── versions: \u001b[39m\u001b[31mBagNode\u001b[39m\u001b[90m  # 1 obs, 120 bytes\u001b[39m\n",
              "\u001b[34m  │                   \u001b[39m\u001b[31m  ╰── \u001b[39m\u001b[32mProductNode\u001b[39m\u001b[90m  # 2 obs, 48 bytes\u001b[39m\n",
              "\u001b[34m  │                   \u001b[39m\u001b[31m      \u001b[39m\u001b[32m  ├── version: \u001b[39m\u001b[39mArrayNode(35×2 OneHotArray with Bool elements)\u001b[90m  # 2 obs \u001b[39m\u001b[90m⋯\u001b[39m\n",
              "\u001b[34m  │                   \u001b[39m\u001b[31m      \u001b[39m\u001b[32m  ╰── created: \u001b[39m\u001b[39mArrayNode(2053×2 NGramMatrix with Int64 elements)\u001b[90m  # 2  \u001b[39m\u001b[90m⋯\u001b[39m\n",
              "\u001b[34m  ├──────── abstract: \u001b[39m\u001b[39mArrayNode(2053×1 NGramMatrix with Int64 elements)\u001b[90m  # 1 obs, 1.077 KiB\u001b[39m\n",
              "\u001b[34m  ├───────── license: \u001b[39m\u001b[39mArrayNode(6×1 MaybeHotMatrix with Union{Missing, Bool} elements)\u001b[90m  # 1 obs, 7 \u001b[39m\u001b[90m⋯\u001b[39m\n",
              "\u001b[34m  ├─────── report-no: \u001b[39m\u001b[39mArrayNode(2053×1 NGramMatrix with Union{Missing, Int64} elements)\u001b[90m  # 1 obs,  \u001b[39m\u001b[90m⋯\u001b[39m\n",
              "\u001b[34m  ├── authors_parsed: \u001b[39m\u001b[31mBagNode\u001b[39m\u001b[90m  # 1 obs, 112 bytes\u001b[39m\n",
              "\u001b[34m  │                   \u001b[39m\u001b[31m  ╰── \u001b[39m\u001b[32mBagNode\u001b[39m\u001b[90m  # 4 obs, 152 bytes\u001b[39m\n",
              "\u001b[34m  │                   \u001b[39m\u001b[31m      \u001b[39m\u001b[32m  ╰── \u001b[39m\u001b[39mArrayNode(2053×12 NGramMatrix with Int64 elements)\u001b[90m  # 12 obs, 31 \u001b[39m\u001b[90m⋯\u001b[39m\n",
              "\u001b[34m  ├───────────── doi: \u001b[39m\u001b[39mArrayNode(2053×1 NGramMatrix with Union{Missing, Int64} elements)\u001b[90m  # 1 obs,  \u001b[39m\u001b[90m⋯\u001b[39m\n",
              "\u001b[34m  ┊\u001b[39m\n",
              "\u001b[34m  ├─────────── title: \u001b[39m\u001b[39mArrayNode(2053×1 NGramMatrix with Int64 elements)\u001b[90m  # 1 obs, 207 bytes\u001b[39m\n",
              "\u001b[34m  ╰───── journal-ref: \u001b[39m\u001b[39mArrayNode(2053×1 NGramMatrix with Union{Missing, Int64} elements)\u001b[90m  # 1 obs,  \u001b[39m\u001b[90m⋯\u001b[39m"
            ]
          },
          "metadata": {},
          "execution_count": 17
        }
      ]
    },
    {
      "cell_type": "code",
      "source": [
        "data = map(extractor, samples)"
      ],
      "metadata": {
        "colab": {
          "base_uri": "https://localhost:8080/"
        },
        "id": "xmGWxarIyRVA",
        "outputId": "011d6434-419a-4003-b0e4-840654335724"
      },
      "execution_count": 18,
      "outputs": [
        {
          "output_type": "execute_result",
          "data": {
            "text/plain": [
              "5000-element Vector{Mill.ProductNode{NamedTuple{(:update_date, :comments, :versions, :abstract, :license, Symbol(\"report-no\"), :authors_parsed, :doi, :authors, :submitter, :title, Symbol(\"journal-ref\")), Tuple{Mill.ArrayNode{Mill.NGramMatrix{String, Vector{String}, Int64}, Nothing}, Mill.ArrayNode{Mill.NGramMatrix{Union{Missing, String}, Vector{Union{Missing, String}}, Union{Missing, Int64}}, Nothing}, Mill.BagNode{Mill.ProductNode{NamedTuple{(:version, :created), Tuple{Mill.ArrayNode{OneHotArrays.OneHotMatrix{UInt32, Vector{UInt32}}, Nothing}, Mill.ArrayNode{Mill.NGramMatrix{String, Vector{String}, Int64}, Nothing}}}, Nothing}, Mill.AlignedBags{Int64}, Nothing}, Mill.ArrayNode{Mill.NGramMatrix{String, Vector{String}, Int64}, Nothing}, Mill.ArrayNode{Mill.MaybeHotMatrix{Union{Missing, UInt32}, Int64, Union{Missing, Bool}}, Nothing}, Mill.ArrayNode{Mill.NGramMatrix{Union{Missing, String}, Vector{Union{Missing, String}}, Union{Missing, Int64}}, Nothing}, Mill.BagNode{Mill.BagNode{Mill.ArrayNode{Mill.NGramMatrix{String, Vector{String}, Int64}, Nothing}, Mill.AlignedBags{Int64}, Nothing}, Mill.AlignedBags{Int64}, Nothing}, Mill.ArrayNode{Mill.NGramMatrix{Union{Missing, String}, Vector{Union{Missing, String}}, Union{Missing, Int64}}, Nothing}, Mill.ArrayNode{Mill.NGramMatrix{String, Vector{String}, Int64}, Nothing}, Mill.ArrayNode{Mill.NGramMatrix{String, Vector{String}, Int64}, Nothing}, Mill.ArrayNode{Mill.NGramMatrix{String, Vector{String}, Int64}, Nothing}, Mill.ArrayNode{Mill.NGramMatrix{Union{Missing, String}, Vector{Union{Missing, String}}, Union{Missing, Int64}}, Nothing}}}, Nothing}}:\n",
              " ProductNode\n",
              " ProductNode\n",
              " ProductNode\n",
              " ProductNode\n",
              " ProductNode\n",
              " ProductNode\n",
              " ProductNode\n",
              " ProductNode\n",
              " ProductNode\n",
              " ProductNode\n",
              " ProductNode\n",
              " ProductNode\n",
              " ProductNode\n",
              " ⋮\n",
              " ProductNode\n",
              " ProductNode\n",
              " ProductNode\n",
              " ProductNode\n",
              " ProductNode\n",
              " ProductNode\n",
              " ProductNode\n",
              " ProductNode\n",
              " ProductNode\n",
              " ProductNode\n",
              " ProductNode\n",
              " ProductNode"
            ]
          },
          "metadata": {},
          "execution_count": 18
        }
      ]
    },
    {
      "cell_type": "markdown",
      "source": [
        "## Defining the model reflecting the structure of data\n",
        "\n",
        "Definujeme model na základě reprezentace získané v předchozím kroku.\n",
        "Určíme též velikost výstupní vrstvy. Každá výstupní jednotka odpovídá jednomu labelu (categories)."
      ],
      "metadata": {
        "id": "ev5f2uiG25Y0"
      }
    },
    {
      "cell_type": "code",
      "source": [
        "using Mill, Flux\n",
        "\n",
        "model = reflectinmodel(data[1],\n",
        "\tinput_dim -> Dense(input_dim, 64, relu),\n",
        "\tMill.SegmentedMeanMax,\n",
        "\tfsm = Dict(\"\" => input_dim -> Chain(Dense(input_dim, 64, relu), Dense(64, length(labels))))\n",
        "\t)"
      ],
      "metadata": {
        "colab": {
          "base_uri": "https://localhost:8080/"
        },
        "id": "d87-dx6927ME",
        "outputId": "7cc2492b-aa1f-4576-8b29-6a3b3df4293f"
      },
      "execution_count": 19,
      "outputs": [
        {
          "output_type": "execute_result",
          "data": {
            "text/plain": [
              "\u001b[34mProductModel ↦ Chain(Dense(768 => 64, relu), Dense(64 => 943))\u001b[39m\u001b[90m  # 4 arrays, 110_511 params, 431.84 \u001b[39m\u001b[90m⋯\u001b[39m\n",
              "\u001b[34m  ├───── update_date: \u001b[39m\u001b[39mArrayModel(Dense(2053 => 64, relu))\u001b[90m  # 2 arrays, 131_456 params, 513.578 KiB\u001b[39m\n",
              "\u001b[34m  ├──────── comments: \u001b[39m\u001b[39mArrayModel([postimputing]Dense(2053 => 64, relu))\u001b[90m  # 3 arrays, 131_520 param \u001b[39m\u001b[90m⋯\u001b[39m\n",
              "\u001b[34m  ├──────── versions: \u001b[39m\u001b[31mBagModel ↦ [SegmentedMean(64); SegmentedMax(64)] ↦ Dense(128 => 64, relu)\u001b[39m\u001b[90m  # \u001b[39m\u001b[90m⋯\u001b[39m\n",
              "\u001b[34m  │                   \u001b[39m\u001b[31m  ╰── \u001b[39m\u001b[32mProductModel ↦ Dense(128 => 64, relu)\u001b[39m\u001b[90m  # 2 arrays, 8_256 params, 32.32 \u001b[39m\u001b[90m⋯\u001b[39m\n",
              "\u001b[34m  │                   \u001b[39m\u001b[31m      \u001b[39m\u001b[32m  ├── version: \u001b[39m\u001b[39mArrayModel(Dense(35 => 64, relu))\u001b[90m  # 2 arrays, 2_304 pa \u001b[39m\u001b[90m⋯\u001b[39m\n",
              "\u001b[34m  │                   \u001b[39m\u001b[31m      \u001b[39m\u001b[32m  ╰── created: \u001b[39m\u001b[39mArrayModel(Dense(2053 => 64, relu))\u001b[90m  # 2 arrays, 131_45 \u001b[39m\u001b[90m⋯\u001b[39m\n",
              "\u001b[34m  ├──────── abstract: \u001b[39m\u001b[39mArrayModel(Dense(2053 => 64, relu))\u001b[90m  # 2 arrays, 131_456 params, 513.578 KiB\u001b[39m\n",
              "\u001b[34m  ├───────── license: \u001b[39m\u001b[39mArrayModel([postimputing]Dense(6 => 64, relu))\u001b[90m  # 3 arrays, 512 params, 2.11 \u001b[39m\u001b[90m⋯\u001b[39m\n",
              "\u001b[34m  ├─────── report-no: \u001b[39m\u001b[39mArrayModel([postimputing]Dense(2053 => 64, relu))\u001b[90m  # 3 arrays, 131_520 param \u001b[39m\u001b[90m⋯\u001b[39m\n",
              "\u001b[34m  ├── authors_parsed: \u001b[39m\u001b[31mBagModel ↦ [SegmentedMean(64); SegmentedMax(64)] ↦ Dense(128 => 64, relu)\u001b[39m\u001b[90m  # \u001b[39m\u001b[90m⋯\u001b[39m\n",
              "\u001b[34m  │                   \u001b[39m\u001b[31m  ╰── \u001b[39m\u001b[32mBagModel ↦ [SegmentedMean(64); SegmentedMax(64)] ↦ Dense(128 => 64, re \u001b[39m\u001b[90m⋯\u001b[39m\n",
              "\u001b[34m  │                   \u001b[39m\u001b[31m      \u001b[39m\u001b[32m  ╰── \u001b[39m\u001b[39mArrayModel(Dense(2053 => 64, relu))\u001b[90m  # 2 arrays, 131_456 params, \u001b[39m\u001b[90m⋯\u001b[39m\n",
              "\u001b[34m  ├───────────── doi: \u001b[39m\u001b[39mArrayModel([postimputing]Dense(2053 => 64, relu))\u001b[90m  # 3 arrays, 131_520 param \u001b[39m\u001b[90m⋯\u001b[39m\n",
              "\u001b[34m  ┊\u001b[39m\n",
              "\u001b[34m  ├─────────── title: \u001b[39m\u001b[39mArrayModel(Dense(2053 => 64, relu))\u001b[90m  # 2 arrays, 131_456 params, 513.578 KiB\u001b[39m\n",
              "\u001b[34m  ╰───── journal-ref: \u001b[39m\u001b[39mArrayModel([postimputing]Dense(2053 => 64, relu))\u001b[90m  # 3 arrays, 131_520 param \u001b[39m\u001b[90m⋯\u001b[39m"
            ]
          },
          "metadata": {},
          "execution_count": 19
        }
      ]
    },
    {
      "cell_type": "markdown",
      "source": [
        "## Training the model"
      ],
      "metadata": {
        "id": "L1kO4oUp4795"
      }
    },
    {
      "cell_type": "code",
      "source": [
        "# Set a random seed for reproducibility\n",
        "using Random\n",
        "\n",
        "Random.seed!(42)"
      ],
      "metadata": {
        "colab": {
          "base_uri": "https://localhost:8080/"
        },
        "id": "ayyT27NmHyb5",
        "outputId": "18e44ae0-1df3-45ca-a4b0-868e99336f4b"
      },
      "execution_count": null,
      "outputs": [
        {
          "output_type": "execute_result",
          "data": {
            "text/plain": [
              "TaskLocalRNG()"
            ]
          },
          "metadata": {},
          "execution_count": 21
        }
      ]
    },
    {
      "cell_type": "markdown",
      "source": [
        "## Rozdělíme data na trénovací, validační a testovací"
      ],
      "metadata": {
        "id": "t3GspdUOsspU"
      }
    },
    {
      "cell_type": "code",
      "source": [
        "using MLUtils\n",
        "\n",
        "# Shuffle the data and targets together\n",
        "shuffled_data_targets = shuffleobs((data, targets))\n",
        "\n",
        "# Split the shuffled data into train and test sets\n",
        "train, remaining = splitobs(shuffled_data_targets, at = 0.8)\n",
        "\n",
        "# Split the remaining data into validation and test sets\n",
        "val, test = splitobs(remaining, at = 0.5) # Split the remaining 20% into validation and test sets"
      ],
      "metadata": {
        "colab": {
          "base_uri": "https://localhost:8080/"
        },
        "id": "uExfcOzOFJr9",
        "outputId": "89335ee7-4f9f-42e7-e90c-6dd1a96d165d"
      },
      "execution_count": 20,
      "outputs": [
        {
          "output_type": "execute_result",
          "data": {
            "text/plain": [
              "((ProductNode{NamedTuple{(:update_date, :comments, :versions, :abstract, :license, Symbol(\"report-no\"), :authors_parsed, :doi, :authors, :submitter, :title, Symbol(\"journal-ref\")), Tuple{ArrayNode{NGramMatrix{String, Vector{String}, Int64}, Nothing}, ArrayNode{NGramMatrix{Union{Missing, String}, Vector{Union{Missing, String}}, Union{Missing, Int64}}, Nothing}, BagNode{ProductNode{NamedTuple{(:version, :created), Tuple{ArrayNode{OneHotArrays.OneHotMatrix{UInt32, Vector{UInt32}}, Nothing}, ArrayNode{NGramMatrix{String, Vector{String}, Int64}, Nothing}}}, Nothing}, AlignedBags{Int64}, Nothing}, ArrayNode{NGramMatrix{String, Vector{String}, Int64}, Nothing}, ArrayNode{MaybeHotMatrix{Union{Missing, UInt32}, Int64, Union{Missing, Bool}}, Nothing}, ArrayNode{NGramMatrix{Union{Missing, String}, Vector{Union{Missing, String}}, Union{Missing, Int64}}, Nothing}, BagNode{BagNode{ArrayNode{NGramMatrix{String, Vector{String}, Int64}, Nothing}, AlignedBags{Int64}, Nothing}, AlignedBags{Int64}, Nothing}, ArrayNode{NGramMatrix{Union{Missing, String}, Vector{Union{Missing, String}}, Union{Missing, Int64}}, Nothing}, ArrayNode{NGramMatrix{String, Vector{String}, Int64}, Nothing}, ArrayNode{NGramMatrix{String, Vector{String}, Int64}, Nothing}, ArrayNode{NGramMatrix{String, Vector{String}, Int64}, Nothing}, ArrayNode{NGramMatrix{Union{Missing, String}, Vector{Union{Missing, String}}, Union{Missing, Int64}}, Nothing}}}, Nothing}[ProductNode, ProductNode, ProductNode, ProductNode, ProductNode, ProductNode, ProductNode, ProductNode, ProductNode, ProductNode  …  ProductNode, ProductNode, ProductNode, ProductNode, ProductNode, ProductNode, ProductNode, ProductNode, ProductNode, ProductNode], [\"astro-ph\", \"physics.soc-ph\", \"cond-mat.supr-con\", \"physics.gen-ph\", \"hep-th\", \"astro-ph\", \"cs.DM cs.LO\", \"cond-mat.mes-hall\", \"hep-ex\", \"stat.ME econ.EM math.ST stat.TH\"  …  \"astro-ph\", \"math.KT math.AG\", \"cond-mat.mes-hall\", \"math.GT\", \"astro-ph\", \"math-ph math.MP\", \"cond-mat.mtrl-sci\", \"math.QA\", \"quant-ph\", \"q-bio.QM q-bio.MN\"]), (ProductNode{NamedTuple{(:update_date, :comments, :versions, :abstract, :license, Symbol(\"report-no\"), :authors_parsed, :doi, :authors, :submitter, :title, Symbol(\"journal-ref\")), Tuple{ArrayNode{NGramMatrix{String, Vector{String}, Int64}, Nothing}, ArrayNode{NGramMatrix{Union{Missing, String}, Vector{Union{Missing, String}}, Union{Missing, Int64}}, Nothing}, BagNode{ProductNode{NamedTuple{(:version, :created), Tuple{ArrayNode{OneHotArrays.OneHotMatrix{UInt32, Vector{UInt32}}, Nothing}, ArrayNode{NGramMatrix{String, Vector{String}, Int64}, Nothing}}}, Nothing}, AlignedBags{Int64}, Nothing}, ArrayNode{NGramMatrix{String, Vector{String}, Int64}, Nothing}, ArrayNode{MaybeHotMatrix{Union{Missing, UInt32}, Int64, Union{Missing, Bool}}, Nothing}, ArrayNode{NGramMatrix{Union{Missing, String}, Vector{Union{Missing, String}}, Union{Missing, Int64}}, Nothing}, BagNode{BagNode{ArrayNode{NGramMatrix{String, Vector{String}, Int64}, Nothing}, AlignedBags{Int64}, Nothing}, AlignedBags{Int64}, Nothing}, ArrayNode{NGramMatrix{Union{Missing, String}, Vector{Union{Missing, String}}, Union{Missing, Int64}}, Nothing}, ArrayNode{NGramMatrix{String, Vector{String}, Int64}, Nothing}, ArrayNode{NGramMatrix{String, Vector{String}, Int64}, Nothing}, ArrayNode{NGramMatrix{String, Vector{String}, Int64}, Nothing}, ArrayNode{NGramMatrix{Union{Missing, String}, Vector{Union{Missing, String}}, Union{Missing, Int64}}, Nothing}}}, Nothing}[ProductNode, ProductNode, ProductNode, ProductNode, ProductNode, ProductNode, ProductNode, ProductNode, ProductNode, ProductNode  …  ProductNode, ProductNode, ProductNode, ProductNode, ProductNode, ProductNode, ProductNode, ProductNode, ProductNode, ProductNode], [\"cond-mat.mes-hall\", \"math.AG math.NT\", \"gr-qc\", \"math.RT math.AG math.CO\", \"cond-mat.mtrl-sci cond-mat.other\", \"astro-ph\", \"physics.soc-ph physics.comp-ph\", \"hep-ph\", \"q-bio.CB\", \"hep-th\"  …  \"math.OA math.GN\", \"astro-ph\", \"astro-ph\", \"cs.CL cs.HC\", \"hep-ph\", \"math.SG math.CO\", \"hep-ph\", \"hep-th math.DG\", \"physics.atom-ph\", \"hep-th gr-qc math-ph math.MP\"]))"
            ]
          },
          "metadata": {},
          "execution_count": 20
        }
      ]
    },
    {
      "cell_type": "markdown",
      "source": [
        "## Nadefinujeme ztrátovou funkci.\n",
        "Srovnáváme dvě pravděpodobností rozdělení (rozdělení labelů), proto je vhodnou funckí křížová entropie."
      ],
      "metadata": {
        "id": "uU6SvqdjszJT"
      }
    },
    {
      "cell_type": "code",
      "source": [
        "# Definition of loss function\n",
        "using Zygote\n",
        "\n",
        "function loss(x,y)\n",
        "  x = Zygote.@ignore reduce(catobs, getobs(x))\n",
        "  y = Zygote.@ignore Flux.onehotbatch(getobs(y), labels)\n",
        "  Flux.Losses.logitcrossentropy(model(x), y)\n",
        "end"
      ],
      "metadata": {
        "colab": {
          "base_uri": "https://localhost:8080/"
        },
        "id": "JfypRIyC8gJu",
        "outputId": "72f25aa1-9c50-4b43-894b-d6c55402e730"
      },
      "execution_count": 22,
      "outputs": [
        {
          "output_type": "execute_result",
          "data": {
            "text/plain": [
              "loss (generic function with 1 method)"
            ]
          },
          "metadata": {},
          "execution_count": 22
        }
      ]
    },
    {
      "cell_type": "code",
      "source": [
        "# Let see the Mill representation of the first sample/observation\n",
        "data[1]"
      ],
      "metadata": {
        "colab": {
          "base_uri": "https://localhost:8080/"
        },
        "id": "x_nD61PoFhK6",
        "outputId": "9ff79f5e-9db0-4a73-d641-9afbc024ad55"
      },
      "execution_count": 23,
      "outputs": [
        {
          "output_type": "execute_result",
          "data": {
            "text/plain": [
              "\u001b[34mProductNode\u001b[39m\u001b[90m  # 1 obs, 408 bytes\u001b[39m\n",
              "\u001b[34m  ├───── update_date: \u001b[39m\u001b[39mArrayNode(2053×1 NGramMatrix with Int64 elements)\u001b[90m  # 1 obs, 130 bytes\u001b[39m\n",
              "\u001b[34m  ├──────── comments: \u001b[39m\u001b[39mArrayNode(2053×1 NGramMatrix with Union{Missing, Int64} elements)\u001b[90m  # 1 obs,  \u001b[39m\u001b[90m⋯\u001b[39m\n",
              "\u001b[34m  ├──────── versions: \u001b[39m\u001b[31mBagNode\u001b[39m\u001b[90m  # 1 obs, 120 bytes\u001b[39m\n",
              "\u001b[34m  │                   \u001b[39m\u001b[31m  ╰── \u001b[39m\u001b[32mProductNode\u001b[39m\u001b[90m  # 2 obs, 48 bytes\u001b[39m\n",
              "\u001b[34m  │                   \u001b[39m\u001b[31m      \u001b[39m\u001b[32m  ├── version: \u001b[39m\u001b[39mArrayNode(35×2 OneHotArray with Bool elements)\u001b[90m  # 2 obs \u001b[39m\u001b[90m⋯\u001b[39m\n",
              "\u001b[34m  │                   \u001b[39m\u001b[31m      \u001b[39m\u001b[32m  ╰── created: \u001b[39m\u001b[39mArrayNode(2053×2 NGramMatrix with Int64 elements)\u001b[90m  # 2  \u001b[39m\u001b[90m⋯\u001b[39m\n",
              "\u001b[34m  ├──────── abstract: \u001b[39m\u001b[39mArrayNode(2053×1 NGramMatrix with Int64 elements)\u001b[90m  # 1 obs, 1.077 KiB\u001b[39m\n",
              "\u001b[34m  ├───────── license: \u001b[39m\u001b[39mArrayNode(6×1 MaybeHotMatrix with Union{Missing, Bool} elements)\u001b[90m  # 1 obs, 7 \u001b[39m\u001b[90m⋯\u001b[39m\n",
              "\u001b[34m  ├─────── report-no: \u001b[39m\u001b[39mArrayNode(2053×1 NGramMatrix with Union{Missing, Int64} elements)\u001b[90m  # 1 obs,  \u001b[39m\u001b[90m⋯\u001b[39m\n",
              "\u001b[34m  ├── authors_parsed: \u001b[39m\u001b[31mBagNode\u001b[39m\u001b[90m  # 1 obs, 112 bytes\u001b[39m\n",
              "\u001b[34m  │                   \u001b[39m\u001b[31m  ╰── \u001b[39m\u001b[32mBagNode\u001b[39m\u001b[90m  # 4 obs, 152 bytes\u001b[39m\n",
              "\u001b[34m  │                   \u001b[39m\u001b[31m      \u001b[39m\u001b[32m  ╰── \u001b[39m\u001b[39mArrayNode(2053×12 NGramMatrix with Int64 elements)\u001b[90m  # 12 obs, 31 \u001b[39m\u001b[90m⋯\u001b[39m\n",
              "\u001b[34m  ├───────────── doi: \u001b[39m\u001b[39mArrayNode(2053×1 NGramMatrix with Union{Missing, Int64} elements)\u001b[90m  # 1 obs,  \u001b[39m\u001b[90m⋯\u001b[39m\n",
              "\u001b[34m  ┊\u001b[39m\n",
              "\u001b[34m  ├─────────── title: \u001b[39m\u001b[39mArrayNode(2053×1 NGramMatrix with Int64 elements)\u001b[90m  # 1 obs, 207 bytes\u001b[39m\n",
              "\u001b[34m  ╰───── journal-ref: \u001b[39m\u001b[39mArrayNode(2053×1 NGramMatrix with Union{Missing, Int64} elements)\u001b[90m  # 1 obs,  \u001b[39m\u001b[90m⋯\u001b[39m"
            ]
          },
          "metadata": {},
          "execution_count": 23
        }
      ]
    },
    {
      "cell_type": "markdown",
      "source": [
        "Zkontrolujeme správnost (accuracy) netrénovaného modelu na testovacích datech.\n",
        "\n",
        "Spávnost by měla být přibližně 1/n, kde n je počet labelů. Např. přesnot je 1/2 = 0.5 (50%), pokud máme pouze 2 labely (např. ANO/NE)."
      ],
      "metadata": {
        "id": "6T3__DsmtlH8"
      }
    },
    {
      "cell_type": "code",
      "source": [
        "# Let see the individual labels of each sample in the test data\n",
        "getobs(test[2])"
      ],
      "metadata": {
        "colab": {
          "base_uri": "https://localhost:8080/"
        },
        "id": "7PSvx0-D0u07",
        "outputId": "f0fcac41-11ba-4415-fb81-78f4cc36fe8c"
      },
      "execution_count": 24,
      "outputs": [
        {
          "output_type": "execute_result",
          "data": {
            "text/plain": [
              "500-element Vector{String}:\n",
              " \"cond-mat.mes-hall\"\n",
              " \"math.AG math.NT\"\n",
              " \"gr-qc\"\n",
              " \"math.RT math.AG math.CO\"\n",
              " \"cond-mat.mtrl-sci cond-mat.other\"\n",
              " \"astro-ph\"\n",
              " \"physics.soc-ph physics.comp-ph\"\n",
              " \"hep-ph\"\n",
              " \"q-bio.CB\"\n",
              " \"hep-th\"\n",
              " \"cs.IT math.IT\"\n",
              " \"math.DS math-ph math.MP\"\n",
              " \"nucl-th\"\n",
              " ⋮\n",
              " \"math.CV math.AG\"\n",
              " \"nlin.SI math-ph math.MP\"\n",
              " \"math.OA math.GN\"\n",
              " \"astro-ph\"\n",
              " \"astro-ph\"\n",
              " \"cs.CL cs.HC\"\n",
              " \"hep-ph\"\n",
              " \"math.SG math.CO\"\n",
              " \"hep-ph\"\n",
              " \"hep-th math.DG\"\n",
              " \"physics.atom-ph\"\n",
              " \"hep-th gr-qc math-ph math.MP\""
            ]
          },
          "metadata": {},
          "execution_count": 24
        }
      ]
    },
    {
      "cell_type": "code",
      "source": [
        "# Let see the predicted labels of the test data\n",
        "labels[Flux.onecold(softmax(model(reduce(catobs, getobs(test[1])))))]"
      ],
      "metadata": {
        "colab": {
          "base_uri": "https://localhost:8080/"
        },
        "id": "FQJyqGOO0sOL",
        "outputId": "4a92773f-73c8-4254-af52-dcded8019350"
      },
      "execution_count": 25,
      "outputs": [
        {
          "output_type": "execute_result",
          "data": {
            "text/plain": [
              "500-element Vector{String}:\n",
              " \"math.AG math.AC math.RT\"\n",
              " \"cs.RO\"\n",
              " \"cs.RO\"\n",
              " \"cs.RO\"\n",
              " \"hep-ph nucl-ex\"\n",
              " \"cs.RO\"\n",
              " \"physics.hist-ph\"\n",
              " \"hep-ph nucl-ex\"\n",
              " \"physics.class-ph physics.ins-det\"\n",
              " \"q-fin.GN physics.data-an physics.soc-ph\"\n",
              " \"hep-ph nucl-ex\"\n",
              " \"cs.HC cs.AI\"\n",
              " \"cs.RO\"\n",
              " ⋮\n",
              " \"cond-mat.dis-nn cs.AR\"\n",
              " \"cond-mat.stat-mech cond-mat.dis-nn physics.soc-ph\"\n",
              " \"cond-mat.stat-mech cond-mat.dis-nn physics.soc-ph\"\n",
              " \"cond-mat.dis-nn cs.AR\"\n",
              " \"math.AG math.DG\"\n",
              " \"math-ph math.AP math.MP\"\n",
              " \"nucl-th astro-ph hep-ph nucl-ex\"\n",
              " \"cs.RO\"\n",
              " \"cond-mat.mtrl-sci cond-mat.other\"\n",
              " \"math.QA math.GT\"\n",
              " \"cond-mat.other cond-mat.mtrl-sci\"\n",
              " \"math.PR math.OC\""
            ]
          },
          "metadata": {},
          "execution_count": 25
        }
      ]
    },
    {
      "cell_type": "code",
      "source": [
        "# Let see where do they match (1)\n",
        "labels[Flux.onecold(softmax(model(reduce(catobs, getobs(test[1])))))] .== getobs(test[2])"
      ],
      "metadata": {
        "colab": {
          "base_uri": "https://localhost:8080/"
        },
        "id": "uf08xefe0G90",
        "outputId": "cc915291-b632-433c-b12e-25ae2d89df9b"
      },
      "execution_count": 26,
      "outputs": [
        {
          "output_type": "execute_result",
          "data": {
            "text/plain": [
              "500-element BitVector:\n",
              " 0\n",
              " 0\n",
              " 0\n",
              " 0\n",
              " 0\n",
              " 0\n",
              " 0\n",
              " 0\n",
              " 0\n",
              " 0\n",
              " 0\n",
              " 0\n",
              " 0\n",
              " ⋮\n",
              " 0\n",
              " 0\n",
              " 0\n",
              " 0\n",
              " 0\n",
              " 0\n",
              " 0\n",
              " 0\n",
              " 0\n",
              " 0\n",
              " 0\n",
              " 0"
            ]
          },
          "metadata": {},
          "execution_count": 26
        }
      ]
    },
    {
      "cell_type": "code",
      "source": [
        "using Statistics\n",
        "\n",
        "test_accuracy = mean(labels[Flux.onecold(softmax(model(reduce(catobs, getobs(test[1])))))] .== getobs(test[2]))\n",
        "\n",
        "# Print test accuracy\n",
        "println(\"Test Accuracy: \", test_accuracy)"
      ],
      "metadata": {
        "colab": {
          "base_uri": "https://localhost:8080/"
        },
        "id": "nuYSC6PIFa_6",
        "outputId": "47aac2ec-b31d-4cda-8755-204dc09e1ec6"
      },
      "execution_count": 27,
      "outputs": [
        {
          "output_type": "stream",
          "name": "stdout",
          "text": [
            "Test Accuracy: 0.0\n"
          ]
        }
      ]
    },
    {
      "cell_type": "markdown",
      "source": [
        "Uložíme parametry modelu a zobrazíme si jejich celkový počet"
      ],
      "metadata": {
        "id": "_4yXj1NEvcQR"
      }
    },
    {
      "cell_type": "code",
      "source": [
        "ps = Flux.params(model)\n",
        "\n",
        "# Get the total number of parameters\n",
        "params_count = length(ps)\n",
        "\n",
        "println(\"Total number of parameters in the model: \", params_count)"
      ],
      "metadata": {
        "colab": {
          "base_uri": "https://localhost:8080/"
        },
        "id": "kM_B8NVDkAZW",
        "outputId": "9838e86e-998a-4dc0-e013-94686006fa8f"
      },
      "execution_count": 28,
      "outputs": [
        {
          "output_type": "stream",
          "name": "stdout",
          "text": [
            "Total number of parameters in the model: 49\n"
          ]
        }
      ]
    },
    {
      "cell_type": "markdown",
      "source": [
        "Rozdělíme data na minibatches pro rychlejší trénování a optimalizaci modelu (stochastic gradient descent pomocí balíčku Flux.jl)."
      ],
      "metadata": {
        "id": "PiNVYy66vHIS"
      }
    },
    {
      "cell_type": "code",
      "source": [
        "# We define the minibatch size.\n",
        " minibatchsize = 10"
      ],
      "metadata": {
        "colab": {
          "base_uri": "https://localhost:8080/"
        },
        "id": "bCjASGkZ1g6c",
        "outputId": "74c3b41e-706f-4244-cbbc-07d88ca5ee28"
      },
      "execution_count": 29,
      "outputs": [
        {
          "output_type": "execute_result",
          "data": {
            "text/plain": [
              "10"
            ]
          },
          "metadata": {},
          "execution_count": 29
        }
      ]
    },
    {
      "cell_type": "code",
      "source": [
        "minibatches = Flux.DataLoader((train[1], train[2]), batchsize=minibatchsize, shuffle=true)"
      ],
      "metadata": {
        "colab": {
          "base_uri": "https://localhost:8080/"
        },
        "id": "IV5xTIIJLk19",
        "outputId": "e42e0bc4-27f5-40aa-b7d3-6f69186a77ff"
      },
      "execution_count": 30,
      "outputs": [
        {
          "output_type": "execute_result",
          "data": {
            "text/plain": [
              "400-element DataLoader(::Tuple{SubArray{ProductNode{NamedTuple{(:update_date, :comments, :versions, :abstract, :license, Symbol(\"report-no\"), :authors_parsed, :doi, :authors, :submitter, :title, Symbol(\"journal-ref\")), Tuple{ArrayNode{NGramMatrix{String, Vector{String}, Int64}, Nothing}, ArrayNode{NGramMatrix{Union{Missing, String}, Vector{Union{Missing, String}}, Union{Missing, Int64}}, Nothing}, BagNode{ProductNode{NamedTuple{(:version, :created), Tuple{ArrayNode{OneHotArrays.OneHotMatrix{UInt32, Vector{UInt32}}, Nothing}, ArrayNode{NGramMatrix{String, Vector{String}, Int64}, Nothing}}}, Nothing}, AlignedBags{Int64}, Nothing}, ArrayNode{NGramMatrix{String, Vector{String}, Int64}, Nothing}, ArrayNode{MaybeHotMatrix{Union{Missing, UInt32}, Int64, Union{Missing, Bool}}, Nothing}, ArrayNode{NGramMatrix{Union{Missing, String}, Vector{Union{Missing, String}}, Union{Missing, Int64}}, Nothing}, BagNode{BagNode{ArrayNode{NGramMatrix{String, Vector{String}, Int64}, Nothing}, AlignedBags{Int64}, Nothing}, AlignedBags{Int64}, Nothing}, ArrayNode{NGramMatrix{Union{Missing, String}, Vector{Union{Missing, String}}, Union{Missing, Int64}}, Nothing}, ArrayNode{NGramMatrix{String, Vector{String}, Int64}, Nothing}, ArrayNode{NGramMatrix{String, Vector{String}, Int64}, Nothing}, ArrayNode{NGramMatrix{String, Vector{String}, Int64}, Nothing}, ArrayNode{NGramMatrix{Union{Missing, String}, Vector{Union{Missing, String}}, Union{Missing, Int64}}, Nothing}}}, Nothing}, 1, Vector{ProductNode{NamedTuple{(:update_date, :comments, :versions, :abstract, :license, Symbol(\"report-no\"), :authors_parsed, :doi, :authors, :submitter, :title, Symbol(\"journal-ref\")), Tuple{ArrayNode{NGramMatrix{String, Vector{String}, Int64}, Nothing}, ArrayNode{NGramMatrix{Union{Missing, String}, Vector{Union{Missing, String}}, Union{Missing, Int64}}, Nothing}, BagNode{ProductNode{NamedTuple{(:version, :created), Tuple{ArrayNode{OneHotArrays.OneHotMatrix{UInt32, Vector{UInt32}}, Nothing}, ArrayNode{NGramMatrix{String, Vector{String}, Int64}, Nothing}}}, Nothing}, AlignedBags{Int64}, Nothing}, ArrayNode{NGramMatrix{String, Vector{String}, Int64}, Nothing}, ArrayNode{MaybeHotMatrix{Union{Missing, UInt32}, Int64, Union{Missing, Bool}}, Nothing}, ArrayNode{NGramMatrix{Union{Missing, String}, Vector{Union{Missing, String}}, Union{Missing, Int64}}, Nothing}, BagNode{BagNode{ArrayNode{NGramMatrix{String, Vector{String}, Int64}, Nothing}, AlignedBags{Int64}, Nothing}, AlignedBags{Int64}, Nothing}, ArrayNode{NGramMatrix{Union{Missing, String}, Vector{Union{Missing, String}}, Union{Missing, Int64}}, Nothing}, ArrayNode{NGramMatrix{String, Vector{String}, Int64}, Nothing}, ArrayNode{NGramMatrix{String, Vector{String}, Int64}, Nothing}, ArrayNode{NGramMatrix{String, Vector{String}, Int64}, Nothing}, ArrayNode{NGramMatrix{Union{Missing, String}, Vector{Union{Missing, String}}, Union{Missing, Int64}}, Nothing}}}, Nothing}}, Tuple{Vector{Int64}}, false}, SubArray{String, 1, Vector{String}, Tuple{Vector{Int64}}, false}}, shuffle=true, batchsize=10)\n",
              "  with first element:\n",
              "  (10-element Vector{ProductNode{NamedTuple{(:update_date, :comments, :versions, :abstract, :license, Symbol(\"report-no\"), :authors_parsed, :doi, :authors, :submitter, :title, Symbol(\"journal-ref\")), Tuple{ArrayNode{NGramMatrix{String, Vector{String}, Int64}, Nothing}, ArrayNode{NGramMatrix{Union{Missing, String}, Vector{Union{Missing, String}}, Union{Missing, Int64}}, Nothing}, BagNode{ProductNode{NamedTuple{(:version, :created), Tuple{ArrayNode{OneHotArrays.OneHotMatrix{UInt32, Vector{UInt32}}, Nothing}, ArrayNode{NGramMatrix{String, Vector{String}, Int64}, Nothing}}}, Nothing}, AlignedBags{Int64}, Nothing}, ArrayNode{NGramMatrix{String, Vector{String}, Int64}, Nothing}, ArrayNode{MaybeHotMatrix{Union{Missing, UInt32}, Int64, Union{Missing, Bool}}, Nothing}, ArrayNode{NGramMatrix{Union{Missing, String}, Vector{Union{Missing, String}}, Union{Missing, Int64}}, Nothing}, BagNode{BagNode{ArrayNode{NGramMatrix{String, Vector{String}, Int64}, Nothing}, AlignedBags{Int64}, Nothing}, AlignedBags{Int64}, Nothing}, ArrayNode{NGramMatrix{Union{Missing, String}, Vector{Union{Missing, String}}, Union{Missing, Int64}}, Nothing}, ArrayNode{NGramMatrix{String, Vector{String}, Int64}, Nothing}, ArrayNode{NGramMatrix{String, Vector{String}, Int64}, Nothing}, ArrayNode{NGramMatrix{String, Vector{String}, Int64}, Nothing}, ArrayNode{NGramMatrix{Union{Missing, String}, Vector{Union{Missing, String}}, Union{Missing, Int64}}, Nothing}}}, Nothing}}, 10-element Vector{String},)"
            ]
          },
          "metadata": {},
          "execution_count": 30
        }
      ]
    },
    {
      "cell_type": "markdown",
      "source": [
        "Zvolíme si optimizer ADAM (Adaptive Moment Estimation), který bude optimalizovat parametry modelu na základě dat."
      ],
      "metadata": {
        "id": "6LunyY_uvuD5"
      }
    },
    {
      "cell_type": "code",
      "source": [
        "# We want ADAM optimizer\n",
        "opt = Flux.Optimise.Adam()"
      ],
      "metadata": {
        "colab": {
          "base_uri": "https://localhost:8080/"
        },
        "id": "ZLglvYCZkFwu",
        "outputId": "2ee2c691-1d51-412b-9312-d9148b00e54e"
      },
      "execution_count": 31,
      "outputs": [
        {
          "output_type": "execute_result",
          "data": {
            "text/plain": [
              "Adam(0.001, (0.9, 0.999), 1.0e-8, IdDict{Any, Any}())"
            ]
          },
          "metadata": {},
          "execution_count": 31
        }
      ]
    },
    {
      "cell_type": "code",
      "source": [
        "x, y = first(minibatches)"
      ],
      "metadata": {
        "colab": {
          "base_uri": "https://localhost:8080/"
        },
        "id": "_PU8DARGj3af",
        "outputId": "ba8bde5f-94c5-4e43-84ae-817a4734555e"
      },
      "execution_count": 32,
      "outputs": [
        {
          "output_type": "execute_result",
          "data": {
            "text/plain": [
              "(ProductNode{NamedTuple{(:update_date, :comments, :versions, :abstract, :license, Symbol(\"report-no\"), :authors_parsed, :doi, :authors, :submitter, :title, Symbol(\"journal-ref\")), Tuple{ArrayNode{NGramMatrix{String, Vector{String}, Int64}, Nothing}, ArrayNode{NGramMatrix{Union{Missing, String}, Vector{Union{Missing, String}}, Union{Missing, Int64}}, Nothing}, BagNode{ProductNode{NamedTuple{(:version, :created), Tuple{ArrayNode{OneHotArrays.OneHotMatrix{UInt32, Vector{UInt32}}, Nothing}, ArrayNode{NGramMatrix{String, Vector{String}, Int64}, Nothing}}}, Nothing}, AlignedBags{Int64}, Nothing}, ArrayNode{NGramMatrix{String, Vector{String}, Int64}, Nothing}, ArrayNode{MaybeHotMatrix{Union{Missing, UInt32}, Int64, Union{Missing, Bool}}, Nothing}, ArrayNode{NGramMatrix{Union{Missing, String}, Vector{Union{Missing, String}}, Union{Missing, Int64}}, Nothing}, BagNode{BagNode{ArrayNode{NGramMatrix{String, Vector{String}, Int64}, Nothing}, AlignedBags{Int64}, Nothing}, AlignedBags{Int64}, Nothing}, ArrayNode{NGramMatrix{Union{Missing, String}, Vector{Union{Missing, String}}, Union{Missing, Int64}}, Nothing}, ArrayNode{NGramMatrix{String, Vector{String}, Int64}, Nothing}, ArrayNode{NGramMatrix{String, Vector{String}, Int64}, Nothing}, ArrayNode{NGramMatrix{String, Vector{String}, Int64}, Nothing}, ArrayNode{NGramMatrix{Union{Missing, String}, Vector{Union{Missing, String}}, Union{Missing, Int64}}, Nothing}}}, Nothing}[ProductNode, ProductNode, ProductNode, ProductNode, ProductNode, ProductNode, ProductNode, ProductNode, ProductNode, ProductNode], [\"hep-ph\", \"hep-th\", \"astro-ph\", \"hep-ph\", \"cs.LO\", \"math.GT math.AT\", \"math.GT math.CO\", \"cond-mat.str-el\", \"physics.optics\", \"quant-ph cond-mat.mes-hall nlin.CD\"])"
            ]
          },
          "metadata": {},
          "execution_count": 32
        }
      ]
    },
    {
      "cell_type": "code",
      "source": [
        "loss(x, y)\n",
        "gs = gradient(() -> loss(x, y), ps)\n",
        "Flux.Optimise.update!(opt, ps, gs)"
      ],
      "metadata": {
        "id": "-9SUV1jPkPa1"
      },
      "execution_count": 36,
      "outputs": []
    },
    {
      "cell_type": "markdown",
      "source": [
        "Konečně trénujeme model na datech"
      ],
      "metadata": {
        "id": "rDM_W9lTw25y"
      }
    },
    {
      "cell_type": "code",
      "source": [
        "# Let train and optimize our model\n",
        "Flux.train!(loss, Flux.params(model),\n",
        "    minibatches,\n",
        "    ADAM())"
      ],
      "metadata": {
        "id": "8baUeKwkX5Qy"
      },
      "execution_count": 37,
      "outputs": []
    },
    {
      "cell_type": "markdown",
      "source": [
        "Správnost tohoto tentokrát natrénovaného modelu opět ověříme na testovacích datech."
      ],
      "metadata": {
        "id": "BFTLr5lwxGjg"
      }
    },
    {
      "cell_type": "code",
      "source": [
        "test_accuracy = mean(labels[Flux.onecold(softmax(model(reduce(catobs, getobs(test[1])))))] .== getobs(test[2]))\n",
        "\n",
        "# Print test accuracy\n",
        "println(\"Test Accuracy: \", test_accuracy)"
      ],
      "metadata": {
        "id": "vyMyDoU5xFeY",
        "colab": {
          "base_uri": "https://localhost:8080/"
        },
        "outputId": "68aa2df4-7a48-4ea1-88ee-c589fb219fa9"
      },
      "execution_count": 38,
      "outputs": [
        {
          "output_type": "stream",
          "name": "stdout",
          "text": [
            "Test Accuracy: 0.374\n"
          ]
        }
      ]
    }
  ],
  "metadata": {
    "accelerator": "GPU",
    "colab": {
      "gpuType": "T4",
      "provenance": [],
      "include_colab_link": true
    },
    "kernelspec": {
      "display_name": "julia 1.8.5",
      "name": "julia"
    }
  },
  "nbformat": 4,
  "nbformat_minor": 0
}