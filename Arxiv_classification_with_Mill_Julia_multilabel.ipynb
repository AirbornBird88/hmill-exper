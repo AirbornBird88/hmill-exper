{
  "cells": [
    {
      "cell_type": "markdown",
      "metadata": {
        "id": "view-in-github",
        "colab_type": "text"
      },
      "source": [
        "<a href=\"https://colab.research.google.com/github/AirbornBird88/hmill-exper/blob/main/Arxiv_classification_with_Mill_Julia_multilabel.ipynb\" target=\"_parent\"><img src=\"https://colab.research.google.com/assets/colab-badge.svg\" alt=\"Open In Colab\"/></a>"
      ]
    },
    {
      "cell_type": "markdown",
      "metadata": {
        "id": "tQ1r1bbb0yBv"
      },
      "source": [
        "# <img src=\"https://github.com/JuliaLang/julia-logo-graphics/raw/master/images/julia-logo-color.png\" height=\"100\" /> _Colab Notebook Template_\n",
        "\n",
        "## Instructions\n",
        "1. Work on a copy of this notebook: _File_ > _Save a copy in Drive_ (you will need a Google account). Alternatively, you can download the notebook using _File_ > _Download .ipynb_, then upload it to [Colab](https://colab.research.google.com/).\n",
        "2. If you need a GPU: _Runtime_ > _Change runtime type_ > _Harware accelerator_ = _GPU_.\n",
        "3. Execute the following cell (click on it and press Ctrl+Enter) to install Julia, IJulia and other packages (if needed, update `JULIA_VERSION` and the other parameters). This takes a couple of minutes.\n",
        "4. Reload this page (press Ctrl+R, or ⌘+R, or the F5 key) and continue to the next section.\n",
        "\n",
        "_Notes_:\n",
        "* If your Colab Runtime gets reset (e.g., due to inactivity), repeat steps 2, 3 and 4.\n",
        "* After installation, if you want to change the Julia version or activate/deactivate the GPU, you will need to reset the Runtime: _Runtime_ > _Factory reset runtime_ and repeat steps 3 and 4."
      ]
    },
    {
      "cell_type": "code",
      "execution_count": null,
      "metadata": {
        "colab": {
          "base_uri": "https://localhost:8080/"
        },
        "id": "GIeFXS0F0zww",
        "outputId": "cdca9b99-709f-4383-d467-a63a2337a729"
      },
      "outputs": [
        {
          "output_type": "stream",
          "name": "stdout",
          "text": [
            "Installing Julia 1.8.5 on the current Colab Runtime...\n",
            "2024-06-03 15:52:41 URL:https://storage.googleapis.com/julialang2/bin/linux/x64/1.8/julia-1.8.5-linux-x86_64.tar.gz [130873886/130873886] -> \"/tmp/julia.tar.gz\" [1]\n",
            "Installing Julia package IJulia...\n",
            "Installing Julia package BenchmarkTools...\n",
            "Installing IJulia kernel...\n",
            "\u001b[36m\u001b[1m[ \u001b[22m\u001b[39m\u001b[36m\u001b[1mInfo: \u001b[22m\u001b[39mInstalling julia kernelspec in /root/.local/share/jupyter/kernels/julia-1.8\n",
            "\n",
            "Successfully installed julia version 1.8.5!\n",
            "Please reload this page (press Ctrl+R, ⌘+R, or the F5 key) then\n",
            "jump to the 'Checking the Installation' section.\n"
          ]
        },
        {
          "output_type": "execute_result",
          "data": {
            "text/plain": []
          },
          "metadata": {},
          "execution_count": 9
        }
      ],
      "source": [
        "%%shell\n",
        "set -e\n",
        "\n",
        "#---------------------------------------------------#\n",
        "JULIA_VERSION=\"1.8.5\" # any version ≥ 0.7.0\n",
        "JULIA_PACKAGES=\"IJulia BenchmarkTools\"\n",
        "JULIA_PACKAGES_IF_GPU=\"CUDA\" # or CuArrays for older Julia versions\n",
        "JULIA_NUM_THREADS=2\n",
        "#---------------------------------------------------#\n",
        "\n",
        "if [ -z `which julia` ]; then\n",
        "  # Install Julia\n",
        "  JULIA_VER=`cut -d '.' -f -2 <<< \"$JULIA_VERSION\"`\n",
        "  echo \"Installing Julia $JULIA_VERSION on the current Colab Runtime...\"\n",
        "  BASE_URL=\"https://julialang-s3.julialang.org/bin/linux/x64\"\n",
        "  URL=\"$BASE_URL/$JULIA_VER/julia-$JULIA_VERSION-linux-x86_64.tar.gz\"\n",
        "  wget -nv $URL -O /tmp/julia.tar.gz # -nv means \"not verbose\"\n",
        "  tar -x -f /tmp/julia.tar.gz -C /usr/local --strip-components 1\n",
        "  rm /tmp/julia.tar.gz\n",
        "\n",
        "  # Install Packages\n",
        "  nvidia-smi -L &> /dev/null && export GPU=1 || export GPU=0\n",
        "  if [ $GPU -eq 1 ]; then\n",
        "    JULIA_PACKAGES=\"$JULIA_PACKAGES $JULIA_PACKAGES_IF_GPU\"\n",
        "  fi\n",
        "  for PKG in `echo $JULIA_PACKAGES`; do\n",
        "    echo \"Installing Julia package $PKG...\"\n",
        "    julia -e 'using Pkg; pkg\"add '$PKG'; precompile;\"' &> /dev/null\n",
        "  done\n",
        "\n",
        "  # Install kernel and rename it to \"julia\"\n",
        "  echo \"Installing IJulia kernel...\"\n",
        "  julia -e 'using IJulia; IJulia.installkernel(\"julia\", env=Dict(\n",
        "      \"JULIA_NUM_THREADS\"=>\"'\"$JULIA_NUM_THREADS\"'\"))'\n",
        "  KERNEL_DIR=`julia -e \"using IJulia; print(IJulia.kerneldir())\"`\n",
        "  KERNEL_NAME=`ls -d \"$KERNEL_DIR\"/julia*`\n",
        "  mv -f $KERNEL_NAME \"$KERNEL_DIR\"/julia\n",
        "\n",
        "  echo ''\n",
        "  echo \"Successfully installed `julia -v`!\"\n",
        "  echo \"Please reload this page (press Ctrl+R, ⌘+R, or the F5 key) then\"\n",
        "  echo \"jump to the 'Checking the Installation' section.\"\n",
        "fi"
      ]
    },
    {
      "cell_type": "markdown",
      "metadata": {
        "id": "-OS3Ac017T1i"
      },
      "source": [
        "# Checking the Installation\n",
        "The `versioninfo()` function should print your Julia version and some other info about the system:"
      ]
    },
    {
      "cell_type": "code",
      "execution_count": 1,
      "metadata": {
        "colab": {
          "base_uri": "https://localhost:8080/"
        },
        "id": "EEzvvzCl1i0F",
        "outputId": "f76f34fa-cfdc-410b-f96b-bbbda1326d53"
      },
      "outputs": [
        {
          "output_type": "stream",
          "name": "stdout",
          "text": [
            "Julia Version 1.8.5\n",
            "Commit 17cfb8e65ea (2023-01-08 06:45 UTC)\n",
            "Platform Info:\n",
            "  OS: Linux (x86_64-linux-gnu)\n",
            "  CPU: 2 × Intel(R) Xeon(R) CPU @ 2.20GHz\n",
            "  WORD_SIZE: 64\n",
            "  LIBM: libopenlibm\n",
            "  LLVM: libLLVM-13.0.1 (ORCJIT, broadwell)\n",
            "  Threads: 2 on 2 virtual cores\n",
            "Environment:\n",
            "  LD_LIBRARY_PATH = /usr/local/nvidia/lib:/usr/local/nvidia/lib64\n",
            "  JULIA_NUM_THREADS = 2\n"
          ]
        }
      ],
      "source": [
        "versioninfo()"
      ]
    },
    {
      "cell_type": "markdown",
      "metadata": {
        "id": "2UMidUQB03vJ"
      },
      "source": [
        "\n",
        "\n",
        "Have fun!\n",
        "\n",
        "<img src=\"https://raw.githubusercontent.com/JuliaLang/julia-logo-graphics/master/images/julia-logo-mask.png\" height=\"100\" />"
      ]
    },
    {
      "cell_type": "code",
      "execution_count": null,
      "metadata": {
        "colab": {
          "base_uri": "https://localhost:8080/"
        },
        "id": "XciCcMAJOT3_",
        "outputId": "07635fbe-3a49-430c-f070-a2b044ad67c2"
      },
      "outputs": [
        {
          "name": "stdout",
          "output_type": "stream",
          "text": [
            "No GPU found.\n"
          ]
        }
      ],
      "source": [
        "try\n",
        "    using CUDA\n",
        "catch\n",
        "    println(\"No GPU found.\")\n",
        "else\n",
        "    run(`nvidia-smi`)\n",
        "    # Create a new random matrix directly on the GPU:\n",
        "    M_on_gpu = CUDA.CURAND.rand(2^11, 2^11)\n",
        "    @btime $M_on_gpu * $M_on_gpu; nothing\n",
        "end"
      ]
    },
    {
      "cell_type": "code",
      "execution_count": null,
      "metadata": {
        "colab": {
          "base_uri": "https://localhost:8080/"
        },
        "id": "50vDy4H6rNqn",
        "outputId": "8d250686-e901-41bb-e6d3-a2e5fcf5de2b"
      },
      "outputs": [
        {
          "output_type": "stream",
          "name": "stdout",
          "text": [
            "Julia\n",
            "Python\n",
            "R\n"
          ]
        }
      ],
      "source": [
        "languages = [\"Julia\", \"Python\", \"R\"]\n",
        "\n",
        "for lang in languages\n",
        "  println(lang)\n",
        "end"
      ]
    },
    {
      "cell_type": "code",
      "execution_count": 2,
      "metadata": {
        "colab": {
          "base_uri": "https://localhost:8080/"
        },
        "id": "V-StYvRumxXW",
        "outputId": "4b8f8123-d199-4cea-c3e3-a6914373124d"
      },
      "outputs": [
        {
          "output_type": "stream",
          "name": "stderr",
          "text": [
            "\u001b[32m\u001b[1m    Updating\u001b[22m\u001b[39m registry at `~/.julia/registries/General.toml`\n",
            "\u001b[32m\u001b[1m   Resolving\u001b[22m\u001b[39m package versions...\n",
            "\u001b[32m\u001b[1m  No Changes\u001b[22m\u001b[39m to `~/.julia/environments/v1.8/Project.toml`\n",
            "\u001b[32m\u001b[1m  No Changes\u001b[22m\u001b[39m to `~/.julia/environments/v1.8/Manifest.toml`\n",
            "\u001b[32m\u001b[1m   Resolving\u001b[22m\u001b[39m package versions...\n",
            "\u001b[32m\u001b[1m   Installed\u001b[22m\u001b[39m RealDot ───────────────────── v0.1.0\n",
            "\u001b[32m\u001b[1m   Installed\u001b[22m\u001b[39m Crayons ───────────────────── v4.1.1\n",
            "\u001b[32m\u001b[1m   Installed\u001b[22m\u001b[39m IrrationalConstants ───────── v0.2.2\n",
            "\u001b[32m\u001b[1m   Installed\u001b[22m\u001b[39m GPUArraysCore ─────────────── v0.1.5\n",
            "\u001b[32m\u001b[1m   Installed\u001b[22m\u001b[39m IRTools ───────────────────── v0.4.14\n",
            "\u001b[32m\u001b[1m   Installed\u001b[22m\u001b[39m Scratch ───────────────────── v1.2.1\n",
            "\u001b[32m\u001b[1m   Installed\u001b[22m\u001b[39m Transducers ───────────────── v0.4.80\n",
            "\u001b[32m\u001b[1m   Installed\u001b[22m\u001b[39m Flux ──────────────────────── v0.13.17\n",
            "\u001b[32m\u001b[1m   Installed\u001b[22m\u001b[39m DiffRules ─────────────────── v1.15.1\n",
            "\u001b[32m\u001b[1m   Installed\u001b[22m\u001b[39m Adapt ─────────────────────── v3.7.2\n",
            "\u001b[32m\u001b[1m   Installed\u001b[22m\u001b[39m ContextVariablesX ─────────── v0.1.3\n",
            "\u001b[32m\u001b[1m   Installed\u001b[22m\u001b[39m ArgCheck ──────────────────── v2.3.0\n",
            "\u001b[32m\u001b[1m   Installed\u001b[22m\u001b[39m ShowCases ─────────────────── v0.1.0\n",
            "\u001b[32m\u001b[1m   Installed\u001b[22m\u001b[39m Functors ──────────────────── v0.4.10\n",
            "\u001b[32m\u001b[1m   Installed\u001b[22m\u001b[39m cuDNN ─────────────────────── v1.1.1\n",
            "\u001b[32m\u001b[1m   Installed\u001b[22m\u001b[39m PrettyTables ──────────────── v2.3.2\n",
            "\u001b[32m\u001b[1m   Installed\u001b[22m\u001b[39m FLoopsBase ────────────────── v0.1.1\n",
            "\u001b[32m\u001b[1m   Installed\u001b[22m\u001b[39m TableTraits ───────────────── v1.0.1\n",
            "\u001b[32m\u001b[1m   Installed\u001b[22m\u001b[39m CUDA_Driver_jll ───────────── v0.5.0+1\n",
            "\u001b[32m\u001b[1m   Installed\u001b[22m\u001b[39m SpecialFunctions ──────────── v2.4.0\n",
            "\u001b[32m\u001b[1m   Installed\u001b[22m\u001b[39m DiffResults ───────────────── v1.1.0\n",
            "\u001b[32m\u001b[1m   Installed\u001b[22m\u001b[39m SentinelArrays ────────────── v1.4.3\n",
            "\u001b[32m\u001b[1m   Installed\u001b[22m\u001b[39m ProgressLogging ───────────── v0.1.4\n",
            "\u001b[32m\u001b[1m   Installed\u001b[22m\u001b[39m Tables ────────────────────── v1.11.1\n",
            "\u001b[32m\u001b[1m   Installed\u001b[22m\u001b[39m PDMats ────────────────────── v0.11.31\n",
            "\u001b[32m\u001b[1m   Installed\u001b[22m\u001b[39m DataAPI ───────────────────── v1.16.0\n",
            "\u001b[32m\u001b[1m   Installed\u001b[22m\u001b[39m NNlibCUDA ─────────────────── v0.2.7\n",
            "\u001b[32m\u001b[1m   Installed\u001b[22m\u001b[39m PooledArrays ──────────────── v1.4.3\n",
            "\u001b[32m\u001b[1m   Installed\u001b[22m\u001b[39m InlineStrings ─────────────── v1.4.0\n",
            "\u001b[32m\u001b[1m   Installed\u001b[22m\u001b[39m GPUCompiler ───────────────── v0.21.4\n",
            "\u001b[32m\u001b[1m   Installed\u001b[22m\u001b[39m Setfield ──────────────────── v1.1.1\n",
            "\u001b[32m\u001b[1m   Installed\u001b[22m\u001b[39m NNlib ─────────────────────── v0.8.21\n",
            "\u001b[32m\u001b[1m   Installed\u001b[22m\u001b[39m TimerOutputs ──────────────── v0.5.24\n",
            "\u001b[32m\u001b[1m   Installed\u001b[22m\u001b[39m Baselet ───────────────────── v0.1.1\n",
            "\u001b[32m\u001b[1m   Installed\u001b[22m\u001b[39m AbstractFFTs ──────────────── v1.5.0\n",
            "\u001b[32m\u001b[1m   Installed\u001b[22m\u001b[39m StaticArrays ──────────────── v1.9.4\n",
            "\u001b[32m\u001b[1m   Installed\u001b[22m\u001b[39m Richardson ────────────────── v1.4.2\n",
            "\u001b[32m\u001b[1m   Installed\u001b[22m\u001b[39m Zygote ────────────────────── v0.6.70\n",
            "\u001b[32m\u001b[1m   Installed\u001b[22m\u001b[39m OneHotArrays ──────────────── v0.2.5\n",
            "\u001b[32m\u001b[1m   Installed\u001b[22m\u001b[39m NaNMath ───────────────────── v1.0.2\n",
            "\u001b[32m\u001b[1m   Installed\u001b[22m\u001b[39m StaticArraysCore ──────────── v1.4.2\n",
            "\u001b[32m\u001b[1m   Installed\u001b[22m\u001b[39m IteratorInterfaceExtensions ─ v1.0.0\n",
            "\u001b[32m\u001b[1m   Installed\u001b[22m\u001b[39m Optimisers ────────────────── v0.2.20\n",
            "\u001b[32m\u001b[1m   Installed\u001b[22m\u001b[39m FiniteDifferences ─────────── v0.12.32\n",
            "\u001b[32m\u001b[1m   Installed\u001b[22m\u001b[39m ConstructionBase ──────────── v1.5.5\n",
            "\u001b[32m\u001b[1m   Installed\u001b[22m\u001b[39m MicroCollections ──────────── v0.1.4\n",
            "\u001b[32m\u001b[1m   Installed\u001b[22m\u001b[39m HierarchicalUtils ─────────── v2.2.1\n",
            "\u001b[32m\u001b[1m   Installed\u001b[22m\u001b[39m CUDA_Runtime_Discovery ────── v0.2.4\n",
            "\u001b[32m\u001b[1m   Installed\u001b[22m\u001b[39m EnzymeCore ────────────────── v0.7.3\n",
            "\u001b[32m\u001b[1m   Installed\u001b[22m\u001b[39m DefineSingletons ──────────── v0.1.2\n",
            "\u001b[32m\u001b[1m   Installed\u001b[22m\u001b[39m DataValueInterfaces ───────── v1.0.0\n",
            "\u001b[32m\u001b[1m   Installed\u001b[22m\u001b[39m LLVMExtra_jll ─────────────── v0.0.29+0\n",
            "\u001b[32m\u001b[1m   Installed\u001b[22m\u001b[39m OrderedCollections ────────── v1.6.3\n",
            "\u001b[32m\u001b[1m   Installed\u001b[22m\u001b[39m NameResolution ────────────── v0.1.5\n",
            "\u001b[32m\u001b[1m   Installed\u001b[22m\u001b[39m StructArrays ──────────────── v0.6.18\n",
            "\u001b[32m\u001b[1m   Installed\u001b[22m\u001b[39m UnsafeAtomicsLLVM ─────────── v0.1.4\n",
            "\u001b[32m\u001b[1m   Installed\u001b[22m\u001b[39m LaTeXStrings ──────────────── v1.3.1\n",
            "\u001b[32m\u001b[1m   Installed\u001b[22m\u001b[39m CEnum ─────────────────────── v0.4.2\n",
            "\u001b[32m\u001b[1m   Installed\u001b[22m\u001b[39m InvertedIndices ───────────── v1.3.0\n",
            "\u001b[32m\u001b[1m   Installed\u001b[22m\u001b[39m InitialValues ─────────────── v0.3.1\n",
            "\u001b[32m\u001b[1m   Installed\u001b[22m\u001b[39m Combinatorics ─────────────── v1.0.2\n",
            "\u001b[32m\u001b[1m   Installed\u001b[22m\u001b[39m ChainRulesCore ────────────── v1.24.0\n",
            "\u001b[32m\u001b[1m   Installed\u001b[22m\u001b[39m GPUArrays ─────────────────── v8.8.1\n",
            "\u001b[32m\u001b[1m   Installed\u001b[22m\u001b[39m BFloat16s ─────────────────── v0.4.2\n",
            "\u001b[32m\u001b[1m   Installed\u001b[22m\u001b[39m Random123 ─────────────────── v1.7.0\n",
            "\u001b[32m\u001b[1m   Installed\u001b[22m\u001b[39m Reexport ──────────────────── v1.2.2\n",
            "\u001b[32m\u001b[1m   Installed\u001b[22m\u001b[39m CUDA_Runtime_jll ──────────── v0.6.0+0\n",
            "\u001b[32m\u001b[1m   Installed\u001b[22m\u001b[39m FillArrays ────────────────── v1.11.0\n",
            "\u001b[32m\u001b[1m   Installed\u001b[22m\u001b[39m ForwardDiff ───────────────── v0.10.36\n",
            "\u001b[32m\u001b[1m   Installed\u001b[22m\u001b[39m DataFrames ────────────────── v1.6.1\n",
            "\u001b[32m\u001b[1m   Installed\u001b[22m\u001b[39m RandomNumbers ─────────────── v1.5.3\n",
            "\u001b[32m\u001b[1m   Installed\u001b[22m\u001b[39m SplittablesBase ───────────── v0.1.15\n",
            "\u001b[32m\u001b[1m   Installed\u001b[22m\u001b[39m Requires ──────────────────── v1.3.0\n",
            "\u001b[32m\u001b[1m   Installed\u001b[22m\u001b[39m LogExpFunctions ───────────── v0.3.28\n",
            "\u001b[32m\u001b[1m   Installed\u001b[22m\u001b[39m DataStructures ────────────── v0.18.20\n",
            "\u001b[32m\u001b[1m   Installed\u001b[22m\u001b[39m CommonSubexpressions ──────── v0.3.0\n",
            "\u001b[32m\u001b[1m   Installed\u001b[22m\u001b[39m ChainRules ────────────────── v1.68.0\n",
            "\u001b[32m\u001b[1m   Installed\u001b[22m\u001b[39m KernelAbstractions ────────── v0.9.19\n",
            "\u001b[32m\u001b[1m   Installed\u001b[22m\u001b[39m ZygoteRules ───────────────── v0.2.5\n",
            "\u001b[32m\u001b[1m   Installed\u001b[22m\u001b[39m ExprTools ─────────────────── v0.1.10\n",
            "\u001b[32m\u001b[1m   Installed\u001b[22m\u001b[39m PrettyPrint ───────────────── v0.2.0\n",
            "\u001b[32m\u001b[1m   Installed\u001b[22m\u001b[39m MacroTools ────────────────── v0.5.13\n",
            "\u001b[32m\u001b[1m   Installed\u001b[22m\u001b[39m BangBang ──────────────────── v0.3.40\n",
            "\u001b[32m\u001b[1m   Installed\u001b[22m\u001b[39m MLStyle ───────────────────── v0.4.17\n",
            "\u001b[32m\u001b[1m   Installed\u001b[22m\u001b[39m StatsAPI ──────────────────── v1.7.0\n",
            "\u001b[32m\u001b[1m   Installed\u001b[22m\u001b[39m CompositionsBase ──────────── v0.1.2\n",
            "\u001b[32m\u001b[1m   Installed\u001b[22m\u001b[39m Compat ────────────────────── v4.15.0\n",
            "\u001b[32m\u001b[1m   Installed\u001b[22m\u001b[39m Mill ──────────────────────── v2.9.1\n",
            "\u001b[32m\u001b[1m   Installed\u001b[22m\u001b[39m OpenSpecFun_jll ───────────── v0.5.5+0\n",
            "\u001b[32m\u001b[1m   Installed\u001b[22m\u001b[39m CUDA ──────────────────────── v4.4.2\n",
            "\u001b[32m\u001b[1m   Installed\u001b[22m\u001b[39m CUDNN_jll ─────────────────── v8.9.4+0\n",
            "\u001b[32m\u001b[1m   Installed\u001b[22m\u001b[39m MLUtils ───────────────────── v0.4.4\n",
            "\u001b[32m\u001b[1m   Installed\u001b[22m\u001b[39m SparseInverseSubset ───────── v0.1.2\n",
            "\u001b[32m\u001b[1m   Installed\u001b[22m\u001b[39m UnsafeAtomics ─────────────── v0.2.1\n",
            "\u001b[32m\u001b[1m   Installed\u001b[22m\u001b[39m JuliaVariables ────────────── v0.2.4\n",
            "\u001b[32m\u001b[1m   Installed\u001b[22m\u001b[39m InverseFunctions ──────────── v0.1.14\n",
            "\u001b[32m\u001b[1m   Installed\u001b[22m\u001b[39m SortingAlgorithms ─────────── v1.2.1\n",
            "\u001b[32m\u001b[1m   Installed\u001b[22m\u001b[39m StringManipulation ────────── v0.3.4\n",
            "\u001b[32m\u001b[1m   Installed\u001b[22m\u001b[39m Missings ──────────────────── v1.2.0\n",
            "\u001b[32m\u001b[1m   Installed\u001b[22m\u001b[39m SimpleTraits ──────────────── v0.9.4\n",
            "\u001b[32m\u001b[1m   Installed\u001b[22m\u001b[39m FLoops ────────────────────── v0.2.1\n",
            "\u001b[32m\u001b[1m   Installed\u001b[22m\u001b[39m StatsBase ─────────────────── v0.34.3\n",
            "\u001b[32m\u001b[1m   Installed\u001b[22m\u001b[39m Atomix ────────────────────── v0.1.0\n",
            "\u001b[32m\u001b[1m   Installed\u001b[22m\u001b[39m LLVM ──────────────────────── v6.6.3\n",
            "\u001b[32m\u001b[1m   Installed\u001b[22m\u001b[39m ChangesOfVariables ────────── v0.1.8\n",
            "\u001b[32m\u001b[1m   Installed\u001b[22m\u001b[39m DocStringExtensions ───────── v0.9.3\n",
            "\u001b[32m\u001b[1m    Updating\u001b[22m\u001b[39m `~/.julia/environments/v1.8/Project.toml`\n",
            "\u001b[33m⌅\u001b[39m\u001b[90m [1d0525e4] \u001b[39m\u001b[92m+ Mill v2.9.1\u001b[39m\n",
            "\u001b[32m\u001b[1m    Updating\u001b[22m\u001b[39m `~/.julia/environments/v1.8/Manifest.toml`\n",
            " Downloading artifact: CUDA_Driver\n",
            " \u001b[90m [621f4979] \u001b[39m\u001b[92m+ AbstractFFTs v1.5.0\u001b[39m\n",
            "\u001b[33m⌅\u001b[39m\u001b[90m [79e6a3ab] \u001b[39m\u001b[92m+ Adapt v3.7.2\u001b[39m\n",
            " \u001b[90m [dce04be8] \u001b[39m\u001b[92m+ ArgCheck v2.3.0\u001b[39m\n",
            " \u001b[90m [a9b6321e] \u001b[39m\u001b[92m+ Atomix v0.1.0\u001b[39m\n",
            "\u001b[33m⌅\u001b[39m\u001b[90m [ab4f0b2a] \u001b[39m\u001b[92m+ BFloat16s v0.4.2\u001b[39m\n",
            "\u001b[33m⌅\u001b[39m\u001b[90m [198e06fe] \u001b[39m\u001b[92m+ BangBang v0.3.40\u001b[39m\n",
            " \u001b[90m [9718e550] \u001b[39m\u001b[92m+ Baselet v0.1.1\u001b[39m\n",
            "\u001b[33m⌅\u001b[39m\u001b[90m [fa961155] \u001b[39m\u001b[92m+ CEnum v0.4.2\u001b[39m\n",
            "\u001b[33m⌅\u001b[39m\u001b[90m [052768ef] \u001b[39m\u001b[92m+ CUDA v4.4.2\u001b[39m\n",
            "\u001b[33m⌅\u001b[39m\u001b[90m [1af6417a] \u001b[39m\u001b[92m+ CUDA_Runtime_Discovery v0.2.4\u001b[39m\n",
            " \u001b[90m [082447d4] \u001b[39m\u001b[92m+ ChainRules v1.68.0\u001b[39m\n",
            " \u001b[90m [d360d2e6] \u001b[39m\u001b[92m+ ChainRulesCore v1.24.0\u001b[39m\n",
            " \u001b[90m [9e997f8a] \u001b[39m\u001b[92m+ ChangesOfVariables v0.1.8\u001b[39m\n",
            " \u001b[90m [861a8166] \u001b[39m\u001b[92m+ Combinatorics v1.0.2\u001b[39m\n",
            " \u001b[90m [bbf7d656] \u001b[39m\u001b[92m+ CommonSubexpressions v0.3.0\u001b[39m\n",
            " \u001b[90m [34da2185] \u001b[39m\u001b[92m+ Compat v4.15.0\u001b[39m\n",
            " \u001b[90m [a33af91c] \u001b[39m\u001b[92m+ CompositionsBase v0.1.2\u001b[39m\n",
            " \u001b[90m [187b0558] \u001b[39m\u001b[92m+ ConstructionBase v1.5.5\u001b[39m\n",
            " \u001b[90m [6add18c4] \u001b[39m\u001b[92m+ ContextVariablesX v0.1.3\u001b[39m\n",
            " \u001b[90m [a8cc5b0e] \u001b[39m\u001b[92m+ Crayons v4.1.1\u001b[39m\n",
            " \u001b[90m [9a962f9c] \u001b[39m\u001b[92m+ DataAPI v1.16.0\u001b[39m\n",
            " \u001b[90m [a93c6f00] \u001b[39m\u001b[92m+ DataFrames v1.6.1\u001b[39m\n",
            " \u001b[90m [864edb3b] \u001b[39m\u001b[92m+ DataStructures v0.18.20\u001b[39m\n",
            " \u001b[90m [e2d170a0] \u001b[39m\u001b[92m+ DataValueInterfaces v1.0.0\u001b[39m\n",
            " \u001b[90m [244e2a9f] \u001b[39m\u001b[92m+ DefineSingletons v0.1.2\u001b[39m\n",
            " \u001b[90m [163ba53b] \u001b[39m\u001b[92m+ DiffResults v1.1.0\u001b[39m\n",
            " \u001b[90m [b552c78f] \u001b[39m\u001b[92m+ DiffRules v1.15.1\u001b[39m\n",
            " \u001b[90m [ffbed154] \u001b[39m\u001b[92m+ DocStringExtensions v0.9.3\u001b[39m\n",
            " \u001b[90m [f151be2c] \u001b[39m\u001b[92m+ EnzymeCore v0.7.3\u001b[39m\n",
            " \u001b[90m [e2ba6199] \u001b[39m\u001b[92m+ ExprTools v0.1.10\u001b[39m\n",
            " \u001b[90m [cc61a311] \u001b[39m\u001b[92m+ FLoops v0.2.1\u001b[39m\n",
            " \u001b[90m [b9860ae5] \u001b[39m\u001b[92m+ FLoopsBase v0.1.1\u001b[39m\n",
            " \u001b[90m [1a297f60] \u001b[39m\u001b[92m+ FillArrays v1.11.0\u001b[39m\n",
            " \u001b[90m [26cc04aa] \u001b[39m\u001b[92m+ FiniteDifferences v0.12.32\u001b[39m\n",
            "\u001b[33m⌅\u001b[39m\u001b[90m [587475ba] \u001b[39m\u001b[92m+ Flux v0.13.17\u001b[39m\n",
            " \u001b[90m [f6369f11] \u001b[39m\u001b[92m+ ForwardDiff v0.10.36\u001b[39m\n",
            " \u001b[90m [d9f16b24] \u001b[39m\u001b[92m+ Functors v0.4.10\u001b[39m\n",
            "\u001b[33m⌅\u001b[39m\u001b[90m [0c68f7d7] \u001b[39m\u001b[92m+ GPUArrays v8.8.1\u001b[39m\n",
            "\u001b[33m⌅\u001b[39m\u001b[90m [46192b85] \u001b[39m\u001b[92m+ GPUArraysCore v0.1.5\u001b[39m\n",
            "\u001b[33m⌅\u001b[39m\u001b[90m [61eb1bfa] \u001b[39m\u001b[92m+ GPUCompiler v0.21.4\u001b[39m\n",
            " \u001b[90m [f9ccea15] \u001b[39m\u001b[92m+ HierarchicalUtils v2.2.1\u001b[39m\n",
            " \u001b[90m [7869d1d1] \u001b[39m\u001b[92m+ IRTools v0.4.14\u001b[39m\n",
            " \u001b[90m [22cec73e] \u001b[39m\u001b[92m+ InitialValues v0.3.1\u001b[39m\n",
            " \u001b[90m [842dd82b] \u001b[39m\u001b[92m+ InlineStrings v1.4.0\u001b[39m\n",
            " \u001b[90m [3587e190] \u001b[39m\u001b[92m+ InverseFunctions v0.1.14\u001b[39m\n",
            " \u001b[90m [41ab1584] \u001b[39m\u001b[92m+ InvertedIndices v1.3.0\u001b[39m\n",
            " \u001b[90m [92d709cd] \u001b[39m\u001b[92m+ IrrationalConstants v0.2.2\u001b[39m\n",
            " \u001b[90m [82899510] \u001b[39m\u001b[92m+ IteratorInterfaceExtensions v1.0.0\u001b[39m\n",
            " \u001b[90m [b14d175d] \u001b[39m\u001b[92m+ JuliaVariables v0.2.4\u001b[39m\n",
            " \u001b[90m [63c18a36] \u001b[39m\u001b[92m+ KernelAbstractions v0.9.19\u001b[39m\n",
            "\u001b[33m⌅\u001b[39m\u001b[90m [929cbde3] \u001b[39m\u001b[92m+ LLVM v6.6.3\u001b[39m\n",
            " \u001b[90m [b964fa9f] \u001b[39m\u001b[92m+ LaTeXStrings v1.3.1\u001b[39m\n",
            " \u001b[90m [2ab3a3ac] \u001b[39m\u001b[92m+ LogExpFunctions v0.3.28\u001b[39m\n",
            " \u001b[90m [d8e11817] \u001b[39m\u001b[92m+ MLStyle v0.4.17\u001b[39m\n",
            " \u001b[90m [f1d291b0] \u001b[39m\u001b[92m+ MLUtils v0.4.4\u001b[39m\n",
            " \u001b[90m [1914dd2f] \u001b[39m\u001b[92m+ MacroTools v0.5.13\u001b[39m\n",
            "\u001b[33m⌅\u001b[39m\u001b[90m [128add7d] \u001b[39m\u001b[92m+ MicroCollections v0.1.4\u001b[39m\n",
            "\u001b[33m⌅\u001b[39m\u001b[90m [1d0525e4] \u001b[39m\u001b[92m+ Mill v2.9.1\u001b[39m\n",
            " \u001b[90m [e1d29d7a] \u001b[39m\u001b[92m+ Missings v1.2.0\u001b[39m\n",
            "\u001b[33m⌅\u001b[39m\u001b[90m [872c559c] \u001b[39m\u001b[92m+ NNlib v0.8.21\u001b[39m\n",
            " \u001b[90m [a00861dc] \u001b[39m\u001b[92m+ NNlibCUDA v0.2.7\u001b[39m\n",
            " \u001b[90m [77ba4419] \u001b[39m\u001b[92m+ NaNMath v1.0.2\u001b[39m\n",
            " \u001b[90m [71a1bf82] \u001b[39m\u001b[92m+ NameResolution v0.1.5\u001b[39m\n",
            " \u001b[90m [0b1bfda6] \u001b[39m\u001b[92m+ OneHotArrays v0.2.5\u001b[39m\n",
            "\u001b[33m⌅\u001b[39m\u001b[90m [3bd65402] \u001b[39m\u001b[92m+ Optimisers v0.2.20\u001b[39m\n",
            " \u001b[90m [bac558e1] \u001b[39m\u001b[92m+ OrderedCollections v1.6.3\u001b[39m\n",
            " \u001b[90m [90014a1f] \u001b[39m\u001b[92m+ PDMats v0.11.31\u001b[39m\n",
            " \u001b[90m [2dfb63ee] \u001b[39m\u001b[92m+ PooledArrays v1.4.3\u001b[39m\n",
            " \u001b[90m [8162dcfd] \u001b[39m\u001b[92m+ PrettyPrint v0.2.0\u001b[39m\n",
            " \u001b[90m [08abe8d2] \u001b[39m\u001b[92m+ PrettyTables v2.3.2\u001b[39m\n",
            " \u001b[90m [33c8b6b6] \u001b[39m\u001b[92m+ ProgressLogging v0.1.4\u001b[39m\n",
            " \u001b[90m [74087812] \u001b[39m\u001b[92m+ Random123 v1.7.0\u001b[39m\n",
            " \u001b[90m [e6cf234a] \u001b[39m\u001b[92m+ RandomNumbers v1.5.3\u001b[39m\n",
            " \u001b[90m [c1ae055f] \u001b[39m\u001b[92m+ RealDot v0.1.0\u001b[39m\n",
            " \u001b[90m [189a3867] \u001b[39m\u001b[92m+ Reexport v1.2.2\u001b[39m\n",
            " \u001b[90m [ae029012] \u001b[39m\u001b[92m+ Requires v1.3.0\u001b[39m\n",
            " \u001b[90m [708f8203] \u001b[39m\u001b[92m+ Richardson v1.4.2\u001b[39m\n",
            " \u001b[90m [6c6a2e73] \u001b[39m\u001b[92m+ Scratch v1.2.1\u001b[39m\n",
            " \u001b[90m [91c51154] \u001b[39m\u001b[92m+ SentinelArrays v1.4.3\u001b[39m\n",
            " \u001b[90m [efcf1570] \u001b[39m\u001b[92m+ Setfield v1.1.1\u001b[39m\n",
            " \u001b[90m [605ecd9f] \u001b[39m\u001b[92m+ ShowCases v0.1.0\u001b[39m\n",
            " \u001b[90m [699a6c99] \u001b[39m\u001b[92m+ SimpleTraits v0.9.4\u001b[39m\n",
            " \u001b[90m [a2af1166] \u001b[39m\u001b[92m+ SortingAlgorithms v1.2.1\u001b[39m\n",
            " \u001b[90m [dc90abb0] \u001b[39m\u001b[92m+ SparseInverseSubset v0.1.2\u001b[39m\n",
            " \u001b[90m [276daf66] \u001b[39m\u001b[92m+ SpecialFunctions v2.4.0\u001b[39m\n",
            " \u001b[90m [171d559e] \u001b[39m\u001b[92m+ SplittablesBase v0.1.15\u001b[39m\n",
            " \u001b[90m [90137ffa] \u001b[39m\u001b[92m+ StaticArrays v1.9.4\u001b[39m\n",
            " \u001b[90m [1e83bf80] \u001b[39m\u001b[92m+ StaticArraysCore v1.4.2\u001b[39m\n",
            " \u001b[90m [82ae8749] \u001b[39m\u001b[92m+ StatsAPI v1.7.0\u001b[39m\n",
            " \u001b[90m [2913bbd2] \u001b[39m\u001b[92m+ StatsBase v0.34.3\u001b[39m\n",
            " \u001b[90m [892a3eda] \u001b[39m\u001b[92m+ StringManipulation v0.3.4\u001b[39m\n",
            " \u001b[90m [09ab397b] \u001b[39m\u001b[92m+ StructArrays v0.6.18\u001b[39m\n",
            " \u001b[90m [3783bdb8] \u001b[39m\u001b[92m+ TableTraits v1.0.1\u001b[39m\n",
            " \u001b[90m [bd369af6] \u001b[39m\u001b[92m+ Tables v1.11.1\u001b[39m\n",
            " \u001b[90m [a759f4b9] \u001b[39m\u001b[92m+ TimerOutputs v0.5.24\u001b[39m\n",
            "\u001b[32m⌃\u001b[39m\u001b[90m [28d57a85] \u001b[39m\u001b[92m+ Transducers v0.4.80\u001b[39m\n",
            " \u001b[90m [013be700] \u001b[39m\u001b[92m+ UnsafeAtomics v0.2.1\u001b[39m\n",
            " \u001b[90m [d80eeb9a] \u001b[39m\u001b[92m+ UnsafeAtomicsLLVM v0.1.4\u001b[39m\n",
            " \u001b[90m [e88e6eb3] \u001b[39m\u001b[92m+ Zygote v0.6.70\u001b[39m\n",
            " \u001b[90m [700de1a5] \u001b[39m\u001b[92m+ ZygoteRules v0.2.5\u001b[39m\n",
            "\u001b[32m⌃\u001b[39m\u001b[90m [02a925ec] \u001b[39m\u001b[92m+ cuDNN v1.1.1\u001b[39m\n",
            "\u001b[33m⌅\u001b[39m\u001b[90m [4ee394cb] \u001b[39m\u001b[92m+ CUDA_Driver_jll v0.5.0+1\u001b[39m\n",
            "\u001b[33m⌅\u001b[39m\u001b[90m [76a88914] \u001b[39m\u001b[92m+ CUDA_Runtime_jll v0.6.0+0\u001b[39m\n",
            "\u001b[33m⌅\u001b[39m\u001b[90m [62b44479] \u001b[39m\u001b[92m+ CUDNN_jll v8.9.4+0\u001b[39m\n",
            " \u001b[90m [dad2f222] \u001b[39m\u001b[92m+ LLVMExtra_jll v0.0.29+0\u001b[39m\n",
            " \u001b[90m [efe28fd5] \u001b[39m\u001b[92m+ OpenSpecFun_jll v0.5.5+0\u001b[39m\n",
            " \u001b[90m [8bb1440f] \u001b[39m\u001b[92m+ DelimitedFiles\u001b[39m\n",
            " \u001b[90m [8ba89e20] \u001b[39m\u001b[92m+ Distributed\u001b[39m\n",
            " \u001b[90m [9fa8497b] \u001b[39m\u001b[92m+ Future\u001b[39m\n",
            " \u001b[90m [4af54fe1] \u001b[39m\u001b[92m+ LazyArtifacts\u001b[39m\n",
            " \u001b[90m [4607b0f0] \u001b[39m\u001b[92m+ SuiteSparse\u001b[39m\n",
            " \u001b[90m [05823500] \u001b[39m\u001b[92m+ OpenLibm_jll v0.8.1+0\u001b[39m\n",
            "\u001b[36m\u001b[1m        Info\u001b[22m\u001b[39m Packages marked with \u001b[32m⌃\u001b[39m and \u001b[33m⌅\u001b[39m have new versions available, but those with \u001b[33m⌅\u001b[39m are restricted by compatibility constraints from upgrading. To see why use `status --outdated -m`\n",
            "\u001b[32m\u001b[1mPrecompiling\u001b[22m\u001b[39m project...\n",
            "\u001b[32m  ✓ \u001b[39m\u001b[90mDefineSingletons\u001b[39m\n",
            "\u001b[32m  ✓ \u001b[39m\u001b[90mCombinatorics\u001b[39m\n",
            "\u001b[32m  ✓ \u001b[39m\u001b[90mCompat\u001b[39m\n",
            "\u001b[32m  ✓ \u001b[39m\u001b[90mSentinelArrays\u001b[39m\n",
            "\u001b[32m  ✓ \u001b[39m\u001b[90mRequires\u001b[39m\n",
            "\u001b[32m  ✓ \u001b[39m\u001b[90mDataValueInterfaces\u001b[39m\n",
            "\u001b[32m  ✓ \u001b[39m\u001b[90mOrderedCollections\u001b[39m\n",
            "\u001b[32m  ✓ \u001b[39m\u001b[90mRichardson\u001b[39m\n",
            "\u001b[32m  ✓ \u001b[39m\u001b[90mRealDot\u001b[39m\n",
            "\u001b[32m  ✓ \u001b[39m\u001b[90mLaTeXStrings\u001b[39m\n",
            "\u001b[32m  ✓ \u001b[39m\u001b[90mOpenLibm_jll\u001b[39m\n",
            "\u001b[32m  ✓ \u001b[39m\u001b[90mInvertedIndices\u001b[39m\n",
            "\u001b[32m  ✓ \u001b[39m\u001b[90mPDMats\u001b[39m\n",
            "\u001b[32m  ✓ \u001b[39m\u001b[90mInverseFunctions\u001b[39m\n",
            "\u001b[32m  ✓ \u001b[39m\u001b[90mReexport\u001b[39m\n",
            "\u001b[32m  ✓ \u001b[39m\u001b[90mExprTools\u001b[39m\n",
            "\u001b[32m  ✓ \u001b[39m\u001b[90mDocStringExtensions\u001b[39m\n",
            "\u001b[32m  ✓ \u001b[39m\u001b[90mConstructionBase\u001b[39m\n",
            "\u001b[32m  ✓ \u001b[39m\u001b[90mIrrationalConstants\u001b[39m\n",
            "\u001b[32m  ✓ \u001b[39m\u001b[90mIteratorInterfaceExtensions\u001b[39m\n",
            "\u001b[32m  ✓ \u001b[39m\u001b[90mPrettyPrint\u001b[39m\n",
            "\u001b[32m  ✓ \u001b[39m\u001b[90mDataAPI\u001b[39m\n",
            "\u001b[32m  ✓ \u001b[39m\u001b[90mArgCheck\u001b[39m\n",
            "\u001b[32m  ✓ \u001b[39m\u001b[90mUnsafeAtomics\u001b[39m\n",
            "\u001b[32m  ✓ \u001b[39m\u001b[90mShowCases\u001b[39m\n",
            "\u001b[32m  ✓ \u001b[39m\u001b[90mProgressLogging\u001b[39m\n",
            "\u001b[32m  ✓ \u001b[39m\u001b[90mCrayons\u001b[39m\n",
            "\u001b[32m  ✓ \u001b[39m\u001b[90mBFloat16s\u001b[39m\n",
            "\u001b[32m  ✓ \u001b[39m\u001b[90mStatsAPI\u001b[39m\n",
            "\u001b[32m  ✓ \u001b[39m\u001b[90mCompositionsBase\u001b[39m\n",
            "\u001b[32m  ✓ \u001b[39m\u001b[90mScratch\u001b[39m\n",
            "\u001b[32m  ✓ \u001b[39m\u001b[90mInitialValues\u001b[39m\n",
            "\u001b[32m  ✓ \u001b[39m\u001b[90mCEnum\u001b[39m\n",
            "\u001b[32m  ✓ \u001b[39m\u001b[90mMacroTools\u001b[39m\n",
            "\u001b[32m  ✓ \u001b[39m\u001b[90mCUDA_Runtime_Discovery\u001b[39m\n",
            "\u001b[32m  ✓ \u001b[39m\u001b[90mStaticArraysCore\u001b[39m\n",
            "\u001b[32m  ✓ \u001b[39m\u001b[90mFunctors\u001b[39m\n",
            "\u001b[32m  ✓ \u001b[39m\u001b[90mSparseInverseSubset\u001b[39m\n",
            "\u001b[32m  ✓ \u001b[39m\u001b[90mBaselet\u001b[39m\n",
            "\u001b[32m  ✓ \u001b[39m\u001b[90mLLVMExtra_jll\u001b[39m\n",
            "\u001b[32m  ✓ \u001b[39m\u001b[90mStringManipulation\u001b[39m\n",
            "\u001b[32m  ✓ \u001b[39m\u001b[90mOpenSpecFun_jll\u001b[39m\n",
            "\u001b[32m  ✓ \u001b[39m\u001b[90mCUDNN_jll\u001b[39m\n",
            "\u001b[32m  ✓ \u001b[39m\u001b[90mContextVariablesX\u001b[39m\n",
            "\u001b[32m  ✓ \u001b[39m\u001b[90mInlineStrings\u001b[39m\n",
            "\u001b[32m  ✓ \u001b[39m\u001b[90mAdapt\u001b[39m\n",
            "\u001b[32m  ✓ \u001b[39m\u001b[90mChainRulesCore\u001b[39m\n",
            "\u001b[32m  ✓ \u001b[39m\u001b[90mRandomNumbers\u001b[39m\n",
            "\u001b[32m  ✓ \u001b[39m\u001b[90mNaNMath\u001b[39m\n",
            "\u001b[32m  ✓ \u001b[39m\u001b[90mMLStyle\u001b[39m\n",
            "\u001b[32m  ✓ \u001b[39m\u001b[90mDataStructures\u001b[39m\n",
            "\u001b[32m  ✓ \u001b[39m\u001b[90mChangesOfVariables\u001b[39m\n",
            "\u001b[32m  ✓ \u001b[39m\u001b[90mTableTraits\u001b[39m\n",
            "\u001b[32m  ✓ \u001b[39m\u001b[90mFillArrays\u001b[39m\n",
            "\u001b[32m  ✓ \u001b[39m\u001b[90mNameResolution\u001b[39m\n",
            "\u001b[32m  ✓ \u001b[39m\u001b[90mMissings\u001b[39m\n",
            "\u001b[32m  ✓ \u001b[39m\u001b[90mPooledArrays\u001b[39m\n",
            "\u001b[32m  ✓ \u001b[39m\u001b[90mTimerOutputs\u001b[39m\n",
            "\u001b[32m  ✓ \u001b[39m\u001b[90mAtomix\u001b[39m\n",
            "\u001b[32m  ✓ \u001b[39m\u001b[90mCommonSubexpressions\u001b[39m\n",
            "\u001b[32m  ✓ \u001b[39m\u001b[90mDiffResults\u001b[39m\n",
            "\u001b[32m  ✓ \u001b[39m\u001b[90mSimpleTraits\u001b[39m\n",
            "\u001b[32m  ✓ \u001b[39m\u001b[90mIRTools\u001b[39m\n",
            "\u001b[32m  ✓ \u001b[39m\u001b[90mSetfield\u001b[39m\n",
            "\u001b[32m  ✓ \u001b[39m\u001b[90mFLoopsBase\u001b[39m\n",
            "\u001b[32m  ✓ \u001b[39m\u001b[90mEnzymeCore\u001b[39m\n",
            "\u001b[32m  ✓ \u001b[39m\u001b[90mGPUArraysCore\u001b[39m\n",
            "\u001b[32m  ✓ \u001b[39m\u001b[90mZygoteRules\u001b[39m\n",
            "\u001b[32m  ✓ \u001b[39m\u001b[90mAbstractFFTs\u001b[39m\n",
            "\u001b[32m  ✓ \u001b[39m\u001b[90mLLVM\u001b[39m\n",
            "\u001b[32m  ✓ \u001b[39m\u001b[90mRandom123\u001b[39m\n",
            "\u001b[32m  ✓ \u001b[39m\u001b[90mOptimisers\u001b[39m\n",
            "\u001b[32m  ✓ \u001b[39m\u001b[90mSortingAlgorithms\u001b[39m\n",
            "\u001b[32m  ✓ \u001b[39m\u001b[90mHierarchicalUtils\u001b[39m\n",
            "\u001b[32m  ✓ \u001b[39m\u001b[90mTables\u001b[39m\n",
            "\u001b[32m  ✓ \u001b[39m\u001b[90mLogExpFunctions\u001b[39m\n",
            "\u001b[32m  ✓ \u001b[39m\u001b[90mStaticArrays\u001b[39m\n",
            "\u001b[32m  ✓ \u001b[39m\u001b[90mSplittablesBase\u001b[39m\n",
            "\u001b[32m  ✓ \u001b[39m\u001b[90mUnsafeAtomicsLLVM\u001b[39m\n",
            "\u001b[32m  ✓ \u001b[39m\u001b[90mGPUArrays\u001b[39m\n",
            "\u001b[32m  ✓ \u001b[39m\u001b[90mBangBang\u001b[39m\n",
            "\u001b[32m  ✓ \u001b[39m\u001b[90mJuliaVariables\u001b[39m\n",
            "\u001b[32m  ✓ \u001b[39m\u001b[90mStatsBase\u001b[39m\n",
            "\u001b[32m  ✓ \u001b[39m\u001b[90mGPUCompiler\u001b[39m\n",
            "\u001b[32m  ✓ \u001b[39m\u001b[90mFiniteDifferences\u001b[39m\n",
            "\u001b[32m  ✓ \u001b[39m\u001b[90mSpecialFunctions\u001b[39m\n",
            "\u001b[32m  ✓ \u001b[39m\u001b[90mStructArrays\u001b[39m\n",
            "\u001b[32m  ✓ \u001b[39m\u001b[90mMicroCollections\u001b[39m\n",
            "\u001b[32m  ✓ \u001b[39m\u001b[90mDiffRules\u001b[39m\n",
            "\u001b[32m  ✓ \u001b[39m\u001b[90mKernelAbstractions\u001b[39m\n",
            "\u001b[32m  ✓ \u001b[39m\u001b[90mTransducers\u001b[39m\n",
            "\u001b[32m  ✓ \u001b[39m\u001b[90mChainRules\u001b[39m\n",
            "\u001b[32m  ✓ \u001b[39m\u001b[90mPrettyTables\u001b[39m\n",
            "\u001b[32m  ✓ \u001b[39m\u001b[90mForwardDiff\u001b[39m\n",
            "\u001b[32m  ✓ \u001b[39m\u001b[90mNNlib\u001b[39m\n",
            "\u001b[32m  ✓ \u001b[39m\u001b[90mFLoops\u001b[39m\n",
            "\u001b[32m  ✓ \u001b[39m\u001b[90mZygote\u001b[39m\n",
            "\u001b[32m  ✓ \u001b[39m\u001b[90mCUDA\u001b[39m\n",
            "\u001b[32m  ✓ \u001b[39m\u001b[90mOneHotArrays\u001b[39m\n",
            "\u001b[32m  ✓ \u001b[39m\u001b[90mDataFrames\u001b[39m\n",
            "\u001b[32m  ✓ \u001b[39m\u001b[90mMLUtils\u001b[39m\n",
            "\u001b[32m  ✓ \u001b[39m\u001b[90mcuDNN\u001b[39m\n",
            "\u001b[32m  ✓ \u001b[39m\u001b[90mNNlibCUDA\u001b[39m\n",
            "\u001b[32m  ✓ \u001b[39m\u001b[90mFlux\u001b[39m\n",
            "\u001b[32m  ✓ \u001b[39mMill\n",
            "  105 dependencies successfully precompiled in 624 seconds. 22 already precompiled.\n",
            "\u001b[32m\u001b[1m   Resolving\u001b[22m\u001b[39m package versions...\n",
            "\u001b[32m\u001b[1m    Updating\u001b[22m\u001b[39m `~/.julia/environments/v1.8/Project.toml`\n",
            " \u001b[90m [a93c6f00] \u001b[39m\u001b[92m+ DataFrames v1.6.1\u001b[39m\n",
            "\u001b[32m\u001b[1m  No Changes\u001b[22m\u001b[39m to `~/.julia/environments/v1.8/Manifest.toml`\n",
            "\u001b[32m\u001b[1m   Resolving\u001b[22m\u001b[39m package versions...\n",
            "\u001b[32m\u001b[1m    Updating\u001b[22m\u001b[39m `~/.julia/environments/v1.8/Project.toml`\n",
            "\u001b[33m⌅\u001b[39m\u001b[90m [587475ba] \u001b[39m\u001b[92m+ Flux v0.13.17\u001b[39m\n",
            "\u001b[32m\u001b[1m  No Changes\u001b[22m\u001b[39m to `~/.julia/environments/v1.8/Manifest.toml`\n",
            "\u001b[32m\u001b[1m   Resolving\u001b[22m\u001b[39m package versions...\n",
            "\u001b[32m\u001b[1m   Installed\u001b[22m\u001b[39m PyCall ─ v1.96.4\n",
            "\u001b[32m\u001b[1m    Updating\u001b[22m\u001b[39m `~/.julia/environments/v1.8/Project.toml`\n",
            " \u001b[90m [438e738f] \u001b[39m\u001b[92m+ PyCall v1.96.4\u001b[39m\n",
            "\u001b[32m\u001b[1m    Updating\u001b[22m\u001b[39m `~/.julia/environments/v1.8/Manifest.toml`\n",
            " \u001b[90m [438e738f] \u001b[39m\u001b[92m+ PyCall v1.96.4\u001b[39m\n",
            "\u001b[32m\u001b[1m    Building\u001b[22m\u001b[39m PyCall → `~/.julia/scratchspaces/44cfe95a-1eb2-52ea-b672-e2afdf69b78f/9816a3826b0ebf49ab4926e2b18842ad8b5c8f04/build.log`\n",
            "\u001b[32m\u001b[1mPrecompiling\u001b[22m\u001b[39m project...\n",
            "\u001b[32m  ✓ \u001b[39mPyCall\n",
            "  1 dependency successfully precompiled in 20 seconds. 127 already precompiled.\n",
            "\u001b[32m\u001b[1m   Resolving\u001b[22m\u001b[39m package versions...\n",
            "\u001b[32m\u001b[1m    Updating\u001b[22m\u001b[39m `~/.julia/environments/v1.8/Project.toml`\n",
            " \u001b[90m [682c06a0] \u001b[39m\u001b[92m+ JSON v0.21.4\u001b[39m\n",
            "\u001b[32m\u001b[1m  No Changes\u001b[22m\u001b[39m to `~/.julia/environments/v1.8/Manifest.toml`\n",
            "\u001b[32m\u001b[1m   Resolving\u001b[22m\u001b[39m package versions...\n",
            "\u001b[32m\u001b[1m    Updating\u001b[22m\u001b[39m `~/.julia/environments/v1.8/Project.toml`\n",
            " \u001b[90m [f1d291b0] \u001b[39m\u001b[92m+ MLUtils v0.4.4\u001b[39m\n",
            "\u001b[32m\u001b[1m  No Changes\u001b[22m\u001b[39m to `~/.julia/environments/v1.8/Manifest.toml`\n",
            "\u001b[32m\u001b[1m   Resolving\u001b[22m\u001b[39m package versions...\n",
            "\u001b[32m\u001b[1m    Updating\u001b[22m\u001b[39m `~/.julia/environments/v1.8/Project.toml`\n",
            " \u001b[90m [e88e6eb3] \u001b[39m\u001b[92m+ Zygote v0.6.70\u001b[39m\n",
            "\u001b[32m\u001b[1m  No Changes\u001b[22m\u001b[39m to `~/.julia/environments/v1.8/Manifest.toml`\n",
            "\u001b[32m\u001b[1m   Resolving\u001b[22m\u001b[39m package versions...\n",
            "\u001b[32m\u001b[1m    Updating\u001b[22m\u001b[39m `~/.julia/environments/v1.8/Project.toml`\n",
            " \u001b[90m [10745b16] \u001b[39m\u001b[92m+ Statistics\u001b[39m\n",
            "\u001b[32m\u001b[1m  No Changes\u001b[22m\u001b[39m to `~/.julia/environments/v1.8/Manifest.toml`\n",
            "\u001b[32m\u001b[1m   Resolving\u001b[22m\u001b[39m package versions...\n",
            "\u001b[32m\u001b[1m   Installed\u001b[22m\u001b[39m BSON ──────── v0.3.9\n",
            "\u001b[32m\u001b[1m   Installed\u001b[22m\u001b[39m Mustache ──── v1.0.19\n",
            "\u001b[32m\u001b[1m   Installed\u001b[22m\u001b[39m Nullables ─── v1.0.0\n",
            "\u001b[32m\u001b[1m   Installed\u001b[22m\u001b[39m URIParser ─── v0.4.1\n",
            "\u001b[32m\u001b[1m   Installed\u001b[22m\u001b[39m StatsBase ─── v0.33.21\n",
            "\u001b[32m\u001b[1m   Installed\u001b[22m\u001b[39m HttpCommon ── v0.5.0\n",
            "\u001b[32m\u001b[1m   Installed\u001b[22m\u001b[39m ThreadTools ─ v0.2.0\n",
            "\u001b[32m\u001b[1m   Installed\u001b[22m\u001b[39m JsonGrinder ─ v2.3.4\n",
            "\u001b[32m\u001b[1m    Updating\u001b[22m\u001b[39m `~/.julia/environments/v1.8/Project.toml`\n",
            "\u001b[32m⌃\u001b[39m\u001b[90m [d201646e] \u001b[39m\u001b[92m+ JsonGrinder v2.3.4\u001b[39m\n",
            "\u001b[32m\u001b[1m    Updating\u001b[22m\u001b[39m `~/.julia/environments/v1.8/Manifest.toml`\n",
            " \u001b[90m [fbb218c0] \u001b[39m\u001b[92m+ BSON v0.3.9\u001b[39m\n",
            " \u001b[90m [77172c1b] \u001b[39m\u001b[92m+ HttpCommon v0.5.0\u001b[39m\n",
            "\u001b[32m⌃\u001b[39m\u001b[90m [d201646e] \u001b[39m\u001b[92m+ JsonGrinder v2.3.4\u001b[39m\n",
            " \u001b[90m [ffc61752] \u001b[39m\u001b[92m+ Mustache v1.0.19\u001b[39m\n",
            " \u001b[90m [4d1e1d77] \u001b[39m\u001b[92m+ Nullables v1.0.0\u001b[39m\n",
            "\u001b[33m⌅\u001b[39m\u001b[90m [2913bbd2] \u001b[39m\u001b[95m↓ StatsBase v0.34.3 ⇒ v0.33.21\u001b[39m\n",
            " \u001b[90m [dbf13d8f] \u001b[39m\u001b[92m+ ThreadTools v0.2.0\u001b[39m\n",
            " \u001b[90m [30578b45] \u001b[39m\u001b[92m+ URIParser v0.4.1\u001b[39m\n",
            "\u001b[36m\u001b[1m        Info\u001b[22m\u001b[39m Packages marked with \u001b[32m⌃\u001b[39m and \u001b[33m⌅\u001b[39m have new versions available, but those with \u001b[33m⌅\u001b[39m are restricted by compatibility constraints from upgrading. To see why use `status --outdated -m`\n",
            "\u001b[32m\u001b[1mPrecompiling\u001b[22m\u001b[39m project...\n",
            "\u001b[32m  ✓ \u001b[39m\u001b[90mNullables\u001b[39m\n",
            "\u001b[32m  ✓ \u001b[39m\u001b[90mURIParser\u001b[39m\n",
            "\u001b[32m  ✓ \u001b[39m\u001b[90mThreadTools\u001b[39m\n",
            "\u001b[32m  ✓ \u001b[39m\u001b[90mBSON\u001b[39m\n",
            "\u001b[32m  ✓ \u001b[39m\u001b[90mMustache\u001b[39m\n",
            "\u001b[32m  ✓ \u001b[39m\u001b[90mHttpCommon\u001b[39m\n",
            "\u001b[32m  ✓ \u001b[39m\u001b[90mStatsBase\u001b[39m\n",
            "\u001b[32m  ✓ \u001b[39mMLUtils\n",
            "\u001b[32m  ✓ \u001b[39mFlux\n",
            "\u001b[32m  ✓ \u001b[39mMill\n",
            "\u001b[32m  ✓ \u001b[39mJsonGrinder\n",
            "  11 dependencies successfully precompiled in 164 seconds. 124 already precompiled.\n"
          ]
        }
      ],
      "source": [
        "# Julia code/packages\n",
        "using Pkg\n",
        "\n",
        "Pkg.add(\"IJulia\")\n",
        "Pkg.add(\"Mill\")\n",
        "Pkg.add(\"DataFrames\")\n",
        "Pkg.add(\"Flux\")\n",
        "Pkg.add(\"PyCall\")\n",
        "Pkg.add(\"JSON\")\n",
        "Pkg.add(\"MLUtils\")\n",
        "Pkg.add(\"Zygote\")\n",
        "Pkg.add(\"Statistics\")\n",
        "Pkg.add(\"JsonGrinder\")"
      ]
    },
    {
      "cell_type": "code",
      "source": [
        "using PyCall"
      ],
      "metadata": {
        "colab": {
          "base_uri": "https://localhost:8080/",
          "height": 211
        },
        "id": "lnvYXuOwHspe",
        "outputId": "57047e43-7516-4220-d0a2-9947af52546e"
      },
      "execution_count": null,
      "outputs": [
        {
          "output_type": "error",
          "ename": "LoadError",
          "evalue": "ArgumentError: Package PyCall not found in current path.\n- Run `import Pkg; Pkg.add(\"PyCall\")` to install the PyCall package.",
          "traceback": [
            "ArgumentError: Package PyCall not found in current path.\n- Run `import Pkg; Pkg.add(\"PyCall\")` to install the PyCall package.",
            "",
            "Stacktrace:",
            " [1] macro expansion",
            "   @ ./loading.jl:1163 [inlined]",
            " [2] macro expansion",
            "   @ ./lock.jl:223 [inlined]",
            " [3] require(into::Module, mod::Symbol)",
            "   @ Base ./loading.jl:1144"
          ]
        }
      ]
    },
    {
      "cell_type": "code",
      "execution_count": null,
      "metadata": {
        "colab": {
          "base_uri": "https://localhost:8080/",
          "height": 72
        },
        "id": "X9i4LncIpRBb",
        "outputId": "171c6dd6-72f6-498f-88ee-f3971c4778b3"
      },
      "outputs": [
        {
          "output_type": "error",
          "ename": "LoadError",
          "evalue": "LoadError: UndefVarError: @python_str not defined\nin expression starting at In[2]:2",
          "traceback": [
            "LoadError: UndefVarError: @python_str not defined\nin expression starting at In[2]:2",
            ""
          ]
        }
      ],
      "source": [
        "# Use the macro to install Kaggle and download the dataset\n",
        "python\"\"\"\n",
        "import subprocess\n",
        "import sys\n",
        "\n",
        "# Install Kaggle\n",
        "subprocess.run([sys.executable, '-m', 'pip', 'install', 'kaggle'])\n",
        "\"\"\""
      ]
    },
    {
      "cell_type": "code",
      "source": [
        "!pip install kaggle"
      ],
      "metadata": {
        "colab": {
          "base_uri": "https://localhost:8080/"
        },
        "id": "K4-CzMB0j_GX",
        "outputId": "76e82907-7cd7-4691-8849-77831055e1cd"
      },
      "execution_count": null,
      "outputs": [
        {
          "output_type": "stream",
          "name": "stdout",
          "text": [
            "Requirement already satisfied: kaggle in /usr/local/lib/python3.10/dist-packages (1.6.14)\n",
            "Requirement already satisfied: six>=1.10 in /usr/local/lib/python3.10/dist-packages (from kaggle) (1.16.0)\n",
            "Requirement already satisfied: certifi>=2023.7.22 in /usr/local/lib/python3.10/dist-packages (from kaggle) (2024.2.2)\n",
            "Requirement already satisfied: python-dateutil in /usr/local/lib/python3.10/dist-packages (from kaggle) (2.8.2)\n",
            "Requirement already satisfied: requests in /usr/local/lib/python3.10/dist-packages (from kaggle) (2.31.0)\n",
            "Requirement already satisfied: tqdm in /usr/local/lib/python3.10/dist-packages (from kaggle) (4.66.4)\n",
            "Requirement already satisfied: python-slugify in /usr/local/lib/python3.10/dist-packages (from kaggle) (8.0.4)\n",
            "Requirement already satisfied: urllib3 in /usr/local/lib/python3.10/dist-packages (from kaggle) (2.0.7)\n",
            "Requirement already satisfied: bleach in /usr/local/lib/python3.10/dist-packages (from kaggle) (6.1.0)\n",
            "Requirement already satisfied: webencodings in /usr/local/lib/python3.10/dist-packages (from bleach->kaggle) (0.5.1)\n",
            "Requirement already satisfied: text-unidecode>=1.3 in /usr/local/lib/python3.10/dist-packages (from python-slugify->kaggle) (1.3)\n",
            "Requirement already satisfied: charset-normalizer<4,>=2 in /usr/local/lib/python3.10/dist-packages (from requests->kaggle) (3.3.2)\n",
            "Requirement already satisfied: idna<4,>=2.5 in /usr/local/lib/python3.10/dist-packages (from requests->kaggle) (3.7)\n"
          ]
        }
      ]
    },
    {
      "cell_type": "code",
      "execution_count": null,
      "metadata": {
        "colab": {
          "base_uri": "https://localhost:8080/",
          "height": 107
        },
        "id": "q3OpS0VtxuJj",
        "outputId": "a8e38808-a29f-4147-db33-dfe56d08ba6a"
      },
      "outputs": [
        {
          "output_type": "display_data",
          "data": {
            "text/plain": [
              "<IPython.core.display.HTML object>"
            ],
            "text/html": [
              "\n",
              "     <input type=\"file\" id=\"files-94046ef0-a658-402f-8403-ccbe6eea21ef\" name=\"files[]\" multiple disabled\n",
              "        style=\"border:none\" />\n",
              "     <output id=\"result-94046ef0-a658-402f-8403-ccbe6eea21ef\">\n",
              "      Upload widget is only available when the cell has been executed in the\n",
              "      current browser session. Please rerun this cell to enable.\n",
              "      </output>\n",
              "      <script>// Copyright 2017 Google LLC\n",
              "//\n",
              "// Licensed under the Apache License, Version 2.0 (the \"License\");\n",
              "// you may not use this file except in compliance with the License.\n",
              "// You may obtain a copy of the License at\n",
              "//\n",
              "//      http://www.apache.org/licenses/LICENSE-2.0\n",
              "//\n",
              "// Unless required by applicable law or agreed to in writing, software\n",
              "// distributed under the License is distributed on an \"AS IS\" BASIS,\n",
              "// WITHOUT WARRANTIES OR CONDITIONS OF ANY KIND, either express or implied.\n",
              "// See the License for the specific language governing permissions and\n",
              "// limitations under the License.\n",
              "\n",
              "/**\n",
              " * @fileoverview Helpers for google.colab Python module.\n",
              " */\n",
              "(function(scope) {\n",
              "function span(text, styleAttributes = {}) {\n",
              "  const element = document.createElement('span');\n",
              "  element.textContent = text;\n",
              "  for (const key of Object.keys(styleAttributes)) {\n",
              "    element.style[key] = styleAttributes[key];\n",
              "  }\n",
              "  return element;\n",
              "}\n",
              "\n",
              "// Max number of bytes which will be uploaded at a time.\n",
              "const MAX_PAYLOAD_SIZE = 100 * 1024;\n",
              "\n",
              "function _uploadFiles(inputId, outputId) {\n",
              "  const steps = uploadFilesStep(inputId, outputId);\n",
              "  const outputElement = document.getElementById(outputId);\n",
              "  // Cache steps on the outputElement to make it available for the next call\n",
              "  // to uploadFilesContinue from Python.\n",
              "  outputElement.steps = steps;\n",
              "\n",
              "  return _uploadFilesContinue(outputId);\n",
              "}\n",
              "\n",
              "// This is roughly an async generator (not supported in the browser yet),\n",
              "// where there are multiple asynchronous steps and the Python side is going\n",
              "// to poll for completion of each step.\n",
              "// This uses a Promise to block the python side on completion of each step,\n",
              "// then passes the result of the previous step as the input to the next step.\n",
              "function _uploadFilesContinue(outputId) {\n",
              "  const outputElement = document.getElementById(outputId);\n",
              "  const steps = outputElement.steps;\n",
              "\n",
              "  const next = steps.next(outputElement.lastPromiseValue);\n",
              "  return Promise.resolve(next.value.promise).then((value) => {\n",
              "    // Cache the last promise value to make it available to the next\n",
              "    // step of the generator.\n",
              "    outputElement.lastPromiseValue = value;\n",
              "    return next.value.response;\n",
              "  });\n",
              "}\n",
              "\n",
              "/**\n",
              " * Generator function which is called between each async step of the upload\n",
              " * process.\n",
              " * @param {string} inputId Element ID of the input file picker element.\n",
              " * @param {string} outputId Element ID of the output display.\n",
              " * @return {!Iterable<!Object>} Iterable of next steps.\n",
              " */\n",
              "function* uploadFilesStep(inputId, outputId) {\n",
              "  const inputElement = document.getElementById(inputId);\n",
              "  inputElement.disabled = false;\n",
              "\n",
              "  const outputElement = document.getElementById(outputId);\n",
              "  outputElement.innerHTML = '';\n",
              "\n",
              "  const pickedPromise = new Promise((resolve) => {\n",
              "    inputElement.addEventListener('change', (e) => {\n",
              "      resolve(e.target.files);\n",
              "    });\n",
              "  });\n",
              "\n",
              "  const cancel = document.createElement('button');\n",
              "  inputElement.parentElement.appendChild(cancel);\n",
              "  cancel.textContent = 'Cancel upload';\n",
              "  const cancelPromise = new Promise((resolve) => {\n",
              "    cancel.onclick = () => {\n",
              "      resolve(null);\n",
              "    };\n",
              "  });\n",
              "\n",
              "  // Wait for the user to pick the files.\n",
              "  const files = yield {\n",
              "    promise: Promise.race([pickedPromise, cancelPromise]),\n",
              "    response: {\n",
              "      action: 'starting',\n",
              "    }\n",
              "  };\n",
              "\n",
              "  cancel.remove();\n",
              "\n",
              "  // Disable the input element since further picks are not allowed.\n",
              "  inputElement.disabled = true;\n",
              "\n",
              "  if (!files) {\n",
              "    return {\n",
              "      response: {\n",
              "        action: 'complete',\n",
              "      }\n",
              "    };\n",
              "  }\n",
              "\n",
              "  for (const file of files) {\n",
              "    const li = document.createElement('li');\n",
              "    li.append(span(file.name, {fontWeight: 'bold'}));\n",
              "    li.append(span(\n",
              "        `(${file.type || 'n/a'}) - ${file.size} bytes, ` +\n",
              "        `last modified: ${\n",
              "            file.lastModifiedDate ? file.lastModifiedDate.toLocaleDateString() :\n",
              "                                    'n/a'} - `));\n",
              "    const percent = span('0% done');\n",
              "    li.appendChild(percent);\n",
              "\n",
              "    outputElement.appendChild(li);\n",
              "\n",
              "    const fileDataPromise = new Promise((resolve) => {\n",
              "      const reader = new FileReader();\n",
              "      reader.onload = (e) => {\n",
              "        resolve(e.target.result);\n",
              "      };\n",
              "      reader.readAsArrayBuffer(file);\n",
              "    });\n",
              "    // Wait for the data to be ready.\n",
              "    let fileData = yield {\n",
              "      promise: fileDataPromise,\n",
              "      response: {\n",
              "        action: 'continue',\n",
              "      }\n",
              "    };\n",
              "\n",
              "    // Use a chunked sending to avoid message size limits. See b/62115660.\n",
              "    let position = 0;\n",
              "    do {\n",
              "      const length = Math.min(fileData.byteLength - position, MAX_PAYLOAD_SIZE);\n",
              "      const chunk = new Uint8Array(fileData, position, length);\n",
              "      position += length;\n",
              "\n",
              "      const base64 = btoa(String.fromCharCode.apply(null, chunk));\n",
              "      yield {\n",
              "        response: {\n",
              "          action: 'append',\n",
              "          file: file.name,\n",
              "          data: base64,\n",
              "        },\n",
              "      };\n",
              "\n",
              "      let percentDone = fileData.byteLength === 0 ?\n",
              "          100 :\n",
              "          Math.round((position / fileData.byteLength) * 100);\n",
              "      percent.textContent = `${percentDone}% done`;\n",
              "\n",
              "    } while (position < fileData.byteLength);\n",
              "  }\n",
              "\n",
              "  // All done.\n",
              "  yield {\n",
              "    response: {\n",
              "      action: 'complete',\n",
              "    }\n",
              "  };\n",
              "}\n",
              "\n",
              "scope.google = scope.google || {};\n",
              "scope.google.colab = scope.google.colab || {};\n",
              "scope.google.colab._files = {\n",
              "  _uploadFiles,\n",
              "  _uploadFilesContinue,\n",
              "};\n",
              "})(self);\n",
              "</script> "
            ]
          },
          "metadata": {}
        },
        {
          "output_type": "stream",
          "name": "stdout",
          "text": [
            "Saving kaggle_mill.json to kaggle_mill.json\n"
          ]
        },
        {
          "output_type": "execute_result",
          "data": {
            "text/plain": [
              "{'kaggle_mill.json': b'{\"username\":\"airbornbird88\",\"key\":\"523660c5fbf3cccd2135247a1a03565c\"}'}"
            ]
          },
          "metadata": {},
          "execution_count": 4
        }
      ],
      "source": [
        "# Upload Kaggle API Key\n",
        "from google.colab import files\n",
        "files.upload()  # Upload the kaggle.json file"
      ]
    },
    {
      "cell_type": "code",
      "execution_count": null,
      "metadata": {
        "id": "oaTRiwvNx7sD"
      },
      "outputs": [],
      "source": [
        "# Set up Kaggle configuration\n",
        "!mkdir -p ~/.kaggle\n",
        "!mv kaggle_mill.json ~/.kaggle/\n",
        "!chmod 600 ~/.kaggle/kaggle_mill.json"
      ]
    },
    {
      "cell_type": "code",
      "execution_count": null,
      "metadata": {
        "colab": {
          "base_uri": "https://localhost:8080/"
        },
        "id": "9rdMEswlzLSS",
        "outputId": "d12949a0-c9da-49d2-e28d-0c4484257d5c"
      },
      "outputs": [
        {
          "output_type": "stream",
          "name": "stdout",
          "text": [
            "Dataset URL: https://www.kaggle.com/datasets/Cornell-University/arxiv\n",
            "License(s): CC0-1.0\n",
            "Downloading arxiv.zip to /content\n",
            " 99% 1.27G/1.29G [00:18<00:00, 89.7MB/s]\n",
            "100% 1.29G/1.29G [00:18<00:00, 76.5MB/s]\n"
          ]
        }
      ],
      "source": [
        "# Download the arXiv dataset\n",
        "!kaggle datasets download -d Cornell-University/arxiv"
      ]
    },
    {
      "cell_type": "code",
      "execution_count": null,
      "metadata": {
        "colab": {
          "base_uri": "https://localhost:8080/"
        },
        "id": "ttqGaudbzjxR",
        "outputId": "fda1bcbe-7c3c-403a-c13e-d8045537d5a2"
      },
      "outputs": [
        {
          "output_type": "stream",
          "name": "stdout",
          "text": [
            "Archive:  arxiv.zip\n",
            "  inflating: arxiv-metadata-oai-snapshot.json  \n"
          ]
        }
      ],
      "source": [
        "# Extract the dataset\n",
        "!unzip arxiv.zip"
      ]
    },
    {
      "cell_type": "code",
      "execution_count": null,
      "metadata": {
        "colab": {
          "base_uri": "https://localhost:8080/"
        },
        "id": "AbiE0slRzc_J",
        "outputId": "ef96c6fb-c1cd-4a05-d4c4-deb31ffacc58"
      },
      "outputs": [
        {
          "output_type": "stream",
          "name": "stdout",
          "text": [
            "arxiv.zip  \u001b[0m\u001b[01;34msample_data\u001b[0m/\n"
          ]
        }
      ],
      "source": [
        "ls /content"
      ]
    },
    {
      "cell_type": "code",
      "execution_count": null,
      "metadata": {
        "colab": {
          "base_uri": "https://localhost:8080/"
        },
        "id": "FKwxfKFJ0XiI",
        "outputId": "d871e655-e48b-409b-9853-a1958bc0e3e5"
      },
      "outputs": [
        {
          "output_type": "stream",
          "name": "stdout",
          "text": [
            "-rw-r--r-- 1 root root 3.9G May 25 23:53 arxiv-metadata-oai-snapshot.json\n"
          ]
        }
      ],
      "source": [
        "ls -lh arxiv-metadata-oai-snapshot.json"
      ]
    },
    {
      "cell_type": "markdown",
      "source": [
        "## Předzpracování dat"
      ],
      "metadata": {
        "id": "VcwhOgXOoOcR"
      }
    },
    {
      "cell_type": "code",
      "execution_count": null,
      "metadata": {
        "colab": {
          "base_uri": "https://localhost:8080/",
          "height": 193
        },
        "id": "20e6ln2L1b2Y",
        "outputId": "b1ab579a-15e6-4e18-ce0a-c9405b205509"
      },
      "outputs": [
        {
          "output_type": "error",
          "ename": "NameError",
          "evalue": "name 'println' is not defined",
          "traceback": [
            "\u001b[0;31m---------------------------------------------------------------------------\u001b[0m",
            "\u001b[0;31mNameError\u001b[0m                                 Traceback (most recent call last)",
            "\u001b[0;32m<ipython-input-1-6da4ca21f750>\u001b[0m in \u001b[0;36m<cell line: 3>\u001b[0;34m()\u001b[0m\n\u001b[1;32m      1\u001b[0m \u001b[0;31m# List the contents of the /content directory\u001b[0m\u001b[0;34m\u001b[0m\u001b[0;34m\u001b[0m\u001b[0m\n\u001b[1;32m      2\u001b[0m \u001b[0mcontent_dir\u001b[0m \u001b[0;34m=\u001b[0m \u001b[0;34m\"/content\"\u001b[0m\u001b[0;34m\u001b[0m\u001b[0;34m\u001b[0m\u001b[0m\n\u001b[0;32m----> 3\u001b[0;31m \u001b[0mprintln\u001b[0m\u001b[0;34m(\u001b[0m\u001b[0;34m\"Contents of $content_dir:\"\u001b[0m\u001b[0;34m)\u001b[0m\u001b[0;34m\u001b[0m\u001b[0;34m\u001b[0m\u001b[0m\n\u001b[0m\u001b[1;32m      4\u001b[0m \u001b[0mreaddir\u001b[0m\u001b[0;34m(\u001b[0m\u001b[0mcontent_dir\u001b[0m\u001b[0;34m)\u001b[0m\u001b[0;34m\u001b[0m\u001b[0;34m\u001b[0m\u001b[0m\n",
            "\u001b[0;31mNameError\u001b[0m: name 'println' is not defined"
          ]
        }
      ],
      "source": [
        "# List the contents of the /content directory\n",
        "content_dir = \"/content\"\n",
        "println(\"Contents of $content_dir:\")\n",
        "readdir(content_dir)"
      ]
    },
    {
      "cell_type": "code",
      "execution_count": null,
      "metadata": {
        "colab": {
          "base_uri": "https://localhost:8080/"
        },
        "id": "5kzzZCwK2B5_",
        "outputId": "a6766833-8695-4e87-9983-a11c47b6636b"
      },
      "outputs": [
        {
          "output_type": "stream",
          "name": "stderr",
          "text": [
            "\u001b[33m\u001b[1m┌ \u001b[22m\u001b[39m\u001b[33m\u001b[1mWarning: \u001b[22m\u001b[39mPkg.installed() is deprecated\n",
            "\u001b[33m\u001b[1m└ \u001b[22m\u001b[39m\u001b[90m@ Pkg /cache/build/default-amdci4-2/julialang/julia-release-1-dot-8/usr/share/julia/stdlib/v1.8/Pkg/src/Pkg.jl:675\u001b[39m\n"
          ]
        },
        {
          "output_type": "stream",
          "name": "stdout",
          "text": [
            "Flux is installed.\n",
            "Mill is installed.\n"
          ]
        },
        {
          "output_type": "stream",
          "name": "stderr",
          "text": [
            "\u001b[33m\u001b[1m┌ \u001b[22m\u001b[39m\u001b[33m\u001b[1mWarning: \u001b[22m\u001b[39mPkg.installed() is deprecated\n",
            "\u001b[33m\u001b[1m└ \u001b[22m\u001b[39m\u001b[90m@ Pkg /cache/build/default-amdci4-2/julialang/julia-release-1-dot-8/usr/share/julia/stdlib/v1.8/Pkg/src/Pkg.jl:675\u001b[39m\n"
          ]
        }
      ],
      "source": [
        "using Pkg\n",
        "\n",
        "# Check if Flux is installed\n",
        "if haskey(Pkg.installed(), \"Flux\")\n",
        "    println(\"Flux is installed.\")\n",
        "else\n",
        "    println(\"Flux is not installed.\")\n",
        "end\n",
        "\n",
        "# Check if Mill is installed\n",
        "if haskey(Pkg.installed(), \"Mill\")\n",
        "    println(\"Mill is installed.\")\n",
        "else\n",
        "    println(\"Mill is not installed.\")\n",
        "end\n"
      ]
    },
    {
      "cell_type": "markdown",
      "metadata": {
        "id": "hgceDLaU5EfD"
      },
      "source": [
        "## Schema Visualization\n",
        "In this example we show how can schema be turned into HTML interactive visualization, which helps to examine the schema, especially when dealing with large and heterogeneous data."
      ]
    },
    {
      "cell_type": "code",
      "execution_count": null,
      "metadata": {
        "id": "SHfAZYX72tMO"
      },
      "outputs": [],
      "source": [
        "using JsonGrinder, JSON\n",
        "import JsonGrinder: generate_html"
      ]
    },
    {
      "cell_type": "code",
      "source": [
        "using JSON\n",
        "\n",
        "# File path\n",
        "data_file = \"/content/arxiv-metadata-oai-snapshot.json\"\n",
        "\n",
        "# Vector to store parsed JSON objects\n",
        "samples = Vector{Dict}()\n",
        "\n",
        "# Maximum number of samples to parse\n",
        "max_samples = 5000\n",
        "\n",
        "# Open the file\n",
        "open(data_file) do file\n",
        "    # Read and parse JSON objects line by line\n",
        "    for line in eachline(file)\n",
        "        # Parse each line as a JSON object and push it to the samples vector\n",
        "        push!(samples, JSON.Parser.parse(line))\n",
        "\n",
        "        # Check if we've reached the maximum number of samples\n",
        "        if length(samples) >= max_samples\n",
        "            break\n",
        "        end\n",
        "    end\n",
        "end\n"
      ],
      "metadata": {
        "id": "IyoDZbWtpU3o"
      },
      "execution_count": null,
      "outputs": []
    },
    {
      "cell_type": "code",
      "execution_count": null,
      "metadata": {
        "id": "vnDOJbBFAKD1"
      },
      "outputs": [],
      "source": [
        "# Print example of multiple JSON objects in samples\n",
        "for i in 1:5  # Adjust the range as needed\n",
        "    JSON.print(samples[i], 2)\n",
        "end"
      ]
    },
    {
      "cell_type": "code",
      "source": [
        "# we stabilize the seed to obtain same results every run, for pedagogic purposes\n",
        "using Random\n",
        "\n",
        "Random.seed!(42)"
      ],
      "metadata": {
        "colab": {
          "base_uri": "https://localhost:8080/"
        },
        "id": "inKncI_rp3EX",
        "outputId": "cdd3db23-36f7-427d-ba99-6e1730234b65"
      },
      "execution_count": null,
      "outputs": [
        {
          "output_type": "execute_result",
          "data": {
            "text/plain": [
              "TaskLocalRNG()"
            ]
          },
          "metadata": {},
          "execution_count": 16
        }
      ]
    },
    {
      "cell_type": "code",
      "source": [
        "# We define the minibatch size.\n",
        "n_samples, n_val, minibatchsize, iterations = 10000, 200, 10, 20"
      ],
      "metadata": {
        "colab": {
          "base_uri": "https://localhost:8080/"
        },
        "id": "6OMh3bgBqF4Q",
        "outputId": "daa5bc9c-3c8c-4b22-8442-c3c3a0f1ba74"
      },
      "execution_count": null,
      "outputs": [
        {
          "output_type": "execute_result",
          "data": {
            "text/plain": [
              "(10000, 200, 10, 20)"
            ]
          },
          "metadata": {},
          "execution_count": 17
        }
      ]
    },
    {
      "cell_type": "code",
      "source": [
        "targets = map(c -> c[\"categories\"], samples)"
      ],
      "metadata": {
        "colab": {
          "base_uri": "https://localhost:8080/"
        },
        "id": "N9m53LzzyyO_",
        "outputId": "d98d5a1e-c2dc-45f2-e5a2-7aefcd7a61e3"
      },
      "execution_count": null,
      "outputs": [
        {
          "output_type": "execute_result",
          "data": {
            "text/plain": [
              "5000-element Vector{String}:\n",
              " \"hep-ph\"\n",
              " \"math.CO cs.CG\"\n",
              " \"physics.gen-ph\"\n",
              " \"math.CO\"\n",
              " \"math.CA math.FA\"\n",
              " \"cond-mat.mes-hall\"\n",
              " \"gr-qc\"\n",
              " \"cond-mat.mtrl-sci\"\n",
              " \"astro-ph\"\n",
              " \"math.CO\"\n",
              " \"math.NT math.AG\"\n",
              " \"math.NT\"\n",
              " \"math.NT\"\n",
              " ⋮\n",
              " \"astro-ph\"\n",
              " \"astro-ph\"\n",
              " \"astro-ph\"\n",
              " \"cond-mat.dis-nn cond-mat.soft\"\n",
              " \"cond-mat.str-el\"\n",
              " \"gr-qc cond-mat.str-el hep-ph physics.hist-ph\"\n",
              " \"math.OA math.FA\"\n",
              " \"astro-ph\"\n",
              " \"hep-th\"\n",
              " \"quant-ph\"\n",
              " \"astro-ph gr-qc hep-ph hep-th\"\n",
              " \"cond-mat.supr-con\""
            ]
          },
          "metadata": {},
          "execution_count": 18
        }
      ]
    },
    {
      "cell_type": "code",
      "source": [
        "labels = sort(unique(targets))"
      ],
      "metadata": {
        "colab": {
          "base_uri": "https://localhost:8080/"
        },
        "id": "vLrrIYq2zQvW",
        "outputId": "3f66e715-0aed-466d-d336-dc7a7b275923"
      },
      "execution_count": null,
      "outputs": [
        {
          "output_type": "execute_result",
          "data": {
            "text/plain": [
              "943-element Vector{String}:\n",
              " \"astro-ph\"\n",
              " \"astro-ph gr-qc\"\n",
              " \"astro-ph gr-qc hep-ph\"\n",
              " \"astro-ph gr-qc hep-ph hep-th\"\n",
              " \"astro-ph gr-qc hep-ph nucl-th\"\n",
              " \"astro-ph gr-qc hep-th\"\n",
              " \"astro-ph gr-qc math.AP\"\n",
              " \"astro-ph gr-qc nucl-th\"\n",
              " \"astro-ph hep-ex\"\n",
              " \"astro-ph hep-ph\"\n",
              " \"astro-ph hep-ph hep-th\"\n",
              " \"astro-ph hep-ph nucl-th\"\n",
              " \"astro-ph hep-ph physics.atom-ph physics.space-ph\"\n",
              " ⋮\n",
              " \"quant-ph math-ph math.LO math.MP math.PR\"\n",
              " \"quant-ph math-ph math.MP\"\n",
              " \"quant-ph math.PR\"\n",
              " \"quant-ph nucl-th\"\n",
              " \"quant-ph physics.optics\"\n",
              " \"stat.AP\"\n",
              " \"stat.AP cs.NE\"\n",
              " \"stat.AP math.ST stat.TH\"\n",
              " \"stat.AP stat.ME\"\n",
              " \"stat.ME\"\n",
              " \"stat.ME econ.EM math.ST stat.TH\"\n",
              " \"stat.ME physics.soc-ph stat.AP\""
            ]
          },
          "metadata": {},
          "execution_count": 45
        }
      ]
    },
    {
      "cell_type": "code",
      "source": [
        "foreach(c -> delete!(c, \"categories\"), samples)"
      ],
      "metadata": {
        "id": "Icn3mWcR0S73"
      },
      "execution_count": null,
      "outputs": []
    },
    {
      "cell_type": "code",
      "source": [
        "samples[1]"
      ],
      "metadata": {
        "colab": {
          "base_uri": "https://localhost:8080/"
        },
        "id": "9wArwN7I0iie",
        "outputId": "5489218c-51a5-4315-9722-1fd6603a40c3"
      },
      "execution_count": null,
      "outputs": [
        {
          "output_type": "execute_result",
          "data": {
            "text/plain": [
              "Dict{String, Any} with 13 entries:\n",
              "  \"journal-ref\"    => \"Phys.Rev.D76:013009,2007\"\n",
              "  \"doi\"            => \"10.1103/PhysRevD.76.013009\"\n",
              "  \"id\"             => \"0704.0001\"\n",
              "  \"comments\"       => \"37 pages, 15 figures; published version\"\n",
              "  \"update_date\"    => \"2008-11-26\"\n",
              "  \"report-no\"      => \"ANL-HEP-PR-07-12\"\n",
              "  \"versions\"       => Any[Dict{String, Any}(\"created\"=>\"Mon, 2 Apr 2007 19:18:42 GMT\", \"version\"=>\"…\n",
              "  \"authors_parsed\" => Any[Any[\"Balázs\", \"C.\", \"\"], Any[\"Berger\", \"E. L.\", \"\"], Any[\"Nadolsky\", \"P. …\n",
              "  \"submitter\"      => \"Pavel Nadolsky\"\n",
              "  \"title\"          => \"Calculation of prompt diphoton production cross sections at Tevatron and\\n  …\n",
              "  \"abstract\"       => \"  A fully differential calculation in perturbative quantum chromodynamics is…\n",
              "  \"authors\"        => \"C. Bal\\\\'azs, E. L. Berger, P. M. Nadolsky, C.-P. Yuan\"\n",
              "  \"license\"        => nothing"
            ]
          },
          "metadata": {},
          "execution_count": 21
        }
      ]
    },
    {
      "cell_type": "code",
      "source": [
        "using JsonGrinder\n",
        "\n",
        "sch = JsonGrinder.schema(samples)"
      ],
      "metadata": {
        "colab": {
          "base_uri": "https://localhost:8080/"
        },
        "id": "zP7cVjdGq8nG",
        "outputId": "09b93de5-f14f-4296-c390-08fb09b41805"
      },
      "execution_count": null,
      "outputs": [
        {
          "output_type": "execute_result",
          "data": {
            "text/plain": [
              "\u001b[34m[Dict]\u001b[39m\u001b[90m  # updated = 5000\u001b[39m\n",
              "\u001b[34m  ├───── update_date: \u001b[39m\u001b[39m[Scalar - String], 853 unique values\u001b[90m  # updated = 5000\u001b[39m\n",
              "\u001b[34m  ├──────── versions: \u001b[39m\u001b[31m[List]\u001b[39m\u001b[90m  # updated = 5000\u001b[39m\n",
              "\u001b[34m  │                   \u001b[39m\u001b[31m  ╰── \u001b[39m\u001b[32m[Dict]\u001b[39m\u001b[90m  # updated = 7915\u001b[39m\n",
              "\u001b[34m  │                   \u001b[39m\u001b[31m      \u001b[39m\u001b[32m  ├── version: \u001b[39m\u001b[39m[Scalar - String], 34 unique values\u001b[90m  # updated = 7915\u001b[39m\n",
              "\u001b[34m  │                   \u001b[39m\u001b[31m      \u001b[39m\u001b[32m  ╰── created: \u001b[39m\u001b[39m[Scalar - String], 7907 unique values\u001b[90m  # updated = 7915\u001b[39m\n",
              "\u001b[34m  ├───────── license: \u001b[39m\u001b[39m[Scalar - String], 5 unique values\u001b[90m  # updated = 343\u001b[39m\n",
              "\u001b[34m  ├─────── report-no: \u001b[39m\u001b[39m[Scalar - String], 430 unique values\u001b[90m  # updated = 430\u001b[39m\n",
              "\u001b[34m  ├── authors_parsed: \u001b[39m\u001b[31m[List]\u001b[39m\u001b[90m  # updated = 5000\u001b[39m\n",
              "\u001b[34m  │                   \u001b[39m\u001b[31m  ╰── \u001b[39m\u001b[32m[List]\u001b[39m\u001b[90m  # updated = 15599\u001b[39m\n",
              "\u001b[34m  │                   \u001b[39m\u001b[31m      \u001b[39m\u001b[32m  ╰── \u001b[39m\u001b[39m[Scalar - String], 10000 unique values\u001b[90m  # updated = 48408\u001b[39m\n",
              "\u001b[34m  ├───────── authors: \u001b[39m\u001b[39m[Scalar - String], 4746 unique values\u001b[90m  # updated = 5000\u001b[39m\n",
              "\u001b[34m  ├─────────── title: \u001b[39m\u001b[39m[Scalar - String], 4998 unique values\u001b[90m  # updated = 5000\u001b[39m\n",
              "\u001b[34m  ├───── journal-ref: \u001b[39m\u001b[39m[Scalar - String], 2743 unique values\u001b[90m  # updated = 2743\u001b[39m\n",
              "\u001b[34m  ┊\u001b[39m\n",
              "\u001b[34m  ├─────── submitter: \u001b[39m\u001b[39m[Scalar - String], 4271 unique values\u001b[90m  # updated = 5000\u001b[39m\n",
              "\u001b[34m  ╰────────────── id: \u001b[39m\u001b[39m[Scalar - String], 5000 unique values\u001b[90m  # updated = 5000\u001b[39m"
            ]
          },
          "metadata": {},
          "execution_count": 22
        }
      ]
    },
    {
      "cell_type": "code",
      "source": [
        "delete!(sch.childs,:id)"
      ],
      "metadata": {
        "colab": {
          "base_uri": "https://localhost:8080/"
        },
        "id": "jkCemfSUulx0",
        "outputId": "d370a4aa-869b-4a42-c03f-cb804137ebc9"
      },
      "execution_count": null,
      "outputs": [
        {
          "output_type": "execute_result",
          "data": {
            "text/plain": [
              "Dict{Symbol, Any} with 12 entries:\n",
              "  :update_date          => Entry\n",
              "  :versions             => ArrayEntry\n",
              "  :license              => Entry\n",
              "  Symbol(\"report-no\")   => Entry\n",
              "  :authors_parsed       => ArrayEntry\n",
              "  :authors              => Entry\n",
              "  :title                => Entry\n",
              "  Symbol(\"journal-ref\") => Entry\n",
              "  :comments             => Entry\n",
              "  :abstract             => Entry\n",
              "  :doi                  => Entry\n",
              "  :submitter            => Entry"
            ]
          },
          "metadata": {},
          "execution_count": 23
        }
      ]
    },
    {
      "cell_type": "code",
      "source": [
        "extractor = suggestextractor(sch)"
      ],
      "metadata": {
        "colab": {
          "base_uri": "https://localhost:8080/"
        },
        "id": "nWmviA61u23D",
        "outputId": "15994ccf-e5a6-463a-e1ed-de54eb6a2ef0"
      },
      "execution_count": null,
      "outputs": [
        {
          "output_type": "execute_result",
          "data": {
            "text/plain": [
              "\u001b[34mDict\u001b[39m\n",
              "\u001b[34m  ├───── update_date: \u001b[39m\u001b[39mString\n",
              "\u001b[34m  ├──────── versions: \u001b[39m\u001b[31mArray of\u001b[39m\n",
              "\u001b[34m  │                   \u001b[39m\u001b[31m  ╰── \u001b[39m\u001b[32mDict\u001b[39m\n",
              "\u001b[34m  │                   \u001b[39m\u001b[31m      \u001b[39m\u001b[32m  ├── version: \u001b[39m\u001b[39mCategorical d = 35\n",
              "\u001b[34m  │                   \u001b[39m\u001b[31m      \u001b[39m\u001b[32m  ╰── created: \u001b[39m\u001b[39mString\n",
              "\u001b[34m  ├───────── license: \u001b[39m\u001b[39mCategorical d = 6\n",
              "\u001b[34m  ├─────── report-no: \u001b[39m\u001b[39mString\n",
              "\u001b[34m  ├── authors_parsed: \u001b[39m\u001b[31mArray of\u001b[39m\n",
              "\u001b[34m  │                   \u001b[39m\u001b[31m  ╰── \u001b[39m\u001b[32mArray of\u001b[39m\n",
              "\u001b[34m  │                   \u001b[39m\u001b[31m      \u001b[39m\u001b[32m  ╰── \u001b[39m\u001b[39mString\n",
              "\u001b[34m  ├───────── authors: \u001b[39m\u001b[39mString\n",
              "\u001b[34m  ├─────────── title: \u001b[39m\u001b[39mString\n",
              "\u001b[34m  ├───── journal-ref: \u001b[39m\u001b[39mString\n",
              "\u001b[34m  ┊\u001b[39m\n",
              "\u001b[34m  ├───────────── doi: \u001b[39m\u001b[39mString\n",
              "\u001b[34m  ╰─────── submitter: \u001b[39m\u001b[39mString"
            ]
          },
          "metadata": {},
          "execution_count": 24
        }
      ]
    },
    {
      "cell_type": "code",
      "source": [
        "extractor(samples[1])"
      ],
      "metadata": {
        "colab": {
          "base_uri": "https://localhost:8080/"
        },
        "id": "KtRP5gzkvR_6",
        "outputId": "802cf21a-bb59-4884-9786-f99085cfe141"
      },
      "execution_count": null,
      "outputs": [
        {
          "output_type": "execute_result",
          "data": {
            "text/plain": [
              "\u001b[34mProductNode\u001b[39m\u001b[90m  # 1 obs, 408 bytes\u001b[39m\n",
              "\u001b[34m  ├───── update_date: \u001b[39m\u001b[39mArrayNode(2053×1 NGramMatrix with Int64 elements)\u001b[90m  # 1 obs, 130 bytes\u001b[39m\n",
              "\u001b[34m  ├──────── comments: \u001b[39m\u001b[39mArrayNode(2053×1 NGramMatrix with Union{Missing, Int64} elements)\u001b[90m  # 1 obs,  \u001b[39m\u001b[90m⋯\u001b[39m\n",
              "\u001b[34m  ├──────── versions: \u001b[39m\u001b[31mBagNode\u001b[39m\u001b[90m  # 1 obs, 120 bytes\u001b[39m\n",
              "\u001b[34m  │                   \u001b[39m\u001b[31m  ╰── \u001b[39m\u001b[32mProductNode\u001b[39m\u001b[90m  # 2 obs, 48 bytes\u001b[39m\n",
              "\u001b[34m  │                   \u001b[39m\u001b[31m      \u001b[39m\u001b[32m  ├── version: \u001b[39m\u001b[39mArrayNode(35×2 OneHotArray with Bool elements)\u001b[90m  # 2 obs \u001b[39m\u001b[90m⋯\u001b[39m\n",
              "\u001b[34m  │                   \u001b[39m\u001b[31m      \u001b[39m\u001b[32m  ╰── created: \u001b[39m\u001b[39mArrayNode(2053×2 NGramMatrix with Int64 elements)\u001b[90m  # 2  \u001b[39m\u001b[90m⋯\u001b[39m\n",
              "\u001b[34m  ├──────── abstract: \u001b[39m\u001b[39mArrayNode(2053×1 NGramMatrix with Int64 elements)\u001b[90m  # 1 obs, 1.077 KiB\u001b[39m\n",
              "\u001b[34m  ├───────── license: \u001b[39m\u001b[39mArrayNode(6×1 MaybeHotMatrix with Union{Missing, Bool} elements)\u001b[90m  # 1 obs, 7 \u001b[39m\u001b[90m⋯\u001b[39m\n",
              "\u001b[34m  ├─────── report-no: \u001b[39m\u001b[39mArrayNode(2053×1 NGramMatrix with Union{Missing, Int64} elements)\u001b[90m  # 1 obs,  \u001b[39m\u001b[90m⋯\u001b[39m\n",
              "\u001b[34m  ├── authors_parsed: \u001b[39m\u001b[31mBagNode\u001b[39m\u001b[90m  # 1 obs, 112 bytes\u001b[39m\n",
              "\u001b[34m  │                   \u001b[39m\u001b[31m  ╰── \u001b[39m\u001b[32mBagNode\u001b[39m\u001b[90m  # 4 obs, 152 bytes\u001b[39m\n",
              "\u001b[34m  │                   \u001b[39m\u001b[31m      \u001b[39m\u001b[32m  ╰── \u001b[39m\u001b[39mArrayNode(2053×12 NGramMatrix with Int64 elements)\u001b[90m  # 12 obs, 31 \u001b[39m\u001b[90m⋯\u001b[39m\n",
              "\u001b[34m  ├───────────── doi: \u001b[39m\u001b[39mArrayNode(2053×1 NGramMatrix with Union{Missing, Int64} elements)\u001b[90m  # 1 obs,  \u001b[39m\u001b[90m⋯\u001b[39m\n",
              "\u001b[34m  ┊\u001b[39m\n",
              "\u001b[34m  ├─────────── title: \u001b[39m\u001b[39mArrayNode(2053×1 NGramMatrix with Int64 elements)\u001b[90m  # 1 obs, 207 bytes\u001b[39m\n",
              "\u001b[34m  ╰───── journal-ref: \u001b[39m\u001b[39mArrayNode(2053×1 NGramMatrix with Union{Missing, Int64} elements)\u001b[90m  # 1 obs,  \u001b[39m\u001b[90m⋯\u001b[39m"
            ]
          },
          "metadata": {},
          "execution_count": 25
        }
      ]
    },
    {
      "cell_type": "code",
      "source": [
        "data = map(extractor, samples)"
      ],
      "metadata": {
        "colab": {
          "base_uri": "https://localhost:8080/"
        },
        "id": "xmGWxarIyRVA",
        "outputId": "86f86a0c-61ad-47da-9f4a-7481a793b216"
      },
      "execution_count": null,
      "outputs": [
        {
          "output_type": "execute_result",
          "data": {
            "text/plain": [
              "5000-element Vector{Mill.ProductNode{NamedTuple{(:update_date, :comments, :versions, :abstract, :license, Symbol(\"report-no\"), :authors_parsed, :doi, :authors, :submitter, :title, Symbol(\"journal-ref\")), Tuple{Mill.ArrayNode{Mill.NGramMatrix{String, Vector{String}, Int64}, Nothing}, Mill.ArrayNode{Mill.NGramMatrix{Union{Missing, String}, Vector{Union{Missing, String}}, Union{Missing, Int64}}, Nothing}, Mill.BagNode{Mill.ProductNode{NamedTuple{(:version, :created), Tuple{Mill.ArrayNode{OneHotArrays.OneHotMatrix{UInt32, Vector{UInt32}}, Nothing}, Mill.ArrayNode{Mill.NGramMatrix{String, Vector{String}, Int64}, Nothing}}}, Nothing}, Mill.AlignedBags{Int64}, Nothing}, Mill.ArrayNode{Mill.NGramMatrix{String, Vector{String}, Int64}, Nothing}, Mill.ArrayNode{Mill.MaybeHotMatrix{Union{Missing, UInt32}, Int64, Union{Missing, Bool}}, Nothing}, Mill.ArrayNode{Mill.NGramMatrix{Union{Missing, String}, Vector{Union{Missing, String}}, Union{Missing, Int64}}, Nothing}, Mill.BagNode{Mill.BagNode{Mill.ArrayNode{Mill.NGramMatrix{String, Vector{String}, Int64}, Nothing}, Mill.AlignedBags{Int64}, Nothing}, Mill.AlignedBags{Int64}, Nothing}, Mill.ArrayNode{Mill.NGramMatrix{Union{Missing, String}, Vector{Union{Missing, String}}, Union{Missing, Int64}}, Nothing}, Mill.ArrayNode{Mill.NGramMatrix{String, Vector{String}, Int64}, Nothing}, Mill.ArrayNode{Mill.NGramMatrix{String, Vector{String}, Int64}, Nothing}, Mill.ArrayNode{Mill.NGramMatrix{String, Vector{String}, Int64}, Nothing}, Mill.ArrayNode{Mill.NGramMatrix{Union{Missing, String}, Vector{Union{Missing, String}}, Union{Missing, Int64}}, Nothing}}}, Nothing}}:\n",
              " ProductNode\n",
              " ProductNode\n",
              " ProductNode\n",
              " ProductNode\n",
              " ProductNode\n",
              " ProductNode\n",
              " ProductNode\n",
              " ProductNode\n",
              " ProductNode\n",
              " ProductNode\n",
              " ProductNode\n",
              " ProductNode\n",
              " ProductNode\n",
              " ⋮\n",
              " ProductNode\n",
              " ProductNode\n",
              " ProductNode\n",
              " ProductNode\n",
              " ProductNode\n",
              " ProductNode\n",
              " ProductNode\n",
              " ProductNode\n",
              " ProductNode\n",
              " ProductNode\n",
              " ProductNode\n",
              " ProductNode"
            ]
          },
          "metadata": {},
          "execution_count": 26
        }
      ]
    },
    {
      "cell_type": "markdown",
      "source": [
        "## Defining the model reflecting the structure of data"
      ],
      "metadata": {
        "id": "ev5f2uiG25Y0"
      }
    },
    {
      "cell_type": "code",
      "source": [
        "using Mill, Flux\n",
        "\n",
        "model = reflectinmodel(data[1],\n",
        "\tinput_dim -> Dense(input_dim, 64, relu),\n",
        "\tMill.SegmentedMeanMax,\n",
        "\tfsm = Dict(\"\" => input_dim -> Chain(Dense(input_dim, 64, relu), Dense(64, length(labels))))\n",
        "\t)"
      ],
      "metadata": {
        "colab": {
          "base_uri": "https://localhost:8080/"
        },
        "id": "d87-dx6927ME",
        "outputId": "b780f391-2f78-4171-dbf9-594262f2881b"
      },
      "execution_count": null,
      "outputs": [
        {
          "output_type": "execute_result",
          "data": {
            "text/plain": [
              "\u001b[34mProductModel ↦ Chain(Dense(768 => 64, relu), Dense(64 => 943))\u001b[39m\u001b[90m  # 4 arrays, 110_511 params, 431.84 \u001b[39m\u001b[90m⋯\u001b[39m\n",
              "\u001b[34m  ├───── update_date: \u001b[39m\u001b[39mArrayModel(Dense(2053 => 64, relu))\u001b[90m  # 2 arrays, 131_456 params, 513.578 KiB\u001b[39m\n",
              "\u001b[34m  ├──────── comments: \u001b[39m\u001b[39mArrayModel([postimputing]Dense(2053 => 64, relu))\u001b[90m  # 3 arrays, 131_520 param \u001b[39m\u001b[90m⋯\u001b[39m\n",
              "\u001b[34m  ├──────── versions: \u001b[39m\u001b[31mBagModel ↦ [SegmentedMean(64); SegmentedMax(64)] ↦ Dense(128 => 64, relu)\u001b[39m\u001b[90m  # \u001b[39m\u001b[90m⋯\u001b[39m\n",
              "\u001b[34m  │                   \u001b[39m\u001b[31m  ╰── \u001b[39m\u001b[32mProductModel ↦ Dense(128 => 64, relu)\u001b[39m\u001b[90m  # 2 arrays, 8_256 params, 32.32 \u001b[39m\u001b[90m⋯\u001b[39m\n",
              "\u001b[34m  │                   \u001b[39m\u001b[31m      \u001b[39m\u001b[32m  ├── version: \u001b[39m\u001b[39mArrayModel(Dense(35 => 64, relu))\u001b[90m  # 2 arrays, 2_304 pa \u001b[39m\u001b[90m⋯\u001b[39m\n",
              "\u001b[34m  │                   \u001b[39m\u001b[31m      \u001b[39m\u001b[32m  ╰── created: \u001b[39m\u001b[39mArrayModel(Dense(2053 => 64, relu))\u001b[90m  # 2 arrays, 131_45 \u001b[39m\u001b[90m⋯\u001b[39m\n",
              "\u001b[34m  ├──────── abstract: \u001b[39m\u001b[39mArrayModel(Dense(2053 => 64, relu))\u001b[90m  # 2 arrays, 131_456 params, 513.578 KiB\u001b[39m\n",
              "\u001b[34m  ├───────── license: \u001b[39m\u001b[39mArrayModel([postimputing]Dense(6 => 64, relu))\u001b[90m  # 3 arrays, 512 params, 2.11 \u001b[39m\u001b[90m⋯\u001b[39m\n",
              "\u001b[34m  ├─────── report-no: \u001b[39m\u001b[39mArrayModel([postimputing]Dense(2053 => 64, relu))\u001b[90m  # 3 arrays, 131_520 param \u001b[39m\u001b[90m⋯\u001b[39m\n",
              "\u001b[34m  ├── authors_parsed: \u001b[39m\u001b[31mBagModel ↦ [SegmentedMean(64); SegmentedMax(64)] ↦ Dense(128 => 64, relu)\u001b[39m\u001b[90m  # \u001b[39m\u001b[90m⋯\u001b[39m\n",
              "\u001b[34m  │                   \u001b[39m\u001b[31m  ╰── \u001b[39m\u001b[32mBagModel ↦ [SegmentedMean(64); SegmentedMax(64)] ↦ Dense(128 => 64, re \u001b[39m\u001b[90m⋯\u001b[39m\n",
              "\u001b[34m  │                   \u001b[39m\u001b[31m      \u001b[39m\u001b[32m  ╰── \u001b[39m\u001b[39mArrayModel(Dense(2053 => 64, relu))\u001b[90m  # 2 arrays, 131_456 params, \u001b[39m\u001b[90m⋯\u001b[39m\n",
              "\u001b[34m  ├───────────── doi: \u001b[39m\u001b[39mArrayModel([postimputing]Dense(2053 => 64, relu))\u001b[90m  # 3 arrays, 131_520 param \u001b[39m\u001b[90m⋯\u001b[39m\n",
              "\u001b[34m  ┊\u001b[39m\n",
              "\u001b[34m  ├─────────── title: \u001b[39m\u001b[39mArrayModel(Dense(2053 => 64, relu))\u001b[90m  # 2 arrays, 131_456 params, 513.578 KiB\u001b[39m\n",
              "\u001b[34m  ╰───── journal-ref: \u001b[39m\u001b[39mArrayModel([postimputing]Dense(2053 => 64, relu))\u001b[90m  # 3 arrays, 131_520 param \u001b[39m\u001b[90m⋯\u001b[39m"
            ]
          },
          "metadata": {},
          "execution_count": 91
        }
      ]
    },
    {
      "cell_type": "markdown",
      "source": [
        "### Training the model"
      ],
      "metadata": {
        "id": "L1kO4oUp4795"
      }
    },
    {
      "cell_type": "code",
      "source": [
        "# Set a random seed for reproducibility\n",
        "Random.seed!(42)"
      ],
      "metadata": {
        "colab": {
          "base_uri": "https://localhost:8080/"
        },
        "id": "ayyT27NmHyb5",
        "outputId": "34f569f4-57fa-4089-df33-aac8b367c0c9"
      },
      "execution_count": null,
      "outputs": [
        {
          "output_type": "execute_result",
          "data": {
            "text/plain": [
              "TaskLocalRNG()"
            ]
          },
          "metadata": {},
          "execution_count": 65
        }
      ]
    },
    {
      "cell_type": "code",
      "source": [
        "using Random\n",
        "using MLUtils\n",
        "\n",
        "# Shuffle the data and targets together\n",
        "shuffled_data_targets = shuffleobs((data, targets))\n",
        "\n",
        "# Split the shuffled data into train and test sets\n",
        "train, remaining = splitobs(shuffled_data_targets, at = 0.8)\n",
        "\n",
        "# Split the remaining data into validation and test sets\n",
        "val, test = splitobs(remaining, at = 0.5) # Split the remaining 20% into validation and test sets"
      ],
      "metadata": {
        "colab": {
          "base_uri": "https://localhost:8080/"
        },
        "id": "uExfcOzOFJr9",
        "outputId": "da774a5b-8247-43df-aa9b-67ba7c1e7200"
      },
      "execution_count": null,
      "outputs": [
        {
          "output_type": "execute_result",
          "data": {
            "text/plain": [
              "((ProductNode{NamedTuple{(:update_date, :comments, :versions, :abstract, :license, Symbol(\"report-no\"), :authors_parsed, :doi, :authors, :submitter, :title, Symbol(\"journal-ref\")), Tuple{ArrayNode{NGramMatrix{String, Vector{String}, Int64}, Nothing}, ArrayNode{NGramMatrix{Union{Missing, String}, Vector{Union{Missing, String}}, Union{Missing, Int64}}, Nothing}, BagNode{ProductNode{NamedTuple{(:version, :created), Tuple{ArrayNode{OneHotArrays.OneHotMatrix{UInt32, Vector{UInt32}}, Nothing}, ArrayNode{NGramMatrix{String, Vector{String}, Int64}, Nothing}}}, Nothing}, AlignedBags{Int64}, Nothing}, ArrayNode{NGramMatrix{String, Vector{String}, Int64}, Nothing}, ArrayNode{MaybeHotMatrix{Union{Missing, UInt32}, Int64, Union{Missing, Bool}}, Nothing}, ArrayNode{NGramMatrix{Union{Missing, String}, Vector{Union{Missing, String}}, Union{Missing, Int64}}, Nothing}, BagNode{BagNode{ArrayNode{NGramMatrix{String, Vector{String}, Int64}, Nothing}, AlignedBags{Int64}, Nothing}, AlignedBags{Int64}, Nothing}, ArrayNode{NGramMatrix{Union{Missing, String}, Vector{Union{Missing, String}}, Union{Missing, Int64}}, Nothing}, ArrayNode{NGramMatrix{String, Vector{String}, Int64}, Nothing}, ArrayNode{NGramMatrix{String, Vector{String}, Int64}, Nothing}, ArrayNode{NGramMatrix{String, Vector{String}, Int64}, Nothing}, ArrayNode{NGramMatrix{Union{Missing, String}, Vector{Union{Missing, String}}, Union{Missing, Int64}}, Nothing}}}, Nothing}[ProductNode, ProductNode, ProductNode, ProductNode, ProductNode, ProductNode, ProductNode, ProductNode, ProductNode, ProductNode  …  ProductNode, ProductNode, ProductNode, ProductNode, ProductNode, ProductNode, ProductNode, ProductNode, ProductNode, ProductNode], [\"math.QA math.RT\", \"hep-ex\", \"cond-mat.mtrl-sci\", \"hep-th cond-mat.dis-nn cond-mat.stat-mech\", \"hep-ph\", \"hep-ph\", \"quant-ph\", \"cond-mat.str-el hep-th quant-ph\", \"physics.gen-ph\", \"cond-mat.soft\"  …  \"math.RA\", \"astro-ph\", \"hep-th astro-ph gr-qc\", \"astro-ph\", \"math-ph hep-th math.MP\", \"math.AG\", \"cond-mat.stat-mech cond-mat.dis-nn\", \"cond-mat.mes-hall cond-mat.mtrl-sci\", \"cond-mat.stat-mech\", \"hep-ph nucl-ex nucl-th\"]), (ProductNode{NamedTuple{(:update_date, :comments, :versions, :abstract, :license, Symbol(\"report-no\"), :authors_parsed, :doi, :authors, :submitter, :title, Symbol(\"journal-ref\")), Tuple{ArrayNode{NGramMatrix{String, Vector{String}, Int64}, Nothing}, ArrayNode{NGramMatrix{Union{Missing, String}, Vector{Union{Missing, String}}, Union{Missing, Int64}}, Nothing}, BagNode{ProductNode{NamedTuple{(:version, :created), Tuple{ArrayNode{OneHotArrays.OneHotMatrix{UInt32, Vector{UInt32}}, Nothing}, ArrayNode{NGramMatrix{String, Vector{String}, Int64}, Nothing}}}, Nothing}, AlignedBags{Int64}, Nothing}, ArrayNode{NGramMatrix{String, Vector{String}, Int64}, Nothing}, ArrayNode{MaybeHotMatrix{Union{Missing, UInt32}, Int64, Union{Missing, Bool}}, Nothing}, ArrayNode{NGramMatrix{Union{Missing, String}, Vector{Union{Missing, String}}, Union{Missing, Int64}}, Nothing}, BagNode{BagNode{ArrayNode{NGramMatrix{String, Vector{String}, Int64}, Nothing}, AlignedBags{Int64}, Nothing}, AlignedBags{Int64}, Nothing}, ArrayNode{NGramMatrix{Union{Missing, String}, Vector{Union{Missing, String}}, Union{Missing, Int64}}, Nothing}, ArrayNode{NGramMatrix{String, Vector{String}, Int64}, Nothing}, ArrayNode{NGramMatrix{String, Vector{String}, Int64}, Nothing}, ArrayNode{NGramMatrix{String, Vector{String}, Int64}, Nothing}, ArrayNode{NGramMatrix{Union{Missing, String}, Vector{Union{Missing, String}}, Union{Missing, Int64}}, Nothing}}}, Nothing}[ProductNode, ProductNode, ProductNode, ProductNode, ProductNode, ProductNode, ProductNode, ProductNode, ProductNode, ProductNode  …  ProductNode, ProductNode, ProductNode, ProductNode, ProductNode, ProductNode, ProductNode, ProductNode, ProductNode, ProductNode], [\"astro-ph\", \"astro-ph\", \"math.PR math-ph math.MP\", \"hep-ph\", \"math-ph hep-th math.MP nlin.SI\", \"gr-qc hep-th\", \"math.PR math-ph math.MP\", \"astro-ph\", \"math.AP\", \"astro-ph\"  …  \"math.CO\", \"physics.gen-ph\", \"gr-qc\", \"astro-ph\", \"cond-mat.mes-hall\", \"cs.CC cs.DS\", \"math-ph math.MP\", \"math-ph math.DS math.MP nlin.CD\", \"astro-ph\", \"quant-ph\"]))"
            ]
          },
          "metadata": {},
          "execution_count": 68
        }
      ]
    },
    {
      "cell_type": "code",
      "source": [
        "function loss(x,y)\n",
        "  x = Zygote.@ignore reduce(catobs, getobs(x))\n",
        "  y = Zygote.@ignore Flux.onehotbatch(getobs(y), labels)\n",
        "  Flux.Losses.logitcrossentropy(model(x), y)\n",
        "end"
      ],
      "metadata": {
        "colab": {
          "base_uri": "https://localhost:8080/"
        },
        "id": "JfypRIyC8gJu",
        "outputId": "5beb51d1-e897-4bb9-85c5-d3daa65e5dbb"
      },
      "execution_count": null,
      "outputs": [
        {
          "output_type": "execute_result",
          "data": {
            "text/plain": [
              "loss (generic function with 1 method)"
            ]
          },
          "metadata": {},
          "execution_count": 93
        }
      ]
    },
    {
      "cell_type": "code",
      "source": [
        "data[1]"
      ],
      "metadata": {
        "colab": {
          "base_uri": "https://localhost:8080/"
        },
        "id": "x_nD61PoFhK6",
        "outputId": "2c47eca2-bbd1-40f6-ec22-168268c60fc2"
      },
      "execution_count": null,
      "outputs": [
        {
          "output_type": "execute_result",
          "data": {
            "text/plain": [
              "\u001b[34mProductNode\u001b[39m\u001b[90m  # 1 obs, 408 bytes\u001b[39m\n",
              "\u001b[34m  ├───── update_date: \u001b[39m\u001b[39mArrayNode(2053×1 NGramMatrix with Int64 elements)\u001b[90m  # 1 obs, 130 bytes\u001b[39m\n",
              "\u001b[34m  ├──────── comments: \u001b[39m\u001b[39mArrayNode(2053×1 NGramMatrix with Union{Missing, Int64} elements)\u001b[90m  # 1 obs,  \u001b[39m\u001b[90m⋯\u001b[39m\n",
              "\u001b[34m  ├──────── versions: \u001b[39m\u001b[31mBagNode\u001b[39m\u001b[90m  # 1 obs, 120 bytes\u001b[39m\n",
              "\u001b[34m  │                   \u001b[39m\u001b[31m  ╰── \u001b[39m\u001b[32mProductNode\u001b[39m\u001b[90m  # 2 obs, 48 bytes\u001b[39m\n",
              "\u001b[34m  │                   \u001b[39m\u001b[31m      \u001b[39m\u001b[32m  ├── version: \u001b[39m\u001b[39mArrayNode(35×2 OneHotArray with Bool elements)\u001b[90m  # 2 obs \u001b[39m\u001b[90m⋯\u001b[39m\n",
              "\u001b[34m  │                   \u001b[39m\u001b[31m      \u001b[39m\u001b[32m  ╰── created: \u001b[39m\u001b[39mArrayNode(2053×2 NGramMatrix with Int64 elements)\u001b[90m  # 2  \u001b[39m\u001b[90m⋯\u001b[39m\n",
              "\u001b[34m  ├──────── abstract: \u001b[39m\u001b[39mArrayNode(2053×1 NGramMatrix with Int64 elements)\u001b[90m  # 1 obs, 1.077 KiB\u001b[39m\n",
              "\u001b[34m  ├───────── license: \u001b[39m\u001b[39mArrayNode(6×1 MaybeHotMatrix with Union{Missing, Bool} elements)\u001b[90m  # 1 obs, 7 \u001b[39m\u001b[90m⋯\u001b[39m\n",
              "\u001b[34m  ├─────── report-no: \u001b[39m\u001b[39mArrayNode(2053×1 NGramMatrix with Union{Missing, Int64} elements)\u001b[90m  # 1 obs,  \u001b[39m\u001b[90m⋯\u001b[39m\n",
              "\u001b[34m  ├── authors_parsed: \u001b[39m\u001b[31mBagNode\u001b[39m\u001b[90m  # 1 obs, 112 bytes\u001b[39m\n",
              "\u001b[34m  │                   \u001b[39m\u001b[31m  ╰── \u001b[39m\u001b[32mBagNode\u001b[39m\u001b[90m  # 4 obs, 152 bytes\u001b[39m\n",
              "\u001b[34m  │                   \u001b[39m\u001b[31m      \u001b[39m\u001b[32m  ╰── \u001b[39m\u001b[39mArrayNode(2053×12 NGramMatrix with Int64 elements)\u001b[90m  # 12 obs, 31 \u001b[39m\u001b[90m⋯\u001b[39m\n",
              "\u001b[34m  ├───────────── doi: \u001b[39m\u001b[39mArrayNode(2053×1 NGramMatrix with Union{Missing, Int64} elements)\u001b[90m  # 1 obs,  \u001b[39m\u001b[90m⋯\u001b[39m\n",
              "\u001b[34m  ┊\u001b[39m\n",
              "\u001b[34m  ├─────────── title: \u001b[39m\u001b[39mArrayNode(2053×1 NGramMatrix with Int64 elements)\u001b[90m  # 1 obs, 207 bytes\u001b[39m\n",
              "\u001b[34m  ╰───── journal-ref: \u001b[39m\u001b[39mArrayNode(2053×1 NGramMatrix with Union{Missing, Int64} elements)\u001b[90m  # 1 obs,  \u001b[39m\u001b[90m⋯\u001b[39m"
            ]
          },
          "metadata": {},
          "execution_count": 30
        }
      ]
    },
    {
      "cell_type": "code",
      "source": [
        "using Statistics\n",
        "\n",
        "test_accuracy = mean(labels[Flux.onecold(softmax(model(reduce(catobs, getobs(test[1])))))] .== getobs(test[2]))\n",
        "\n",
        "# Print test accuracy\n",
        "println(\"Test Accuracy: \", test_accuracy)"
      ],
      "metadata": {
        "colab": {
          "base_uri": "https://localhost:8080/"
        },
        "id": "nuYSC6PIFa_6",
        "outputId": "3a0042fc-98f1-438d-919b-ecbbef0d67f9"
      },
      "execution_count": null,
      "outputs": [
        {
          "output_type": "stream",
          "name": "stdout",
          "text": [
            "Test Accuracy: 0.0\n"
          ]
        }
      ]
    },
    {
      "cell_type": "code",
      "source": [
        "labels[Flux.onecold(softmax(model(reduce(catobs, getobs(test[1])))))] .== getobs(test[2])"
      ],
      "metadata": {
        "colab": {
          "base_uri": "https://localhost:8080/"
        },
        "id": "uf08xefe0G90",
        "outputId": "9106dc27-d258-4166-85b3-8d20a94a9c38"
      },
      "execution_count": null,
      "outputs": [
        {
          "output_type": "execute_result",
          "data": {
            "text/plain": [
              "500-element BitVector:\n",
              " 0\n",
              " 0\n",
              " 0\n",
              " 0\n",
              " 0\n",
              " 0\n",
              " 0\n",
              " 0\n",
              " 0\n",
              " 0\n",
              " 0\n",
              " 0\n",
              " 0\n",
              " ⋮\n",
              " 0\n",
              " 0\n",
              " 0\n",
              " 0\n",
              " 0\n",
              " 0\n",
              " 0\n",
              " 0\n",
              " 0\n",
              " 0\n",
              " 0\n",
              " 0"
            ]
          },
          "metadata": {},
          "execution_count": 84
        }
      ]
    },
    {
      "cell_type": "code",
      "source": [
        "labels[Flux.onecold(softmax(model(reduce(catobs, getobs(test[1])))))]"
      ],
      "metadata": {
        "colab": {
          "base_uri": "https://localhost:8080/"
        },
        "id": "FQJyqGOO0sOL",
        "outputId": "4b63bdfc-d534-4ae2-b025-fc912320eb9f"
      },
      "execution_count": null,
      "outputs": [
        {
          "output_type": "execute_result",
          "data": {
            "text/plain": [
              "1000-element Vector{String}:\n",
              " \"math.DG gr-qc\"\n",
              " \"math.GR math.FA\"\n",
              " \"math.AT\"\n",
              " \"math.DG gr-qc\"\n",
              " \"math.DG gr-qc\"\n",
              " \"math.DG gr-qc\"\n",
              " \"quant-ph math-ph math.CO math.MP\"\n",
              " \"math.AT math.DG\"\n",
              " \"quant-ph cond-mat.other physics.atom-ph\"\n",
              " \"math.AT\"\n",
              " \"math.AT math.DG\"\n",
              " \"math.DG gr-qc\"\n",
              " \"nlin.CD nlin.SI\"\n",
              " ⋮\n",
              " \"math.DG gr-qc\"\n",
              " \"math.AT\"\n",
              " \"math.DG gr-qc\"\n",
              " \"math.AT math.DG\"\n",
              " \"math.DG gr-qc\"\n",
              " \"math.AT\"\n",
              " \"math.AT math.DG\"\n",
              " \"math.CT math.GN\"\n",
              " \"quant-ph cs.ET\"\n",
              " \"math.AT\"\n",
              " \"cs.DS cs.PF\"\n",
              " \"math.DG gr-qc\""
            ]
          },
          "metadata": {},
          "execution_count": 39
        }
      ]
    },
    {
      "cell_type": "code",
      "source": [
        "getobs(test[2])"
      ],
      "metadata": {
        "colab": {
          "base_uri": "https://localhost:8080/"
        },
        "id": "7PSvx0-D0u07",
        "outputId": "9b45afd3-b9fd-4395-d50b-7fc84afc9c4b"
      },
      "execution_count": null,
      "outputs": [
        {
          "output_type": "execute_result",
          "data": {
            "text/plain": [
              "1000-element Vector{String}:\n",
              " \"astro-ph\"\n",
              " \"physics.soc-ph\"\n",
              " \"cond-mat.supr-con\"\n",
              " \"physics.gen-ph\"\n",
              " \"hep-th\"\n",
              " \"astro-ph\"\n",
              " \"cs.DM cs.LO\"\n",
              " \"cond-mat.mes-hall\"\n",
              " \"hep-ex\"\n",
              " \"stat.ME econ.EM math.ST stat.TH\"\n",
              " \"physics.optics\"\n",
              " \"hep-ph astro-ph hep-th\"\n",
              " \"math.DS cs.DM math.NT\"\n",
              " ⋮\n",
              " \"math.CV math.AG\"\n",
              " \"nlin.SI math-ph math.MP\"\n",
              " \"math.OA math.GN\"\n",
              " \"astro-ph\"\n",
              " \"astro-ph\"\n",
              " \"cs.CL cs.HC\"\n",
              " \"hep-ph\"\n",
              " \"math.SG math.CO\"\n",
              " \"hep-ph\"\n",
              " \"hep-th math.DG\"\n",
              " \"physics.atom-ph\"\n",
              " \"hep-th gr-qc math-ph math.MP\""
            ]
          },
          "metadata": {},
          "execution_count": 40
        }
      ]
    },
    {
      "cell_type": "code",
      "source": [
        "getobs(test[2])"
      ],
      "metadata": {
        "colab": {
          "base_uri": "https://localhost:8080/"
        },
        "id": "4-VY8sxODKRF",
        "outputId": "f1f23bee-c94e-41d9-a3cf-d10961290fc1"
      },
      "execution_count": null,
      "outputs": [
        {
          "output_type": "execute_result",
          "data": {
            "text/plain": [
              "1000-element Vector{String}:\n",
              " \"astro-ph\"\n",
              " \"physics.soc-ph\"\n",
              " \"cond-mat.supr-con\"\n",
              " \"physics.gen-ph\"\n",
              " \"hep-th\"\n",
              " \"astro-ph\"\n",
              " \"cs.DM cs.LO\"\n",
              " \"cond-mat.mes-hall\"\n",
              " \"hep-ex\"\n",
              " \"stat.ME econ.EM math.ST stat.TH\"\n",
              " \"physics.optics\"\n",
              " \"hep-ph astro-ph hep-th\"\n",
              " \"math.DS cs.DM math.NT\"\n",
              " ⋮\n",
              " \"math.CV math.AG\"\n",
              " \"nlin.SI math-ph math.MP\"\n",
              " \"math.OA math.GN\"\n",
              " \"astro-ph\"\n",
              " \"astro-ph\"\n",
              " \"cs.CL cs.HC\"\n",
              " \"hep-ph\"\n",
              " \"math.SG math.CO\"\n",
              " \"hep-ph\"\n",
              " \"hep-th math.DG\"\n",
              " \"physics.atom-ph\"\n",
              " \"hep-th gr-qc math-ph math.MP\""
            ]
          },
          "metadata": {},
          "execution_count": 181
        }
      ]
    },
    {
      "cell_type": "code",
      "source": [
        "train[2]"
      ],
      "metadata": {
        "colab": {
          "base_uri": "https://localhost:8080/"
        },
        "id": "jEOqPwwrMpgU",
        "outputId": "74675026-75b7-4b39-d70e-3f7e0f5c7231"
      },
      "execution_count": null,
      "outputs": [
        {
          "output_type": "execute_result",
          "data": {
            "text/plain": [
              "4000-element view(::Vector{String}, [3042, 4121, 4041, 479, 4439, 4292, 3816, 214, 1114, 582  …  3616, 1931, 1716, 3463, 2584, 2753, 4265, 1158, 231, 4311]) with eltype String:\n",
              " \"nucl-ex\"\n",
              " \"math.RA\"\n",
              " \"math.CO\"\n",
              " \"math.AG math.KT\"\n",
              " \"physics.soc-ph physics.data-an\"\n",
              " \"cond-mat.mes-hall\"\n",
              " \"physics.optics physics.bio-ph\"\n",
              " \"quant-ph hep-th\"\n",
              " \"astro-ph\"\n",
              " \"math.PR math-ph math.MP\"\n",
              " \"astro-ph\"\n",
              " \"astro-ph\"\n",
              " \"math.AP\"\n",
              " ⋮\n",
              " \"cond-mat.mes-hall\"\n",
              " \"astro-ph\"\n",
              " \"cond-mat.str-el quant-ph\"\n",
              " \"quant-ph\"\n",
              " \"math.DS\"\n",
              " \"quant-ph\"\n",
              " \"cond-mat.soft\"\n",
              " \"astro-ph\"\n",
              " \"cs.GT\"\n",
              " \"cs.CY cs.IR physics.soc-ph\"\n",
              " \"math.CV\"\n",
              " \"hep-ph\""
            ]
          },
          "metadata": {},
          "execution_count": 182
        }
      ]
    },
    {
      "cell_type": "code",
      "source": [
        "minibatches = Flux.DataLoader((train[1], train[2]), batchsize=minibatchsize, shuffle=true)"
      ],
      "metadata": {
        "colab": {
          "base_uri": "https://localhost:8080/"
        },
        "id": "IV5xTIIJLk19",
        "outputId": "3132f9b1-2b0a-4cdc-f6e8-924a4c91e88a"
      },
      "execution_count": null,
      "outputs": [
        {
          "output_type": "execute_result",
          "data": {
            "text/plain": [
              "400-element DataLoader(::Tuple{SubArray{ProductNode{NamedTuple{(:update_date, :comments, :versions, :abstract, :license, Symbol(\"report-no\"), :authors_parsed, :doi, :authors, :submitter, :title, Symbol(\"journal-ref\")), Tuple{ArrayNode{NGramMatrix{String, Vector{String}, Int64}, Nothing}, ArrayNode{NGramMatrix{Union{Missing, String}, Vector{Union{Missing, String}}, Union{Missing, Int64}}, Nothing}, BagNode{ProductNode{NamedTuple{(:version, :created), Tuple{ArrayNode{OneHotArrays.OneHotMatrix{UInt32, Vector{UInt32}}, Nothing}, ArrayNode{NGramMatrix{String, Vector{String}, Int64}, Nothing}}}, Nothing}, AlignedBags{Int64}, Nothing}, ArrayNode{NGramMatrix{String, Vector{String}, Int64}, Nothing}, ArrayNode{MaybeHotMatrix{Union{Missing, UInt32}, Int64, Union{Missing, Bool}}, Nothing}, ArrayNode{NGramMatrix{Union{Missing, String}, Vector{Union{Missing, String}}, Union{Missing, Int64}}, Nothing}, BagNode{BagNode{ArrayNode{NGramMatrix{String, Vector{String}, Int64}, Nothing}, AlignedBags{Int64}, Nothing}, AlignedBags{Int64}, Nothing}, ArrayNode{NGramMatrix{Union{Missing, String}, Vector{Union{Missing, String}}, Union{Missing, Int64}}, Nothing}, ArrayNode{NGramMatrix{String, Vector{String}, Int64}, Nothing}, ArrayNode{NGramMatrix{String, Vector{String}, Int64}, Nothing}, ArrayNode{NGramMatrix{String, Vector{String}, Int64}, Nothing}, ArrayNode{NGramMatrix{Union{Missing, String}, Vector{Union{Missing, String}}, Union{Missing, Int64}}, Nothing}}}, Nothing}, 1, Vector{ProductNode{NamedTuple{(:update_date, :comments, :versions, :abstract, :license, Symbol(\"report-no\"), :authors_parsed, :doi, :authors, :submitter, :title, Symbol(\"journal-ref\")), Tuple{ArrayNode{NGramMatrix{String, Vector{String}, Int64}, Nothing}, ArrayNode{NGramMatrix{Union{Missing, String}, Vector{Union{Missing, String}}, Union{Missing, Int64}}, Nothing}, BagNode{ProductNode{NamedTuple{(:version, :created), Tuple{ArrayNode{OneHotArrays.OneHotMatrix{UInt32, Vector{UInt32}}, Nothing}, ArrayNode{NGramMatrix{String, Vector{String}, Int64}, Nothing}}}, Nothing}, AlignedBags{Int64}, Nothing}, ArrayNode{NGramMatrix{String, Vector{String}, Int64}, Nothing}, ArrayNode{MaybeHotMatrix{Union{Missing, UInt32}, Int64, Union{Missing, Bool}}, Nothing}, ArrayNode{NGramMatrix{Union{Missing, String}, Vector{Union{Missing, String}}, Union{Missing, Int64}}, Nothing}, BagNode{BagNode{ArrayNode{NGramMatrix{String, Vector{String}, Int64}, Nothing}, AlignedBags{Int64}, Nothing}, AlignedBags{Int64}, Nothing}, ArrayNode{NGramMatrix{Union{Missing, String}, Vector{Union{Missing, String}}, Union{Missing, Int64}}, Nothing}, ArrayNode{NGramMatrix{String, Vector{String}, Int64}, Nothing}, ArrayNode{NGramMatrix{String, Vector{String}, Int64}, Nothing}, ArrayNode{NGramMatrix{String, Vector{String}, Int64}, Nothing}, ArrayNode{NGramMatrix{Union{Missing, String}, Vector{Union{Missing, String}}, Union{Missing, Int64}}, Nothing}}}, Nothing}}, Tuple{Vector{Int64}}, false}, SubArray{String, 1, Vector{String}, Tuple{Vector{Int64}}, false}}, shuffle=true, batchsize=10)\n",
              "  with first element:\n",
              "  (10-element Vector{ProductNode{NamedTuple{(:update_date, :comments, :versions, :abstract, :license, Symbol(\"report-no\"), :authors_parsed, :doi, :authors, :submitter, :title, Symbol(\"journal-ref\")), Tuple{ArrayNode{NGramMatrix{String, Vector{String}, Int64}, Nothing}, ArrayNode{NGramMatrix{Union{Missing, String}, Vector{Union{Missing, String}}, Union{Missing, Int64}}, Nothing}, BagNode{ProductNode{NamedTuple{(:version, :created), Tuple{ArrayNode{OneHotArrays.OneHotMatrix{UInt32, Vector{UInt32}}, Nothing}, ArrayNode{NGramMatrix{String, Vector{String}, Int64}, Nothing}}}, Nothing}, AlignedBags{Int64}, Nothing}, ArrayNode{NGramMatrix{String, Vector{String}, Int64}, Nothing}, ArrayNode{MaybeHotMatrix{Union{Missing, UInt32}, Int64, Union{Missing, Bool}}, Nothing}, ArrayNode{NGramMatrix{Union{Missing, String}, Vector{Union{Missing, String}}, Union{Missing, Int64}}, Nothing}, BagNode{BagNode{ArrayNode{NGramMatrix{String, Vector{String}, Int64}, Nothing}, AlignedBags{Int64}, Nothing}, AlignedBags{Int64}, Nothing}, ArrayNode{NGramMatrix{Union{Missing, String}, Vector{Union{Missing, String}}, Union{Missing, Int64}}, Nothing}, ArrayNode{NGramMatrix{String, Vector{String}, Int64}, Nothing}, ArrayNode{NGramMatrix{String, Vector{String}, Int64}, Nothing}, ArrayNode{NGramMatrix{String, Vector{String}, Int64}, Nothing}, ArrayNode{NGramMatrix{Union{Missing, String}, Vector{Union{Missing, String}}, Union{Missing, Int64}}, Nothing}}}, Nothing}}, 10-element Vector{String},)"
            ]
          },
          "metadata": {},
          "execution_count": 74
        }
      ]
    },
    {
      "cell_type": "code",
      "source": [
        "ps = Flux.params(model)\n",
        "\n",
        "# Get the total number of parameters\n",
        "params_count = length(ps)\n",
        "\n",
        "println(\"Total number of parameters in the model: \", params_count)"
      ],
      "metadata": {
        "colab": {
          "base_uri": "https://localhost:8080/"
        },
        "id": "kM_B8NVDkAZW",
        "outputId": "48782864-e8a3-4e5d-9afc-4d2cd50c050f"
      },
      "execution_count": null,
      "outputs": [
        {
          "output_type": "stream",
          "name": "stdout",
          "text": [
            "Total number of parameters in the model: 49\n"
          ]
        }
      ]
    },
    {
      "cell_type": "code",
      "source": [
        "opt = Flux.Optimise.Adam()"
      ],
      "metadata": {
        "colab": {
          "base_uri": "https://localhost:8080/"
        },
        "id": "ZLglvYCZkFwu",
        "outputId": "f18b22fd-857e-48c7-9531-20968e8e2935"
      },
      "execution_count": null,
      "outputs": [
        {
          "output_type": "execute_result",
          "data": {
            "text/plain": [
              "Adam(0.001, (0.9, 0.999), 1.0e-8, IdDict{Any, Any}())"
            ]
          },
          "metadata": {},
          "execution_count": 97
        }
      ]
    },
    {
      "cell_type": "code",
      "source": [
        "x, y = first(minibatches)"
      ],
      "metadata": {
        "colab": {
          "base_uri": "https://localhost:8080/"
        },
        "id": "_PU8DARGj3af",
        "outputId": "07ea2fd3-fa0d-4d63-cbf3-92b1d860f730"
      },
      "execution_count": null,
      "outputs": [
        {
          "output_type": "execute_result",
          "data": {
            "text/plain": [
              "(ProductNode{NamedTuple{(:update_date, :comments, :versions, :abstract, :license, Symbol(\"report-no\"), :authors_parsed, :doi, :authors, :submitter, :title, Symbol(\"journal-ref\")), Tuple{ArrayNode{NGramMatrix{String, Vector{String}, Int64}, Nothing}, ArrayNode{NGramMatrix{Union{Missing, String}, Vector{Union{Missing, String}}, Union{Missing, Int64}}, Nothing}, BagNode{ProductNode{NamedTuple{(:version, :created), Tuple{ArrayNode{OneHotArrays.OneHotMatrix{UInt32, Vector{UInt32}}, Nothing}, ArrayNode{NGramMatrix{String, Vector{String}, Int64}, Nothing}}}, Nothing}, AlignedBags{Int64}, Nothing}, ArrayNode{NGramMatrix{String, Vector{String}, Int64}, Nothing}, ArrayNode{MaybeHotMatrix{Union{Missing, UInt32}, Int64, Union{Missing, Bool}}, Nothing}, ArrayNode{NGramMatrix{Union{Missing, String}, Vector{Union{Missing, String}}, Union{Missing, Int64}}, Nothing}, BagNode{BagNode{ArrayNode{NGramMatrix{String, Vector{String}, Int64}, Nothing}, AlignedBags{Int64}, Nothing}, AlignedBags{Int64}, Nothing}, ArrayNode{NGramMatrix{Union{Missing, String}, Vector{Union{Missing, String}}, Union{Missing, Int64}}, Nothing}, ArrayNode{NGramMatrix{String, Vector{String}, Int64}, Nothing}, ArrayNode{NGramMatrix{String, Vector{String}, Int64}, Nothing}, ArrayNode{NGramMatrix{String, Vector{String}, Int64}, Nothing}, ArrayNode{NGramMatrix{Union{Missing, String}, Vector{Union{Missing, String}}, Union{Missing, Int64}}, Nothing}}}, Nothing}[ProductNode, ProductNode, ProductNode, ProductNode, ProductNode, ProductNode, ProductNode, ProductNode, ProductNode, ProductNode], [\"cs.CC\", \"astro-ph\", \"cond-mat.str-el\", \"cond-mat.mtrl-sci\", \"astro-ph gr-qc\", \"hep-ph astro-ph hep-th\", \"cond-mat.soft\", \"nucl-th\", \"hep-th\", \"math.QA\"])"
            ]
          },
          "metadata": {},
          "execution_count": 96
        }
      ]
    },
    {
      "cell_type": "code",
      "source": [
        "loss(x, y)\n",
        "gs = gradient(() -> loss(x, y), ps)\n",
        "Flux.Optimise.update!(opt, ps, gs)"
      ],
      "metadata": {
        "id": "-9SUV1jPkPa1"
      },
      "execution_count": null,
      "outputs": []
    },
    {
      "cell_type": "code",
      "source": [
        "Flux.train!(loss, Flux.params(model),\n",
        "    minibatches,\n",
        "    ADAM())"
      ],
      "metadata": {
        "id": "8baUeKwkX5Qy"
      },
      "execution_count": null,
      "outputs": []
    }
  ],
  "metadata": {
    "accelerator": "GPU",
    "colab": {
      "gpuType": "T4",
      "provenance": [],
      "include_colab_link": true
    },
    "kernelspec": {
      "display_name": "julia 1.8.5",
      "name": "julia"
    }
  },
  "nbformat": 4,
  "nbformat_minor": 0
}